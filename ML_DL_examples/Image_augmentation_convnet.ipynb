{
  "nbformat": 4,
  "nbformat_minor": 0,
  "metadata": {
    "colab": {
      "provenance": [],
      "collapsed_sections": []
    },
    "kernelspec": {
      "name": "python3",
      "display_name": "Python 3"
    },
    "language_info": {
      "name": "python"
    },
    "accelerator": "GPU"
  },
  "cells": [
    {
      "cell_type": "code",
      "execution_count": null,
      "metadata": {
        "id": "AK5EAZ67lcK3"
      },
      "outputs": [],
      "source": [
        "\"\"\"\n",
        "An example of image augmentation for ConvNets.\n",
        "\"\"\""
      ]
    },
    {
      "cell_type": "code",
      "source": [
        "#Import libraries\n",
        "import numpy as np\n",
        "import pandas as pd\n",
        "import matplotlib.pyplot as plt\n",
        "import seaborn as sns\n",
        "\n",
        "import tensorflow as tf\n",
        "from tensorflow import keras\n",
        "from keras.datasets import fashion_mnist\n",
        "\n",
        "from sklearn.metrics import classification_report, confusion_matrix"
      ],
      "metadata": {
        "id": "E8ZDD9u2lu9a"
      },
      "execution_count": 1,
      "outputs": []
    },
    {
      "cell_type": "code",
      "source": [
        "#Load data\n",
        "\n",
        "(train_images,train_labels),(test_images,test_labels)=fashion_mnist.load_data()\n",
        "\n",
        "train_images=train_images.reshape(-1,28,28,1)\n",
        "test_images=test_images.reshape(-1,28,28,1)\n",
        "print(train_images.shape)\n",
        "sns.countplot(train_labels)\n",
        "plt.title(\"Training value distribution\")\n",
        "plt.show()"
      ],
      "metadata": {
        "colab": {
          "base_uri": "https://localhost:8080/",
          "height": 496
        },
        "id": "_6B0yuuHmGVy",
        "outputId": "dd3efcbd-8559-4d2d-ae20-18cd303295a4"
      },
      "execution_count": 2,
      "outputs": [
        {
          "output_type": "stream",
          "name": "stdout",
          "text": [
            "Downloading data from https://storage.googleapis.com/tensorflow/tf-keras-datasets/train-labels-idx1-ubyte.gz\n",
            "29515/29515 [==============================] - 0s 0us/step\n",
            "Downloading data from https://storage.googleapis.com/tensorflow/tf-keras-datasets/train-images-idx3-ubyte.gz\n",
            "26421880/26421880 [==============================] - 0s 0us/step\n",
            "Downloading data from https://storage.googleapis.com/tensorflow/tf-keras-datasets/t10k-labels-idx1-ubyte.gz\n",
            "5148/5148 [==============================] - 0s 0us/step\n",
            "Downloading data from https://storage.googleapis.com/tensorflow/tf-keras-datasets/t10k-images-idx3-ubyte.gz\n",
            "4422102/4422102 [==============================] - 0s 0us/step\n",
            "(60000, 28, 28, 1)\n"
          ]
        },
        {
          "output_type": "stream",
          "name": "stderr",
          "text": [
            "/usr/local/lib/python3.7/dist-packages/seaborn/_decorators.py:43: FutureWarning: Pass the following variable as a keyword arg: x. From version 0.12, the only valid positional argument will be `data`, and passing other arguments without an explicit keyword will result in an error or misinterpretation.\n",
            "  FutureWarning\n"
          ]
        },
        {
          "output_type": "display_data",
          "data": {
            "text/plain": [
              "<Figure size 432x288 with 1 Axes>"
            ],
            "image/png": "[encoded data removed]"
          },
          "metadata": {
            "needs_background": "light"
          }
        }
      ]
    },
    {
      "cell_type": "code",
      "source": [
        "#Set parameters\n",
        "BATCH=100\n",
        "EPOCHS=50\n",
        "IMG_SIZE=(28,28,1)\n",
        "STEPS=train_images.shape[0]//BATCH\n",
        "VAL_STEPS=test_images.shape[0]//BATCH\n",
        "NUM_CLASSES=10"
      ],
      "metadata": {
        "id": "3UpUowoyqo8j"
      },
      "execution_count": 3,
      "outputs": []
    },
    {
      "cell_type": "code",
      "source": [
        "train_img_gen=tf.keras.preprocessing.image.ImageDataGenerator(rescale=1/255.0,rotation_range=50,width_shift_range=0.5,height_shift_range=0.5,\n",
        "                                                          shear_range=0.5,zoom_range=0.5,horizontal_flip=True,fill_mode='nearest')\n",
        "train_gen=train_img_gen.flow(train_images,train_labels,batch_size=BATCH)\n",
        "\n",
        "val_img_gen=tf.keras.preprocessing.image.ImageDataGenerator(rescale=1/255.0)\n",
        "val_gen=val_img_gen.flow(test_images,test_labels,batch_size=BATCH)"
      ],
      "metadata": {
        "id": "9takxFz9mGTM"
      },
      "execution_count": 4,
      "outputs": []
    },
    {
      "cell_type": "code",
      "source": [
        "#Define model\n",
        "model=tf.keras.models.Sequential()\n",
        "model.add(tf.keras.layers.Conv2D(64,(3,3,),activation='relu',padding='valid',input_shape=(IMG_SIZE)))\n",
        "model.add(tf.keras.layers.MaxPooling2D())\n",
        "model.add(tf.keras.layers.Conv2D(128,(3,3,),activation='relu',padding='valid'))\n",
        "model.add(tf.keras.layers.MaxPooling2D())\n",
        "\n",
        "model.add(tf.keras.layers.Flatten())\n",
        "\n",
        "model.add(tf.keras.layers.Dense(256,activation='relu'))\n",
        "model.add(tf.keras.layers.Dropout(0.2))\n",
        "model.add(tf.keras.layers.Dense(128,activation='relu'))\n",
        "model.add(tf.keras.layers.Dropout(0.2))\n",
        "model.add(tf.keras.layers.Dense(64,activation='relu'))\n",
        "model.add(tf.keras.layers.Dropout(0.2))\n",
        "model.add(tf.keras.layers.Dense(NUM_CLASSES,activation='softmax'))\n",
        "\n",
        "model.summary()\n",
        "model.compile(optimizer='adam',loss='sparse_categorical_crossentropy',metrics=['accuracy'])"
      ],
      "metadata": {
        "colab": {
          "base_uri": "https://localhost:8080/"
        },
        "id": "t6CDYCZCsSHY",
        "outputId": "1f40f25a-1494-461f-9141-c9b9c1cff78d"
      },
      "execution_count": 5,
      "outputs": [
        {
          "output_type": "stream",
          "name": "stdout",
          "text": [
            "Model: \"sequential\"\n",
            "_________________________________________________________________\n",
            " Layer (type)                Output Shape              Param #   \n",
            "=================================================================\n",
            " conv2d (Conv2D)             (None, 26, 26, 64)        640       \n",
            "                                                                 \n",
            " max_pooling2d (MaxPooling2D  (None, 13, 13, 64)       0         \n",
            " )                                                               \n",
            "                                                                 \n",
            " conv2d_1 (Conv2D)           (None, 11, 11, 128)       73856     \n",
            "                                                                 \n",
            " max_pooling2d_1 (MaxPooling  (None, 5, 5, 128)        0         \n",
            " 2D)                                                             \n",
            "                                                                 \n",
            " flatten (Flatten)           (None, 3200)              0         \n",
            "                                                                 \n",
            " dense (Dense)               (None, 256)               819456    \n",
            "                                                                 \n",
            " dropout (Dropout)           (None, 256)               0         \n",
            "                                                                 \n",
            " dense_1 (Dense)             (None, 128)               32896     \n",
            "                                                                 \n",
            " dropout_1 (Dropout)         (None, 128)               0         \n",
            "                                                                 \n",
            " dense_2 (Dense)             (None, 64)                8256      \n",
            "                                                                 \n",
            " dropout_2 (Dropout)         (None, 64)                0         \n",
            "                                                                 \n",
            " dense_3 (Dense)             (None, 10)                650       \n",
            "                                                                 \n",
            "=================================================================\n",
            "Total params: 935,754\n",
            "Trainable params: 935,754\n",
            "Non-trainable params: 0\n",
            "_________________________________________________________________\n"
          ]
        }
      ]
    },
    {
      "cell_type": "code",
      "source": [
        "history=model.fit_generator(train_gen,epochs=EPOCHS,steps_per_epoch=STEPS,validation_data=val_gen, validation_steps=VAL_STEPS)"
      ],
      "metadata": {
        "colab": {
          "base_uri": "https://localhost:8080/"
        },
        "id": "j6TKRc5ilu49",
        "outputId": "b9ab7215-8a46-4c01-889f-d62d43f73168"
      },
      "execution_count": 6,
      "outputs": [
        {
          "output_type": "stream",
          "name": "stderr",
          "text": [
            "/usr/local/lib/python3.7/dist-packages/ipykernel_launcher.py:1: UserWarning: `Model.fit_generator` is deprecated and will be removed in a future version. Please use `Model.fit`, which supports generators.\n",
            "  \"\"\"Entry point for launching an IPython kernel.\n"
          ]
        },
        {
          "output_type": "stream",
          "name": "stdout",
          "text": [
            "Epoch 1/50\n",
            "600/600 [==============================] - 39s 48ms/step - loss: 1.8396 - accuracy: 0.3118 - val_loss: 1.1764 - val_accuracy: 0.5485\n",
            "Epoch 2/50\n",
            "600/600 [==============================] - 30s 49ms/step - loss: 1.4907 - accuracy: 0.4497 - val_loss: 1.0247 - val_accuracy: 0.6101\n",
            "Epoch 3/50\n",
            "600/600 [==============================] - 28s 47ms/step - loss: 1.3537 - accuracy: 0.5038 - val_loss: 0.8894 - val_accuracy: 0.6742\n",
            "Epoch 4/50\n",
            "600/600 [==============================] - 28s 47ms/step - loss: 1.2818 - accuracy: 0.5327 - val_loss: 0.9816 - val_accuracy: 0.6253\n",
            "Epoch 5/50\n",
            "600/600 [==============================] - 28s 47ms/step - loss: 1.2257 - accuracy: 0.5533 - val_loss: 0.9192 - val_accuracy: 0.6552\n",
            "Epoch 6/50\n",
            "600/600 [==============================] - 28s 46ms/step - loss: 1.1895 - accuracy: 0.5645 - val_loss: 0.9006 - val_accuracy: 0.6615\n",
            "Epoch 7/50\n",
            "600/600 [==============================] - 28s 46ms/step - loss: 1.1490 - accuracy: 0.5815 - val_loss: 0.8399 - val_accuracy: 0.6877\n",
            "Epoch 8/50\n",
            "600/600 [==============================] - 28s 46ms/step - loss: 1.1325 - accuracy: 0.5865 - val_loss: 0.9533 - val_accuracy: 0.6611\n",
            "Epoch 9/50\n",
            "600/600 [==============================] - 28s 46ms/step - loss: 1.1047 - accuracy: 0.5975 - val_loss: 0.8971 - val_accuracy: 0.6752\n",
            "Epoch 10/50\n",
            "600/600 [==============================] - 28s 46ms/step - loss: 1.0876 - accuracy: 0.6057 - val_loss: 0.9226 - val_accuracy: 0.6655\n",
            "Epoch 11/50\n",
            "600/600 [==============================] - 30s 49ms/step - loss: 1.0671 - accuracy: 0.6131 - val_loss: 1.0442 - val_accuracy: 0.6518\n",
            "Epoch 12/50\n",
            "600/600 [==============================] - 28s 46ms/step - loss: 1.0591 - accuracy: 0.6144 - val_loss: 0.8502 - val_accuracy: 0.7004\n",
            "Epoch 13/50\n",
            "600/600 [==============================] - 28s 46ms/step - loss: 1.0359 - accuracy: 0.6251 - val_loss: 0.8369 - val_accuracy: 0.6946\n",
            "Epoch 14/50\n",
            "600/600 [==============================] - 28s 46ms/step - loss: 1.0297 - accuracy: 0.6266 - val_loss: 0.8384 - val_accuracy: 0.6996\n",
            "Epoch 15/50\n",
            "600/600 [==============================] - 28s 47ms/step - loss: 1.0241 - accuracy: 0.6295 - val_loss: 0.8779 - val_accuracy: 0.6824\n",
            "Epoch 16/50\n",
            "600/600 [==============================] - 28s 46ms/step - loss: 1.0107 - accuracy: 0.6324 - val_loss: 0.8021 - val_accuracy: 0.7133\n",
            "Epoch 17/50\n",
            "600/600 [==============================] - 28s 46ms/step - loss: 0.9916 - accuracy: 0.6403 - val_loss: 0.7442 - val_accuracy: 0.7391\n",
            "Epoch 18/50\n",
            "600/600 [==============================] - 28s 46ms/step - loss: 0.9898 - accuracy: 0.6408 - val_loss: 0.8840 - val_accuracy: 0.6901\n",
            "Epoch 19/50\n",
            "600/600 [==============================] - 28s 46ms/step - loss: 0.9756 - accuracy: 0.6476 - val_loss: 0.7653 - val_accuracy: 0.7342\n",
            "Epoch 20/50\n",
            "600/600 [==============================] - 28s 46ms/step - loss: 0.9771 - accuracy: 0.6476 - val_loss: 0.8325 - val_accuracy: 0.7133\n",
            "Epoch 21/50\n",
            "600/600 [==============================] - 28s 46ms/step - loss: 0.9636 - accuracy: 0.6500 - val_loss: 0.7856 - val_accuracy: 0.7211\n",
            "Epoch 22/50\n",
            "600/600 [==============================] - 30s 49ms/step - loss: 0.9571 - accuracy: 0.6563 - val_loss: 0.8511 - val_accuracy: 0.7090\n",
            "Epoch 23/50\n",
            "600/600 [==============================] - 27s 46ms/step - loss: 0.9567 - accuracy: 0.6562 - val_loss: 0.8542 - val_accuracy: 0.7074\n",
            "Epoch 24/50\n",
            "600/600 [==============================] - 28s 46ms/step - loss: 0.9486 - accuracy: 0.6589 - val_loss: 0.7621 - val_accuracy: 0.7306\n",
            "Epoch 25/50\n",
            "600/600 [==============================] - 28s 46ms/step - loss: 0.9464 - accuracy: 0.6605 - val_loss: 0.9334 - val_accuracy: 0.6691\n",
            "Epoch 26/50\n",
            "600/600 [==============================] - 27s 46ms/step - loss: 0.9348 - accuracy: 0.6630 - val_loss: 0.9034 - val_accuracy: 0.6932\n",
            "Epoch 27/50\n",
            "600/600 [==============================] - 27s 45ms/step - loss: 0.9363 - accuracy: 0.6615 - val_loss: 0.7314 - val_accuracy: 0.7401\n",
            "Epoch 28/50\n",
            "600/600 [==============================] - 25s 41ms/step - loss: 0.9289 - accuracy: 0.6642 - val_loss: 0.8023 - val_accuracy: 0.7262\n",
            "Epoch 29/50\n",
            "600/600 [==============================] - 25s 42ms/step - loss: 0.9308 - accuracy: 0.6640 - val_loss: 0.7832 - val_accuracy: 0.7252\n",
            "Epoch 30/50\n",
            "600/600 [==============================] - 27s 45ms/step - loss: 0.9237 - accuracy: 0.6699 - val_loss: 0.8452 - val_accuracy: 0.7138\n",
            "Epoch 31/50\n",
            "600/600 [==============================] - 27s 45ms/step - loss: 0.9158 - accuracy: 0.6715 - val_loss: 0.7074 - val_accuracy: 0.7438\n",
            "Epoch 32/50\n",
            "600/600 [==============================] - 27s 45ms/step - loss: 0.9169 - accuracy: 0.6697 - val_loss: 0.8705 - val_accuracy: 0.7064\n",
            "Epoch 33/50\n",
            "600/600 [==============================] - 27s 44ms/step - loss: 0.9105 - accuracy: 0.6730 - val_loss: 0.8455 - val_accuracy: 0.7152\n",
            "Epoch 34/50\n",
            "600/600 [==============================] - 29s 48ms/step - loss: 0.9117 - accuracy: 0.6710 - val_loss: 0.8450 - val_accuracy: 0.7154\n",
            "Epoch 35/50\n",
            "600/600 [==============================] - 27s 44ms/step - loss: 0.8967 - accuracy: 0.6763 - val_loss: 0.7961 - val_accuracy: 0.7225\n",
            "Epoch 36/50\n",
            "600/600 [==============================] - 27s 45ms/step - loss: 0.9030 - accuracy: 0.6757 - val_loss: 0.8271 - val_accuracy: 0.7190\n",
            "Epoch 37/50\n",
            "600/600 [==============================] - 27s 44ms/step - loss: 0.8986 - accuracy: 0.6788 - val_loss: 0.8793 - val_accuracy: 0.7105\n",
            "Epoch 38/50\n",
            "600/600 [==============================] - 27s 45ms/step - loss: 0.8874 - accuracy: 0.6808 - val_loss: 0.7670 - val_accuracy: 0.7352\n",
            "Epoch 39/50\n",
            "600/600 [==============================] - 27s 44ms/step - loss: 0.9001 - accuracy: 0.6758 - val_loss: 0.7365 - val_accuracy: 0.7424\n",
            "Epoch 40/50\n",
            "600/600 [==============================] - 27s 44ms/step - loss: 0.8903 - accuracy: 0.6790 - val_loss: 0.7979 - val_accuracy: 0.7173\n",
            "Epoch 41/50\n",
            "600/600 [==============================] - 27s 44ms/step - loss: 0.8860 - accuracy: 0.6829 - val_loss: 0.8652 - val_accuracy: 0.7082\n",
            "Epoch 42/50\n",
            "600/600 [==============================] - 27s 44ms/step - loss: 0.8887 - accuracy: 0.6808 - val_loss: 0.7513 - val_accuracy: 0.7385\n",
            "Epoch 43/50\n",
            "600/600 [==============================] - 26s 44ms/step - loss: 0.8849 - accuracy: 0.6823 - val_loss: 0.8446 - val_accuracy: 0.7142\n",
            "Epoch 44/50\n",
            "600/600 [==============================] - 27s 45ms/step - loss: 0.8758 - accuracy: 0.6834 - val_loss: 0.8211 - val_accuracy: 0.7222\n",
            "Epoch 45/50\n",
            "600/600 [==============================] - 29s 48ms/step - loss: 0.8773 - accuracy: 0.6875 - val_loss: 0.7539 - val_accuracy: 0.7395\n",
            "Epoch 46/50\n",
            "600/600 [==============================] - 27s 44ms/step - loss: 0.8641 - accuracy: 0.6874 - val_loss: 0.7902 - val_accuracy: 0.7403\n",
            "Epoch 47/50\n",
            "600/600 [==============================] - 27s 44ms/step - loss: 0.8689 - accuracy: 0.6875 - val_loss: 0.8139 - val_accuracy: 0.7337\n",
            "Epoch 48/50\n",
            "600/600 [==============================] - 27s 44ms/step - loss: 0.8687 - accuracy: 0.6863 - val_loss: 0.7478 - val_accuracy: 0.7484\n",
            "Epoch 49/50\n",
            "600/600 [==============================] - 26s 44ms/step - loss: 0.8674 - accuracy: 0.6885 - val_loss: 0.7244 - val_accuracy: 0.7493\n",
            "Epoch 50/50\n",
            "600/600 [==============================] - 27s 44ms/step - loss: 0.8623 - accuracy: 0.6894 - val_loss: 0.7157 - val_accuracy: 0.7396\n"
          ]
        }
      ]
    },
    {
      "cell_type": "code",
      "source": [
        "epochs=history.epoch\n",
        "history=history.history\n",
        "\n",
        "print(\"Best epoch\",epochs[np.argmin(history['val_loss'])])"
      ],
      "metadata": {
        "colab": {
          "base_uri": "https://localhost:8080/"
        },
        "id": "aCGR_SGJlu2i",
        "outputId": "48383a69-0e4b-4d4d-a95d-9eb866f5422f"
      },
      "execution_count": 7,
      "outputs": [
        {
          "output_type": "stream",
          "name": "stdout",
          "text": [
            "Best epoch 30\n"
          ]
        }
      ]
    },
    {
      "cell_type": "code",
      "source": [
        "plt.plot(epochs,history['loss'],'-b',label='Training loss')\n",
        "plt.plot(epochs,history['val_loss'],'-r',label='Val loss')\n",
        "plt.legend()\n",
        "plt.show()\n",
        "plt.plot(epochs,history['accuracy'],'-b',label='Training accuracy')\n",
        "plt.plot(epochs,history['val_accuracy'],'-r',label='Val accuracy')\n",
        "plt.legend()\n",
        "plt.show()"
      ],
      "metadata": {
        "colab": {
          "base_uri": "https://localhost:8080/",
          "height": 513
        },
        "id": "ocZiT46Alu0S",
        "outputId": "2d108840-8e38-47fc-bef5-06ccededc935"
      },
      "execution_count": 8,
      "outputs": [
        {
          "output_type": "display_data",
          "data": {
            "text/plain": [
              "<Figure size 432x288 with 1 Axes>"
            ],
            "image/png": "[encoded data removed]"
          },
          "metadata": {
            "needs_background": "light"
          }
        },
        {
          "output_type": "display_data",
          "data": {
            "text/plain": [
              "<Figure size 432x288 with 1 Axes>"
            ],
            "image/png": "[encoded data removed]"
          },
          "metadata": {
            "needs_background": "light"
          }
        }
      ]
    }
  ]
}