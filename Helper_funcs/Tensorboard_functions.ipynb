{
  "nbformat": 4,
  "nbformat_minor": 0,
  "metadata": {
    "colab": {
      "provenance": [],
      "collapsed_sections": []
    },
    "kernelspec": {
      "name": "python3",
      "display_name": "Python 3"
    },
    "language_info": {
      "name": "python"
    },
    "accelerator": "GPU"
  },
  "cells": [
    {
      "cell_type": "code",
      "execution_count": 98,
      "metadata": {
        "id": "q5bSQ9byt1AP",
        "colab": {
          "base_uri": "https://localhost:8080/",
          "height": 35
        },
        "outputId": "9970d931-b9ad-4adb-ba6b-42681a1b1965"
      },
      "outputs": [
        {
          "output_type": "execute_result",
          "data": {
            "text/plain": [
              "'\\nAn example of tensorboard functionalities using a jupyter notebook.\\nMNIST faction dataset will be used as an example dataset.\\n'"
            ],
            "application/vnd.google.colaboratory.intrinsic+json": {
              "type": "string"
            }
          },
          "metadata": {},
          "execution_count": 98
        }
      ],
      "source": [
        "\"\"\"\n",
        "An example of tensorboard functionalities using a jupyter notebook.\n",
        "MNIST faction dataset will be used as an example dataset.\n",
        "\n",
        "#NOTE no extensive EDA will be included \n",
        "\"\"\""
      ]
    },
    {
      "cell_type": "code",
      "source": [
        "#Install tensorboard\n",
        "!pip install tensorboard"
      ],
      "metadata": {
        "id": "QuuU1bWRxD4U"
      },
      "execution_count": null,
      "outputs": []
    },
    {
      "cell_type": "code",
      "source": [
        "#Install libraries\n",
        "import os\n",
        "import datetime\n",
        "\n",
        "import numpy as np\n",
        "import pandas as pd\n",
        "import matplotlib.pyplot as plt\n",
        "import seaborn as sns\n",
        "\n",
        "import tensorflow as tf\n",
        "import tensorboard as tb \n",
        "from tensorflow import keras\n",
        "from keras.datasets import fashion_mnist\n",
        "\n",
        "from keras.models import Sequential\n",
        "from keras.layers import Dense, Dropout, Flatten\n",
        "\n",
        "from sklearn.model_selection import train_test_split\n",
        "from sklearn.metrics import classification_report, confusion_matrix"
      ],
      "metadata": {
        "id": "V1MAJ_KExSbd"
      },
      "execution_count": 99,
      "outputs": []
    },
    {
      "cell_type": "code",
      "source": [
        "#Set log folder\n",
        "\n",
        "#remove any existing logs\n",
        "!rm -rf logs/\n",
        "#For logging and tracking precise records set log time\n",
        "log_folder='logs/fit/'+datetime.datetime.now().strftime(\"Y%m%d-%H%M%S\")"
      ],
      "metadata": {
        "id": "mSDpbZVAyR1u"
      },
      "execution_count": 100,
      "outputs": []
    },
    {
      "cell_type": "code",
      "source": [
        "#Load and prepare data\n",
        "(X_train,y_train),(X_test,y_test)=fashion_mnist.load_data()\n",
        "\n",
        "#Scale data\n",
        "X_train=X_train.astype('float32')/255.0\n",
        "X_test=X_test.astype('float32')/255.0"
      ],
      "metadata": {
        "id": "AfVIljtSyUq6"
      },
      "execution_count": 101,
      "outputs": []
    },
    {
      "cell_type": "code",
      "source": [
        "print(\"Train data\",X_train.shape)\n",
        "print(\"Test data\",X_test.shape)"
      ],
      "metadata": {
        "colab": {
          "base_uri": "https://localhost:8080/"
        },
        "id": "UnXiZAwz1Wlh",
        "outputId": "e1de595e-d8ad-4390-bc9d-34f799beba7e"
      },
      "execution_count": 102,
      "outputs": [
        {
          "output_type": "stream",
          "name": "stdout",
          "text": [
            "Train data (60000, 28, 28)\n",
            "Test data (10000, 28, 28)\n"
          ]
        }
      ]
    },
    {
      "cell_type": "code",
      "source": [
        "#Explore data\n",
        "sns.countplot(y_train)\n",
        "plt.show()\n",
        "\n",
        "img=X_train[1,:]\n",
        "plt.imshow(img,cmap='binary')\n",
        "plt.show()"
      ],
      "metadata": {
        "colab": {
          "base_uri": "https://localhost:8080/",
          "height": 568
        },
        "id": "i3-VT5--yUiD",
        "outputId": "34088876-7ea0-475b-b0db-052bf5e26e3a"
      },
      "execution_count": 103,
      "outputs": [
        {
          "output_type": "stream",
          "name": "stderr",
          "text": [
            "/usr/local/lib/python3.7/dist-packages/seaborn/_decorators.py:43: FutureWarning: Pass the following variable as a keyword arg: x. From version 0.12, the only valid positional argument will be `data`, and passing other arguments without an explicit keyword will result in an error or misinterpretation.\n",
            "  FutureWarning\n"
          ]
        },
        {
          "output_type": "display_data",
          "data": {
            "text/plain": [
              "<Figure size 432x288 with 1 Axes>"
            ],
            "image/png": "[encoded data removed]"
          },
          "metadata": {
            "needs_background": "light"
          }
        },
        {
          "output_type": "display_data",
          "data": {
            "text/plain": [
              "<Figure size 432x288 with 1 Axes>"
            ],
            "image/png": "[encoded data removed]"
          },
          "metadata": {
            "needs_background": "light"
          }
        }
      ]
    },
    {
      "cell_type": "code",
      "source": [
        "\n",
        "#Set parameters\n",
        "es=tf.keras.callbacks.EarlyStopping(patience=10,monitor='val_loss',min_delta=80)\n",
        "tb_cb=tf.keras.callbacks.TensorBoard(log_dir=log_folder,histogram_freq=1,embeddings_freq=1,write_graph=1,write_images=1,update_freq='epoch',\n",
        "                                     profile_batch=2)\n",
        "\n",
        "EPOCHS=100\n",
        "INPUT_SHAPE=X_train.shape[1:]\n",
        "BATCH=256\n",
        "VAL_SPLIT=0.2\n",
        "NUM_CLASSES=10\n"
      ],
      "metadata": {
        "id": "DIfJdiksyUWP"
      },
      "execution_count": 104,
      "outputs": []
    },
    {
      "cell_type": "code",
      "source": [
        "#Prepare a deep learning model\n",
        "\n",
        "model=Sequential()\n",
        "\n",
        "model.add(Flatten(input_shape=INPUT_SHAPE))\n",
        "model.add(Dense(512,activation='selu'))\n",
        "model.add(Dropout(0.2))\n",
        "model.add(Dense(256,activation='selu'))\n",
        "model.add(Dropout(0.2))\n",
        "model.add(Dense(128,activation='selu'))\n",
        "model.add(Dropout(0.2))\n",
        "model.add(Dense(64,activation='selu'))\n",
        "model.add(Dropout(0.2))\n",
        "model.add(Dense(32,activation='selu'))\n",
        "model.add(Dropout(0.2))\n",
        "\n",
        "model.add(Dense(NUM_CLASSES,activation='softmax'))\n",
        "\n",
        "model.summary()\n",
        "model.compile(loss='sparse_categorical_crossentropy',optimizer='adam',metrics=['accuracy'])"
      ],
      "metadata": {
        "id": "wC8K4KTa1mv0",
        "colab": {
          "base_uri": "https://localhost:8080/"
        },
        "outputId": "78cef1bc-51e5-4efe-b0e4-d04c5ebc71a2"
      },
      "execution_count": 105,
      "outputs": [
        {
          "output_type": "stream",
          "name": "stdout",
          "text": [
            "Model: \"sequential_12\"\n",
            "_________________________________________________________________\n",
            " Layer (type)                Output Shape              Param #   \n",
            "=================================================================\n",
            " flatten_12 (Flatten)        (None, 784)               0         \n",
            "                                                                 \n",
            " dense_66 (Dense)            (None, 512)               401920    \n",
            "                                                                 \n",
            " dropout_55 (Dropout)        (None, 512)               0         \n",
            "                                                                 \n",
            " dense_67 (Dense)            (None, 256)               131328    \n",
            "                                                                 \n",
            " dropout_56 (Dropout)        (None, 256)               0         \n",
            "                                                                 \n",
            " dense_68 (Dense)            (None, 128)               32896     \n",
            "                                                                 \n",
            " dropout_57 (Dropout)        (None, 128)               0         \n",
            "                                                                 \n",
            " dense_69 (Dense)            (None, 64)                8256      \n",
            "                                                                 \n",
            " dropout_58 (Dropout)        (None, 64)                0         \n",
            "                                                                 \n",
            " dense_70 (Dense)            (None, 32)                2080      \n",
            "                                                                 \n",
            " dropout_59 (Dropout)        (None, 32)                0         \n",
            "                                                                 \n",
            " dense_71 (Dense)            (None, 10)                330       \n",
            "                                                                 \n",
            "=================================================================\n",
            "Total params: 576,810\n",
            "Trainable params: 576,810\n",
            "Non-trainable params: 0\n",
            "_________________________________________________________________\n"
          ]
        }
      ]
    },
    {
      "cell_type": "markdown",
      "source": [],
      "metadata": {
        "id": "RCIsWRTP8oYB"
      }
    },
    {
      "cell_type": "code",
      "source": [
        "from keras.callbacks import TensorBoard\n",
        "#Train model\n",
        "#load tensorboard\n",
        "%load_ext tensorboard\n",
        "history=model.fit(X_train,y_train,batch_size=BATCH,epochs=EPOCHS,validation_split=VAL_SPLIT,callbacks=[tb_cb]) #es can be included also"
      ],
      "metadata": {
        "colab": {
          "base_uri": "https://localhost:8080/"
        },
        "id": "sjQhxEai98Pb",
        "outputId": "1cbda8ab-172e-4eb2-fce6-90fc8d8c5a42"
      },
      "execution_count": 106,
      "outputs": [
        {
          "output_type": "stream",
          "name": "stdout",
          "text": [
            "The tensorboard extension is already loaded. To reload it, use:\n",
            "  %reload_ext tensorboard\n",
            "Epoch 1/100\n",
            "188/188 [==============================] - 2s 8ms/step - loss: 0.9912 - accuracy: 0.6852 - val_loss: 0.4703 - val_accuracy: 0.8347\n",
            "Epoch 2/100\n",
            "188/188 [==============================] - 1s 6ms/step - loss: 0.6082 - accuracy: 0.7943 - val_loss: 0.4174 - val_accuracy: 0.8507\n",
            "Epoch 3/100\n",
            "188/188 [==============================] - 1s 6ms/step - loss: 0.5241 - accuracy: 0.8162 - val_loss: 0.3983 - val_accuracy: 0.8578\n",
            "Epoch 4/100\n",
            "188/188 [==============================] - 1s 6ms/step - loss: 0.4829 - accuracy: 0.8311 - val_loss: 0.3934 - val_accuracy: 0.8593\n",
            "Epoch 5/100\n",
            "188/188 [==============================] - 1s 6ms/step - loss: 0.4488 - accuracy: 0.8422 - val_loss: 0.3963 - val_accuracy: 0.8585\n",
            "Epoch 6/100\n",
            "188/188 [==============================] - 1s 6ms/step - loss: 0.4276 - accuracy: 0.8497 - val_loss: 0.3835 - val_accuracy: 0.8623\n",
            "Epoch 7/100\n",
            "188/188 [==============================] - 1s 6ms/step - loss: 0.4132 - accuracy: 0.8535 - val_loss: 0.3649 - val_accuracy: 0.8679\n",
            "Epoch 8/100\n",
            "188/188 [==============================] - 1s 6ms/step - loss: 0.4045 - accuracy: 0.8558 - val_loss: 0.3678 - val_accuracy: 0.8661\n",
            "Epoch 9/100\n",
            "188/188 [==============================] - 1s 6ms/step - loss: 0.3894 - accuracy: 0.8621 - val_loss: 0.3664 - val_accuracy: 0.8677\n",
            "Epoch 10/100\n",
            "188/188 [==============================] - 1s 6ms/step - loss: 0.3764 - accuracy: 0.8650 - val_loss: 0.3598 - val_accuracy: 0.8752\n",
            "Epoch 11/100\n",
            "188/188 [==============================] - 1s 6ms/step - loss: 0.3679 - accuracy: 0.8683 - val_loss: 0.3575 - val_accuracy: 0.8729\n",
            "Epoch 12/100\n",
            "188/188 [==============================] - 1s 6ms/step - loss: 0.3630 - accuracy: 0.8701 - val_loss: 0.3582 - val_accuracy: 0.8725\n",
            "Epoch 13/100\n",
            "188/188 [==============================] - 1s 6ms/step - loss: 0.3568 - accuracy: 0.8714 - val_loss: 0.3364 - val_accuracy: 0.8783\n",
            "Epoch 14/100\n",
            "188/188 [==============================] - 1s 6ms/step - loss: 0.3490 - accuracy: 0.8741 - val_loss: 0.3422 - val_accuracy: 0.8767\n",
            "Epoch 15/100\n",
            "188/188 [==============================] - 1s 6ms/step - loss: 0.3454 - accuracy: 0.8755 - val_loss: 0.3398 - val_accuracy: 0.8814\n",
            "Epoch 16/100\n",
            "188/188 [==============================] - 1s 6ms/step - loss: 0.3367 - accuracy: 0.8780 - val_loss: 0.3414 - val_accuracy: 0.8783\n",
            "Epoch 17/100\n",
            "188/188 [==============================] - 1s 6ms/step - loss: 0.3342 - accuracy: 0.8804 - val_loss: 0.3588 - val_accuracy: 0.8783\n",
            "Epoch 18/100\n",
            "188/188 [==============================] - 1s 6ms/step - loss: 0.3256 - accuracy: 0.8819 - val_loss: 0.3395 - val_accuracy: 0.8803\n",
            "Epoch 19/100\n",
            "188/188 [==============================] - 1s 6ms/step - loss: 0.3241 - accuracy: 0.8834 - val_loss: 0.3386 - val_accuracy: 0.8831\n",
            "Epoch 20/100\n",
            "188/188 [==============================] - 1s 6ms/step - loss: 0.3174 - accuracy: 0.8860 - val_loss: 0.3245 - val_accuracy: 0.8843\n",
            "Epoch 21/100\n",
            "188/188 [==============================] - 1s 6ms/step - loss: 0.3113 - accuracy: 0.8876 - val_loss: 0.3319 - val_accuracy: 0.8800\n",
            "Epoch 22/100\n",
            "188/188 [==============================] - 1s 6ms/step - loss: 0.3049 - accuracy: 0.8901 - val_loss: 0.3341 - val_accuracy: 0.8795\n",
            "Epoch 23/100\n",
            "188/188 [==============================] - 1s 6ms/step - loss: 0.3089 - accuracy: 0.8876 - val_loss: 0.3143 - val_accuracy: 0.8861\n",
            "Epoch 24/100\n",
            "188/188 [==============================] - 1s 6ms/step - loss: 0.2996 - accuracy: 0.8913 - val_loss: 0.3219 - val_accuracy: 0.8882\n",
            "Epoch 25/100\n",
            "188/188 [==============================] - 1s 6ms/step - loss: 0.2977 - accuracy: 0.8915 - val_loss: 0.3308 - val_accuracy: 0.8798\n",
            "Epoch 26/100\n",
            "188/188 [==============================] - 1s 6ms/step - loss: 0.2957 - accuracy: 0.8925 - val_loss: 0.3387 - val_accuracy: 0.8823\n",
            "Epoch 27/100\n",
            "188/188 [==============================] - 1s 6ms/step - loss: 0.2935 - accuracy: 0.8944 - val_loss: 0.3196 - val_accuracy: 0.8855\n",
            "Epoch 28/100\n",
            "188/188 [==============================] - 1s 7ms/step - loss: 0.2851 - accuracy: 0.8959 - val_loss: 0.3144 - val_accuracy: 0.8883\n",
            "Epoch 29/100\n",
            "188/188 [==============================] - 1s 6ms/step - loss: 0.2850 - accuracy: 0.8961 - val_loss: 0.3342 - val_accuracy: 0.8844\n",
            "Epoch 30/100\n",
            "188/188 [==============================] - 1s 6ms/step - loss: 0.2824 - accuracy: 0.8970 - val_loss: 0.3169 - val_accuracy: 0.8903\n",
            "Epoch 31/100\n",
            "188/188 [==============================] - 1s 6ms/step - loss: 0.2785 - accuracy: 0.8993 - val_loss: 0.3425 - val_accuracy: 0.8798\n",
            "Epoch 32/100\n",
            "188/188 [==============================] - 1s 6ms/step - loss: 0.2734 - accuracy: 0.8990 - val_loss: 0.3080 - val_accuracy: 0.8932\n",
            "Epoch 33/100\n",
            "188/188 [==============================] - 1s 6ms/step - loss: 0.2698 - accuracy: 0.9013 - val_loss: 0.3340 - val_accuracy: 0.8890\n",
            "Epoch 34/100\n",
            "188/188 [==============================] - 1s 6ms/step - loss: 0.2653 - accuracy: 0.9031 - val_loss: 0.3306 - val_accuracy: 0.8873\n",
            "Epoch 35/100\n",
            "188/188 [==============================] - 1s 6ms/step - loss: 0.2683 - accuracy: 0.9019 - val_loss: 0.3455 - val_accuracy: 0.8818\n",
            "Epoch 36/100\n",
            "188/188 [==============================] - 1s 6ms/step - loss: 0.2655 - accuracy: 0.9025 - val_loss: 0.3345 - val_accuracy: 0.8898\n",
            "Epoch 37/100\n",
            "188/188 [==============================] - 1s 6ms/step - loss: 0.2616 - accuracy: 0.9049 - val_loss: 0.3019 - val_accuracy: 0.8961\n",
            "Epoch 38/100\n",
            "188/188 [==============================] - 1s 6ms/step - loss: 0.2549 - accuracy: 0.9080 - val_loss: 0.3259 - val_accuracy: 0.8845\n",
            "Epoch 39/100\n",
            "188/188 [==============================] - 1s 6ms/step - loss: 0.2572 - accuracy: 0.9063 - val_loss: 0.3074 - val_accuracy: 0.8918\n",
            "Epoch 40/100\n",
            "188/188 [==============================] - 2s 9ms/step - loss: 0.2521 - accuracy: 0.9067 - val_loss: 0.3125 - val_accuracy: 0.8882\n",
            "Epoch 41/100\n",
            "188/188 [==============================] - 2s 9ms/step - loss: 0.2505 - accuracy: 0.9074 - val_loss: 0.3219 - val_accuracy: 0.8913\n",
            "Epoch 42/100\n",
            "188/188 [==============================] - 2s 9ms/step - loss: 0.2506 - accuracy: 0.9074 - val_loss: 0.3140 - val_accuracy: 0.8963\n",
            "Epoch 43/100\n",
            "188/188 [==============================] - 1s 6ms/step - loss: 0.2415 - accuracy: 0.9124 - val_loss: 0.3108 - val_accuracy: 0.8967\n",
            "Epoch 44/100\n",
            "188/188 [==============================] - 1s 6ms/step - loss: 0.2468 - accuracy: 0.9093 - val_loss: 0.3135 - val_accuracy: 0.8922\n",
            "Epoch 45/100\n",
            "188/188 [==============================] - 1s 6ms/step - loss: 0.2436 - accuracy: 0.9114 - val_loss: 0.3037 - val_accuracy: 0.8988\n",
            "Epoch 46/100\n",
            "188/188 [==============================] - 1s 6ms/step - loss: 0.2380 - accuracy: 0.9123 - val_loss: 0.3280 - val_accuracy: 0.8896\n",
            "Epoch 47/100\n",
            "188/188 [==============================] - 1s 6ms/step - loss: 0.2328 - accuracy: 0.9145 - val_loss: 0.3234 - val_accuracy: 0.8926\n",
            "Epoch 48/100\n",
            "188/188 [==============================] - 1s 6ms/step - loss: 0.2346 - accuracy: 0.9157 - val_loss: 0.3304 - val_accuracy: 0.8940\n",
            "Epoch 49/100\n",
            "188/188 [==============================] - 1s 6ms/step - loss: 0.2310 - accuracy: 0.9150 - val_loss: 0.3166 - val_accuracy: 0.8926\n",
            "Epoch 50/100\n",
            "188/188 [==============================] - 1s 6ms/step - loss: 0.2305 - accuracy: 0.9164 - val_loss: 0.3066 - val_accuracy: 0.8994\n",
            "Epoch 51/100\n",
            "188/188 [==============================] - 1s 6ms/step - loss: 0.2311 - accuracy: 0.9144 - val_loss: 0.3239 - val_accuracy: 0.8946\n",
            "Epoch 52/100\n",
            "188/188 [==============================] - 1s 6ms/step - loss: 0.2282 - accuracy: 0.9171 - val_loss: 0.3243 - val_accuracy: 0.8942\n",
            "Epoch 53/100\n",
            "188/188 [==============================] - 1s 6ms/step - loss: 0.2251 - accuracy: 0.9185 - val_loss: 0.3187 - val_accuracy: 0.8940\n",
            "Epoch 54/100\n",
            "188/188 [==============================] - 1s 6ms/step - loss: 0.2232 - accuracy: 0.9177 - val_loss: 0.3325 - val_accuracy: 0.8919\n",
            "Epoch 55/100\n",
            "188/188 [==============================] - 1s 6ms/step - loss: 0.2177 - accuracy: 0.9211 - val_loss: 0.3085 - val_accuracy: 0.8969\n",
            "Epoch 56/100\n",
            "188/188 [==============================] - 1s 6ms/step - loss: 0.2169 - accuracy: 0.9213 - val_loss: 0.3200 - val_accuracy: 0.8996\n",
            "Epoch 57/100\n",
            "188/188 [==============================] - 1s 7ms/step - loss: 0.2171 - accuracy: 0.9196 - val_loss: 0.3098 - val_accuracy: 0.8988\n",
            "Epoch 58/100\n",
            "188/188 [==============================] - 1s 6ms/step - loss: 0.2170 - accuracy: 0.9206 - val_loss: 0.3103 - val_accuracy: 0.8957\n",
            "Epoch 59/100\n",
            "188/188 [==============================] - 1s 6ms/step - loss: 0.2147 - accuracy: 0.9224 - val_loss: 0.3082 - val_accuracy: 0.8942\n",
            "Epoch 60/100\n",
            "188/188 [==============================] - 1s 6ms/step - loss: 0.2098 - accuracy: 0.9225 - val_loss: 0.3377 - val_accuracy: 0.8965\n",
            "Epoch 61/100\n",
            "188/188 [==============================] - 1s 6ms/step - loss: 0.2098 - accuracy: 0.9224 - val_loss: 0.3313 - val_accuracy: 0.8936\n",
            "Epoch 62/100\n",
            "188/188 [==============================] - 1s 6ms/step - loss: 0.2107 - accuracy: 0.9236 - val_loss: 0.3233 - val_accuracy: 0.8978\n",
            "Epoch 63/100\n",
            "188/188 [==============================] - 1s 6ms/step - loss: 0.2062 - accuracy: 0.9248 - val_loss: 0.3396 - val_accuracy: 0.8941\n",
            "Epoch 64/100\n",
            "188/188 [==============================] - 1s 6ms/step - loss: 0.2066 - accuracy: 0.9247 - val_loss: 0.3209 - val_accuracy: 0.8972\n",
            "Epoch 65/100\n",
            "188/188 [==============================] - 1s 6ms/step - loss: 0.1987 - accuracy: 0.9273 - val_loss: 0.3182 - val_accuracy: 0.8975\n",
            "Epoch 66/100\n",
            "188/188 [==============================] - 1s 6ms/step - loss: 0.2013 - accuracy: 0.9254 - val_loss: 0.3216 - val_accuracy: 0.8954\n",
            "Epoch 67/100\n",
            "188/188 [==============================] - 1s 6ms/step - loss: 0.2015 - accuracy: 0.9262 - val_loss: 0.3265 - val_accuracy: 0.8998\n",
            "Epoch 68/100\n",
            "188/188 [==============================] - 1s 6ms/step - loss: 0.1976 - accuracy: 0.9275 - val_loss: 0.3128 - val_accuracy: 0.9007\n",
            "Epoch 69/100\n",
            "188/188 [==============================] - 1s 6ms/step - loss: 0.1907 - accuracy: 0.9293 - val_loss: 0.3323 - val_accuracy: 0.8986\n",
            "Epoch 70/100\n",
            "188/188 [==============================] - 1s 6ms/step - loss: 0.2033 - accuracy: 0.9262 - val_loss: 0.3394 - val_accuracy: 0.8973\n",
            "Epoch 71/100\n",
            "188/188 [==============================] - 1s 6ms/step - loss: 0.1926 - accuracy: 0.9298 - val_loss: 0.3358 - val_accuracy: 0.8947\n",
            "Epoch 72/100\n",
            "188/188 [==============================] - 1s 6ms/step - loss: 0.1955 - accuracy: 0.9300 - val_loss: 0.3278 - val_accuracy: 0.8967\n",
            "Epoch 73/100\n",
            "188/188 [==============================] - 1s 6ms/step - loss: 0.1954 - accuracy: 0.9280 - val_loss: 0.3277 - val_accuracy: 0.8932\n",
            "Epoch 74/100\n",
            "188/188 [==============================] - 1s 6ms/step - loss: 0.1887 - accuracy: 0.9318 - val_loss: 0.3247 - val_accuracy: 0.8988\n",
            "Epoch 75/100\n",
            "188/188 [==============================] - 1s 6ms/step - loss: 0.1875 - accuracy: 0.9310 - val_loss: 0.3507 - val_accuracy: 0.8945\n",
            "Epoch 76/100\n",
            "188/188 [==============================] - 1s 6ms/step - loss: 0.1854 - accuracy: 0.9337 - val_loss: 0.3451 - val_accuracy: 0.8957\n",
            "Epoch 77/100\n",
            "188/188 [==============================] - 1s 6ms/step - loss: 0.1889 - accuracy: 0.9306 - val_loss: 0.3373 - val_accuracy: 0.8939\n",
            "Epoch 78/100\n",
            "188/188 [==============================] - 1s 6ms/step - loss: 0.1856 - accuracy: 0.9317 - val_loss: 0.3350 - val_accuracy: 0.8907\n",
            "Epoch 79/100\n",
            "188/188 [==============================] - 1s 6ms/step - loss: 0.1820 - accuracy: 0.9317 - val_loss: 0.3276 - val_accuracy: 0.8982\n",
            "Epoch 80/100\n",
            "188/188 [==============================] - 1s 6ms/step - loss: 0.1808 - accuracy: 0.9338 - val_loss: 0.3138 - val_accuracy: 0.8985\n",
            "Epoch 81/100\n",
            "188/188 [==============================] - 1s 6ms/step - loss: 0.1821 - accuracy: 0.9338 - val_loss: 0.3266 - val_accuracy: 0.8973\n",
            "Epoch 82/100\n",
            "188/188 [==============================] - 1s 6ms/step - loss: 0.1764 - accuracy: 0.9350 - val_loss: 0.3312 - val_accuracy: 0.8966\n",
            "Epoch 83/100\n",
            "188/188 [==============================] - 1s 6ms/step - loss: 0.1750 - accuracy: 0.9353 - val_loss: 0.3363 - val_accuracy: 0.8988\n",
            "Epoch 84/100\n",
            "188/188 [==============================] - 1s 6ms/step - loss: 0.1750 - accuracy: 0.9362 - val_loss: 0.3356 - val_accuracy: 0.9025\n",
            "Epoch 85/100\n",
            "188/188 [==============================] - 1s 6ms/step - loss: 0.1823 - accuracy: 0.9329 - val_loss: 0.3399 - val_accuracy: 0.8992\n",
            "Epoch 86/100\n",
            "188/188 [==============================] - 1s 6ms/step - loss: 0.1763 - accuracy: 0.9355 - val_loss: 0.3405 - val_accuracy: 0.9018\n",
            "Epoch 87/100\n",
            "188/188 [==============================] - 1s 6ms/step - loss: 0.1723 - accuracy: 0.9369 - val_loss: 0.3312 - val_accuracy: 0.9007\n",
            "Epoch 88/100\n",
            "188/188 [==============================] - 1s 6ms/step - loss: 0.1729 - accuracy: 0.9358 - val_loss: 0.3273 - val_accuracy: 0.9007\n",
            "Epoch 89/100\n",
            "188/188 [==============================] - 1s 6ms/step - loss: 0.1704 - accuracy: 0.9369 - val_loss: 0.3483 - val_accuracy: 0.9003\n",
            "Epoch 90/100\n",
            "188/188 [==============================] - 1s 6ms/step - loss: 0.1687 - accuracy: 0.9388 - val_loss: 0.3377 - val_accuracy: 0.8986\n",
            "Epoch 91/100\n",
            "188/188 [==============================] - 1s 6ms/step - loss: 0.1711 - accuracy: 0.9374 - val_loss: 0.3418 - val_accuracy: 0.8948\n",
            "Epoch 92/100\n",
            "188/188 [==============================] - 1s 6ms/step - loss: 0.1653 - accuracy: 0.9395 - val_loss: 0.3338 - val_accuracy: 0.8981\n",
            "Epoch 93/100\n",
            "188/188 [==============================] - 1s 6ms/step - loss: 0.1662 - accuracy: 0.9391 - val_loss: 0.3371 - val_accuracy: 0.8967\n",
            "Epoch 94/100\n",
            "188/188 [==============================] - 1s 6ms/step - loss: 0.1677 - accuracy: 0.9381 - val_loss: 0.3340 - val_accuracy: 0.8994\n",
            "Epoch 95/100\n",
            "188/188 [==============================] - 1s 6ms/step - loss: 0.1655 - accuracy: 0.9390 - val_loss: 0.3448 - val_accuracy: 0.8994\n",
            "Epoch 96/100\n",
            "188/188 [==============================] - 1s 6ms/step - loss: 0.1642 - accuracy: 0.9399 - val_loss: 0.3450 - val_accuracy: 0.8984\n",
            "Epoch 97/100\n",
            "188/188 [==============================] - 1s 6ms/step - loss: 0.1635 - accuracy: 0.9406 - val_loss: 0.3568 - val_accuracy: 0.8993\n",
            "Epoch 98/100\n",
            "188/188 [==============================] - 1s 6ms/step - loss: 0.1619 - accuracy: 0.9401 - val_loss: 0.3453 - val_accuracy: 0.9005\n",
            "Epoch 99/100\n",
            "188/188 [==============================] - 1s 6ms/step - loss: 0.1592 - accuracy: 0.9411 - val_loss: 0.3394 - val_accuracy: 0.8980\n",
            "Epoch 100/100\n",
            "188/188 [==============================] - 1s 6ms/step - loss: 0.1585 - accuracy: 0.9415 - val_loss: 0.3522 - val_accuracy: 0.8996\n"
          ]
        }
      ]
    },
    {
      "cell_type": "markdown",
      "source": [
        "This time callbacks for early stopping are not used since we want to assess a range of behaviours for the model which include early fittingt, any fluctuations and overfitting."
      ],
      "metadata": {
        "id": "ImobPwKwH4ER"
      }
    },
    {
      "cell_type": "code",
      "source": [
        "#Assess model performance\n",
        "epochs=history.epoch\n",
        "history=history.history"
      ],
      "metadata": {
        "id": "OZM2GF5uAJC0"
      },
      "execution_count": null,
      "outputs": []
    },
    {
      "cell_type": "code",
      "source": [
        "print(\"Best epoch\",np.argmin(history['val_loss']),\"\\n\")\n",
        "print(\"Model evaluation \\n\")\n",
        "results=model.evaluate(X_test,y_test)\n",
        "print(results,\"\\n\")\n",
        "\n",
        "y_pred=model.predict(X_test)\n",
        "print(classification_report(y_test,np.argmax(y_pred,axis=1)))\n",
        "\n",
        "plt.plot(epochs,history['loss'],'-b',label=\"Training loss\")\n",
        "plt.plot(epochs,history['val_loss'],'-r',label=\"Validation loss\")\n",
        "plt.legend()\n",
        "plt.title(\"Model loss\")\n",
        "plt.show()\n",
        "\n",
        "plt.plot(epochs,history['accuracy'],'-b',label=\"Training accuracy\")\n",
        "plt.plot(epochs,history['val_accuracy'],'-r',label=\"Validation accuracy\")\n",
        "plt.legend()\n",
        "plt.title(\"Model accuracy\")\n",
        "plt.show()"
      ],
      "metadata": {
        "colab": {
          "base_uri": "https://localhost:8080/",
          "height": 969
        },
        "id": "3yIrOuk9-cBP",
        "outputId": "66899dee-d67f-4b63-8aed-66f34f44b1e3"
      },
      "execution_count": null,
      "outputs": [
        {
          "output_type": "stream",
          "name": "stdout",
          "text": [
            "Best epoch 53 \n",
            "\n",
            "Model evaluation \n",
            "\n",
            "313/313 [==============================] - 1s 2ms/step - loss: 0.5029 - accuracy: 0.9002\n",
            "[0.5029205679893494, 0.9002000093460083] \n",
            "\n",
            "              precision    recall  f1-score   support\n",
            "\n",
            "           0       0.85      0.86      0.85      1000\n",
            "           1       0.99      0.98      0.98      1000\n",
            "           2       0.82      0.85      0.84      1000\n",
            "           3       0.91      0.90      0.91      1000\n",
            "           4       0.83      0.84      0.83      1000\n",
            "           5       0.98      0.97      0.98      1000\n",
            "           6       0.75      0.73      0.74      1000\n",
            "           7       0.92      0.98      0.95      1000\n",
            "           8       0.98      0.96      0.97      1000\n",
            "           9       0.98      0.93      0.96      1000\n",
            "\n",
            "    accuracy                           0.90     10000\n",
            "   macro avg       0.90      0.90      0.90     10000\n",
            "weighted avg       0.90      0.90      0.90     10000\n",
            "\n"
          ]
        },
        {
          "output_type": "display_data",
          "data": {
            "text/plain": [
              "<Figure size 432x288 with 1 Axes>"
            ],
            "image/png": "[encoded data removed]"
          },
          "metadata": {
            "needs_background": "light"
          }
        },
        {
          "output_type": "display_data",
          "data": {
            "text/plain": [
              "<Figure size 432x288 with 1 Axes>"
            ],
            "image/png": "[encoded data removed]"
          },
          "metadata": {
            "needs_background": "light"
          }
        }
      ]
    },
    {
      "cell_type": "code",
      "source": [
        "sns.heatmap(confusion_matrix(y_test,np.argmax(y_pred,axis=1)),annot=True,cmap=\"Blues\",fmt='g')\n",
        "plt.xlabel(\"Predicted\")\n",
        "plt.ylabel(\"True values\")\n",
        "plt.show()"
      ],
      "metadata": {
        "id": "ct5pO-591mtF",
        "colab": {
          "base_uri": "https://localhost:8080/",
          "height": 279
        },
        "outputId": "3c0d264d-8b51-4205-dd78-a20e1553d11a"
      },
      "execution_count": 92,
      "outputs": [
        {
          "output_type": "display_data",
          "data": {
            "text/plain": [
              "<Figure size 432x288 with 2 Axes>"
            ],
            "image/png": "[encoded data removed]"
          },
          "metadata": {
            "needs_background": "light"
          }
        }
      ]
    },
    {
      "cell_type": "code",
      "source": [
        "\n",
        "#Define additional functions for tensorbaord to evaluate images\n",
        "file_writer=tf.summary.create_file_writer(log_folder)\n",
        "\n",
        "#Inspect 10 images\n",
        "with file_writer.as_default():\n",
        "  images=np.reshape(X_train[:10],(-1,28,28,1))\n",
        "  tf.summary.image(\"Items\",images,max_outputs=20,step=0)\n",
        "\n"
      ],
      "metadata": {
        "id": "sMa5c7mkX8rj"
      },
      "execution_count": null,
      "outputs": []
    },
    {
      "cell_type": "code",
      "source": [
        "#Load tensorbaord to explore the model in depth\n",
        "%tensorboard --logdir logs #for the notebook, call specific logs folder\n"
      ],
      "metadata": {
        "id": "8xGSWUCTJiTu"
      },
      "execution_count": null,
      "outputs": []
    }
  ]
}