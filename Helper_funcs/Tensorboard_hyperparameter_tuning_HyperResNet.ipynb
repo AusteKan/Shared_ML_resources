{
  "nbformat": 4,
  "nbformat_minor": 0,
  "metadata": {
    "colab": {
      "provenance": [],
      "collapsed_sections": []
    },
    "kernelspec": {
      "name": "python3",
      "display_name": "Python 3"
    },
    "language_info": {
      "name": "python"
    },
    "accelerator": "GPU"
  },
  "cells": [
    {
      "cell_type": "code",
      "execution_count": 1,
      "metadata": {
        "colab": {
          "base_uri": "https://localhost:8080/",
          "height": 71
        },
        "id": "1_6ZDf4KuvF8",
        "outputId": "73082d72-ff8c-4d5b-9b84-e63f82741cc1"
      },
      "outputs": [
        {
          "output_type": "execute_result",
          "data": {
            "text/plain": [
              "'\\nAn example of tensorboard functionalities and hyperparameter tuning using a jupyter notebook.\\nMNIST fashion dataset will be used as an example dataset.\\n\\nThe model hypertuning will be performed using keras-tuner.\\nAn additional model to compare outputs will be created using HyperResNet parameter search.\\n\\n#NOTE no extensive EDA will be included \\n'"
            ],
            "application/vnd.google.colaboratory.intrinsic+json": {
              "type": "string"
            }
          },
          "metadata": {},
          "execution_count": 1
        }
      ],
      "source": [
        "\"\"\"\n",
        "An example of tensorboard functionalities and hyperparameter tuning using a jupyter notebook.\n",
        "MNIST fashion dataset will be used as an example dataset.\n",
        "\n",
        "The model hypertuning will be performed using keras-tuner.\n",
        "An additional model to compare outputs will be created using HyperResNet parameter search.\n",
        "\n",
        "#NOTE no extensive EDA will be included \n",
        "\"\"\""
      ]
    },
    {
      "cell_type": "code",
      "source": [
        "#Install tensorboard\n",
        "!pip install tensorboard\n",
        "#Install keras tuner\n",
        "!pip install keras-tuner -q\n"
      ],
      "metadata": {
        "colab": {
          "base_uri": "https://localhost:8080/"
        },
        "id": "evxcU7pLuzsm",
        "outputId": "5ac793ea-ff2c-4f56-c989-add253a46270"
      },
      "execution_count": 2,
      "outputs": [
        {
          "output_type": "stream",
          "name": "stdout",
          "text": [
            "Looking in indexes: https://pypi.org/simple, https://us-python.pkg.dev/colab-wheels/public/simple/\n",
            "Requirement already satisfied: tensorboard in /usr/local/lib/python3.7/dist-packages (2.8.0)\n",
            "Requirement already satisfied: protobuf>=3.6.0 in /usr/local/lib/python3.7/dist-packages (from tensorboard) (3.17.3)\n",
            "Requirement already satisfied: werkzeug>=0.11.15 in /usr/local/lib/python3.7/dist-packages (from tensorboard) (1.0.1)\n",
            "Requirement already satisfied: markdown>=2.6.8 in /usr/local/lib/python3.7/dist-packages (from tensorboard) (3.4.1)\n",
            "Requirement already satisfied: requests<3,>=2.21.0 in /usr/local/lib/python3.7/dist-packages (from tensorboard) (2.23.0)\n",
            "Requirement already satisfied: grpcio>=1.24.3 in /usr/local/lib/python3.7/dist-packages (from tensorboard) (1.48.1)\n",
            "Requirement already satisfied: absl-py>=0.4 in /usr/local/lib/python3.7/dist-packages (from tensorboard) (1.2.0)\n",
            "Requirement already satisfied: tensorboard-data-server<0.7.0,>=0.6.0 in /usr/local/lib/python3.7/dist-packages (from tensorboard) (0.6.1)\n",
            "Requirement already satisfied: google-auth<3,>=1.6.3 in /usr/local/lib/python3.7/dist-packages (from tensorboard) (1.35.0)\n",
            "Requirement already satisfied: google-auth-oauthlib<0.5,>=0.4.1 in /usr/local/lib/python3.7/dist-packages (from tensorboard) (0.4.6)\n",
            "Requirement already satisfied: setuptools>=41.0.0 in /usr/local/lib/python3.7/dist-packages (from tensorboard) (57.4.0)\n",
            "Requirement already satisfied: tensorboard-plugin-wit>=1.6.0 in /usr/local/lib/python3.7/dist-packages (from tensorboard) (1.8.1)\n",
            "Requirement already satisfied: numpy>=1.12.0 in /usr/local/lib/python3.7/dist-packages (from tensorboard) (1.21.6)\n",
            "Requirement already satisfied: wheel>=0.26 in /usr/local/lib/python3.7/dist-packages (from tensorboard) (0.37.1)\n",
            "Requirement already satisfied: rsa<5,>=3.1.4 in /usr/local/lib/python3.7/dist-packages (from google-auth<3,>=1.6.3->tensorboard) (4.9)\n",
            "Requirement already satisfied: six>=1.9.0 in /usr/local/lib/python3.7/dist-packages (from google-auth<3,>=1.6.3->tensorboard) (1.15.0)\n",
            "Requirement already satisfied: cachetools<5.0,>=2.0.0 in /usr/local/lib/python3.7/dist-packages (from google-auth<3,>=1.6.3->tensorboard) (4.2.4)\n",
            "Requirement already satisfied: pyasn1-modules>=0.2.1 in /usr/local/lib/python3.7/dist-packages (from google-auth<3,>=1.6.3->tensorboard) (0.2.8)\n",
            "Requirement already satisfied: requests-oauthlib>=0.7.0 in /usr/local/lib/python3.7/dist-packages (from google-auth-oauthlib<0.5,>=0.4.1->tensorboard) (1.3.1)\n",
            "Requirement already satisfied: importlib-metadata>=4.4 in /usr/local/lib/python3.7/dist-packages (from markdown>=2.6.8->tensorboard) (4.12.0)\n",
            "Requirement already satisfied: typing-extensions>=3.6.4 in /usr/local/lib/python3.7/dist-packages (from importlib-metadata>=4.4->markdown>=2.6.8->tensorboard) (4.1.1)\n",
            "Requirement already satisfied: zipp>=0.5 in /usr/local/lib/python3.7/dist-packages (from importlib-metadata>=4.4->markdown>=2.6.8->tensorboard) (3.8.1)\n",
            "Requirement already satisfied: pyasn1<0.5.0,>=0.4.6 in /usr/local/lib/python3.7/dist-packages (from pyasn1-modules>=0.2.1->google-auth<3,>=1.6.3->tensorboard) (0.4.8)\n",
            "Requirement already satisfied: urllib3!=1.25.0,!=1.25.1,<1.26,>=1.21.1 in /usr/local/lib/python3.7/dist-packages (from requests<3,>=2.21.0->tensorboard) (1.24.3)\n",
            "Requirement already satisfied: chardet<4,>=3.0.2 in /usr/local/lib/python3.7/dist-packages (from requests<3,>=2.21.0->tensorboard) (3.0.4)\n",
            "Requirement already satisfied: idna<3,>=2.5 in /usr/local/lib/python3.7/dist-packages (from requests<3,>=2.21.0->tensorboard) (2.10)\n",
            "Requirement already satisfied: certifi>=2017.4.17 in /usr/local/lib/python3.7/dist-packages (from requests<3,>=2.21.0->tensorboard) (2022.6.15)\n",
            "Requirement already satisfied: oauthlib>=3.0.0 in /usr/local/lib/python3.7/dist-packages (from requests-oauthlib>=0.7.0->google-auth-oauthlib<0.5,>=0.4.1->tensorboard) (3.2.0)\n",
            "\u001b[K     |████████████████████████████████| 135 kB 4.1 MB/s \n",
            "\u001b[K     |████████████████████████████████| 1.6 MB 28.6 MB/s \n",
            "\u001b[?25h"
          ]
        }
      ]
    },
    {
      "cell_type": "code",
      "source": [
        "#Install libraries\n",
        "import os\n",
        "import datetime\n",
        "\n",
        "import numpy as np\n",
        "import pandas as pd\n",
        "import matplotlib.pyplot as plt\n",
        "import seaborn as sns\n",
        "\n",
        "import tensorflow as tf\n",
        "import tensorboard as tb \n",
        "from tensorflow import keras\n",
        "from keras.datasets import fashion_mnist\n",
        "\n",
        "from keras.models import Sequential\n",
        "from keras.layers import Dense, Dropout, Flatten, Conv2D, MaxPooling2D, GlobalAveragePooling2D\n",
        "\n",
        "from sklearn.model_selection import train_test_split\n",
        "from sklearn.metrics import classification_report, confusion_matrix\n",
        "\n",
        "\n",
        "import keras_tuner"
      ],
      "metadata": {
        "id": "meW01m7TvJ_z"
      },
      "execution_count": 3,
      "outputs": []
    },
    {
      "cell_type": "code",
      "source": [
        "#Set log folder\n",
        "\n",
        "#remove any existing logs\n",
        "!rm -rf logs/\n",
        "#For logging and tracking precise records set log time\n",
        "log_folder='logs/fit/'+datetime.datetime.now().strftime(\"Y%m%d-%H%M%S\")"
      ],
      "metadata": {
        "id": "JfLeF0UGvJ9r"
      },
      "execution_count": 4,
      "outputs": []
    },
    {
      "cell_type": "code",
      "source": [
        "#Load and prepare data\n",
        "(X_train,y_train),(X_test,y_test)=fashion_mnist.load_data()\n",
        "\n",
        "#Scale data\n",
        "X_train=X_train.astype('float32')/255.0\n",
        "X_test=X_test.astype('float32')/255.0\n",
        "\n",
        "print(\"Train data\",X_train.shape)\n",
        "print(\"Test data\",X_test.shape)\n",
        "\n",
        "#Explore data\n",
        "sns.countplot(y_train)\n",
        "plt.show()\n",
        "\n",
        "img=X_train[1,:]\n",
        "plt.imshow(img,cmap='binary')\n",
        "plt.show()"
      ],
      "metadata": {
        "colab": {
          "base_uri": "https://localhost:8080/",
          "height": 798
        },
        "id": "EycavMKxvOpQ",
        "outputId": "f3c5d5b0-6349-40f2-ef0f-272f18c30c71"
      },
      "execution_count": 5,
      "outputs": [
        {
          "output_type": "stream",
          "name": "stdout",
          "text": [
            "Downloading data from https://storage.googleapis.com/tensorflow/tf-keras-datasets/train-labels-idx1-ubyte.gz\n",
            "32768/29515 [=================================] - 0s 0us/step\n",
            "40960/29515 [=========================================] - 0s 0us/step\n",
            "Downloading data from https://storage.googleapis.com/tensorflow/tf-keras-datasets/train-images-idx3-ubyte.gz\n",
            "26427392/26421880 [==============================] - 0s 0us/step\n",
            "26435584/26421880 [==============================] - 0s 0us/step\n",
            "Downloading data from https://storage.googleapis.com/tensorflow/tf-keras-datasets/t10k-labels-idx1-ubyte.gz\n",
            "16384/5148 [===============================================================================================] - 0s 0us/step\n",
            "Downloading data from https://storage.googleapis.com/tensorflow/tf-keras-datasets/t10k-images-idx3-ubyte.gz\n",
            "4423680/4422102 [==============================] - 0s 0us/step\n",
            "4431872/4422102 [==============================] - 0s 0us/step\n",
            "Train data (60000, 28, 28)\n",
            "Test data (10000, 28, 28)\n"
          ]
        },
        {
          "output_type": "stream",
          "name": "stderr",
          "text": [
            "/usr/local/lib/python3.7/dist-packages/seaborn/_decorators.py:43: FutureWarning: Pass the following variable as a keyword arg: x. From version 0.12, the only valid positional argument will be `data`, and passing other arguments without an explicit keyword will result in an error or misinterpretation.\n",
            "  FutureWarning\n"
          ]
        },
        {
          "output_type": "display_data",
          "data": {
            "text/plain": [
              "<Figure size 432x288 with 1 Axes>"
            ],
            "image/png": "[encoded data removed]"
          },
          "metadata": {
            "needs_background": "light"
          }
        },
        {
          "output_type": "display_data",
          "data": {
            "text/plain": [
              "<Figure size 432x288 with 1 Axes>"
            ],
            "image/png": "[encoded data removed]"
          },
          "metadata": {
            "needs_background": "light"
          }
        }
      ]
    },
    {
      "cell_type": "code",
      "source": [
        "#Set parameters\n",
        "es=tf.keras.callbacks.EarlyStopping(patience=10,monitor='val_loss')\n",
        "tb_cb=tf.keras.callbacks.TensorBoard(log_dir=log_folder,histogram_freq=1,embeddings_freq=1,write_graph=1,write_images=1,update_freq='epoch',\n",
        "                                     profile_batch=2)\n",
        "\n",
        "EPOCHS=100\n",
        "INPUT_SHAPE=(28,28,1)\n",
        "BATCH=256\n",
        "VAL_SPLIT=0.2\n",
        "NUM_CLASSES=10\n"
      ],
      "metadata": {
        "id": "BgFAEZFevOmM"
      },
      "execution_count": 6,
      "outputs": []
    },
    {
      "cell_type": "code",
      "source": [
        "#Build a model for hyperparameter tuning\n",
        "#The model will explore several different architectures\n",
        "\n",
        "def model_builder(hp):\n",
        "\n",
        "  input=tf.keras.Input(shape=INPUT_SHAPE)\n",
        "  #define model\n",
        "  model_choice=hp.Choice('model_type',['MLP','CNN'])\n",
        "  x=input\n",
        "\n",
        "  if model_choice=='MLP':\n",
        "    x=Flatten()(x)\n",
        "    for i in range(hp.Int('MLP_layers',2,5)):\n",
        "\n",
        "      x=Dense(hp.Int(f\"units_{i}\",16,256,step=16),activation='relu')(x)\n",
        "      x=Dropout(hp.Float(f\"dropout_{i}\",0.1,0.5,step=0.1))(x)\n",
        "  elif model_choice==\"CNN\":\n",
        "    \n",
        "    for i in range(hp.Int(\"Conv_blocks\",1,3,step=1)):\n",
        "      filters=hp.Int(f\"Filters_{i}\",32,256,step=32)\n",
        "      x=Conv2D(filters,kernel_size=(3,3),activation='relu')(x)\n",
        "      x=MaxPooling2D((2,2))(x)\n",
        "    \n",
        "    if hp.Choice('pooling',['Flat','MAX'])=='Flat':\n",
        "      x=Flatten()(x)\n",
        "    else:\n",
        "      x=GlobalAveragePooling2D()(x)\n",
        "\n",
        "    x=Dense(hp.Int(\"conv_units_1\",64,256,step=64),activation='relu')(x)\n",
        "    x=Dropout(hp.Float(\"conv_dropout_2\",0.1,0.5,step=0.1))(x)\n",
        "    x=Dense(hp.Int(\"conv_units_2\",16,64,step=16),activation='relu')(x)\n",
        "\n",
        "  output=Dense(NUM_CLASSES,activation='softmax')(x)\n",
        "\n",
        "  model=tf.keras.Model(inputs=input,outputs=output)\n",
        "\n",
        "  model.compile(loss='sparse_categorical_crossentropy',optimizer=hp.Choice('optimzer',['adam','rmsprop','sgd']),metrics=['accuracy'])\n",
        "  \n",
        "  return model\n"
      ],
      "metadata": {
        "id": "irespFrSvJ7I"
      },
      "execution_count": 7,
      "outputs": []
    },
    {
      "cell_type": "code",
      "source": [
        "#Check model\n",
        "hp=keras_tuner.HyperParameters()\n",
        "hp.values['model_type']=\"MLP\"\n",
        "model=model_builder(hp)\n",
        "model(X_train[:100]) #see if model can run with the data\n",
        "print(model.summary())\n",
        "\n",
        "hp.values['model_type']=\"CNN\"\n",
        "model=model_builder(hp)\n",
        "model(X_train[:100]) #see if model can run with the data\n",
        "print(model.summary())"
      ],
      "metadata": {
        "colab": {
          "base_uri": "https://localhost:8080/"
        },
        "id": "Mi4kDfVMvJ5B",
        "outputId": "74273833-99ec-4182-c49b-2c70ee90a1b8"
      },
      "execution_count": 8,
      "outputs": [
        {
          "output_type": "stream",
          "name": "stdout",
          "text": [
            "Model: \"model\"\n",
            "_________________________________________________________________\n",
            " Layer (type)                Output Shape              Param #   \n",
            "=================================================================\n",
            " input_1 (InputLayer)        [(None, 28, 28, 1)]       0         \n",
            "                                                                 \n",
            " flatten (Flatten)           (None, 784)               0         \n",
            "                                                                 \n",
            " dense (Dense)               (None, 16)                12560     \n",
            "                                                                 \n",
            " dropout (Dropout)           (None, 16)                0         \n",
            "                                                                 \n",
            " dense_1 (Dense)             (None, 16)                272       \n",
            "                                                                 \n",
            " dropout_1 (Dropout)         (None, 16)                0         \n",
            "                                                                 \n",
            " dense_2 (Dense)             (None, 10)                170       \n",
            "                                                                 \n",
            "=================================================================\n",
            "Total params: 13,002\n",
            "Trainable params: 13,002\n",
            "Non-trainable params: 0\n",
            "_________________________________________________________________\n",
            "None\n",
            "Model: \"model_1\"\n",
            "_________________________________________________________________\n",
            " Layer (type)                Output Shape              Param #   \n",
            "=================================================================\n",
            " input_2 (InputLayer)        [(None, 28, 28, 1)]       0         \n",
            "                                                                 \n",
            " conv2d (Conv2D)             (None, 26, 26, 32)        320       \n",
            "                                                                 \n",
            " max_pooling2d (MaxPooling2D  (None, 13, 13, 32)       0         \n",
            " )                                                               \n",
            "                                                                 \n",
            " flatten_1 (Flatten)         (None, 5408)              0         \n",
            "                                                                 \n",
            " dense_3 (Dense)             (None, 64)                346176    \n",
            "                                                                 \n",
            " dropout_2 (Dropout)         (None, 64)                0         \n",
            "                                                                 \n",
            " dense_4 (Dense)             (None, 16)                1040      \n",
            "                                                                 \n",
            " dense_5 (Dense)             (None, 10)                170       \n",
            "                                                                 \n",
            "=================================================================\n",
            "Total params: 347,706\n",
            "Trainable params: 347,706\n",
            "Non-trainable params: 0\n",
            "_________________________________________________________________\n",
            "None\n"
          ]
        }
      ]
    },
    {
      "cell_type": "code",
      "source": [
        "#Setup the tuner\n",
        "tuner=keras_tuner.RandomSearch(model_builder,max_trials=10,overwrite=True,objective='val_accuracy',directory=log_folder)"
      ],
      "metadata": {
        "id": "6bgWj38h6uem"
      },
      "execution_count": 9,
      "outputs": []
    },
    {
      "cell_type": "code",
      "source": [
        "#Search for the best model\n",
        "tuner.search(X_train,y_train,validation_split=VAL_SPLIT,epochs=10,callbacks=[tb_cb]) #you can also use early stopping"
      ],
      "metadata": {
        "colab": {
          "base_uri": "https://localhost:8080/"
        },
        "id": "-B546WqmvJ22",
        "outputId": "40683747-250d-4555-8571-ad4e5e057dd0"
      },
      "execution_count": 10,
      "outputs": [
        {
          "output_type": "stream",
          "name": "stdout",
          "text": [
            "Trial 10 Complete [00h 01m 23s]\n",
            "val_accuracy: 0.8685833215713501\n",
            "\n",
            "Best val_accuracy So Far: 0.9161666631698608\n",
            "Total elapsed time: 00h 12m 18s\n"
          ]
        }
      ]
    },
    {
      "cell_type": "code",
      "source": [
        "#Explore tensorboard outputs\n",
        "%load_ext tensorboard\n",
        "%tensorboard --logdir logs"
      ],
      "metadata": {
        "id": "XeGFYDZa7JTp"
      },
      "execution_count": null,
      "outputs": []
    },
    {
      "cell_type": "code",
      "source": [
        "best_model=tuner.get_best_models(1)[0] #get the best model\n",
        "best_params=tuner.get_best_hyperparameters(1)[0] #get best model parameters\n",
        "\n",
        "print(\"Best parameters \\n\")\n",
        "print(best_params.values)"
      ],
      "metadata": {
        "colab": {
          "base_uri": "https://localhost:8080/"
        },
        "id": "DDs0QkTX7JRT",
        "outputId": "9d5188c6-5b6b-4b82-d041-a389fa61dd85"
      },
      "execution_count": 11,
      "outputs": [
        {
          "output_type": "stream",
          "name": "stdout",
          "text": [
            "Best parameters \n",
            "\n",
            "{'model_type': 'CNN', 'MLP_layers': 2, 'units_0': 96, 'dropout_0': 0.2, 'units_1': 192, 'dropout_1': 0.4, 'optimzer': 'adam', 'Conv_blocks': 2, 'Filters_0': 192, 'pooling': 'Flat', 'conv_units_1': 256, 'conv_dropout_2': 0.4, 'conv_units_2': 48, 'Filters_1': 224}\n"
          ]
        }
      ]
    },
    {
      "cell_type": "code",
      "source": [
        "#Train the best parameters \n",
        "#hypermodel=tuner.hypermodel.build(best_params)\n",
        "history=best_model.fit(X_train,y_train,epochs=EPOCHS,validation_split=VAL_SPLIT,callbacks=[es])\n",
        "\n",
        "epochs=history.epoch\n",
        "history=history.history\n",
        "\n",
        "print(\"Best epoch\",np.argmin(history['val_loss']))\n",
        "\n",
        "plt.plot(epochs,history['loss'],'-b',label='Train loss')\n",
        "plt.plot(epochs,history['val_loss'],'-r',label='Val loss')\n",
        "plt.legend()\n",
        "plt.title('Model loss')\n",
        "plt.show()\n",
        "plt.plot(epochs,history['accuracy'],'-b',label='Train accuracy')\n",
        "plt.plot(epochs,history['val_accuracy'],'-r',label='Val accuracy')\n",
        "plt.legend()\n",
        "plt.title('Model accuracy')\n",
        "plt.show()"
      ],
      "metadata": {
        "colab": {
          "base_uri": "https://localhost:8080/",
          "height": 1000
        },
        "id": "0jCJiksb7JO8",
        "outputId": "6a38eff3-78d3-4616-e668-2df88e96ec00"
      },
      "execution_count": 12,
      "outputs": [
        {
          "output_type": "stream",
          "name": "stdout",
          "text": [
            "Epoch 1/100\n",
            "1500/1500 [==============================] - 11s 7ms/step - loss: 0.1497 - accuracy: 0.9446 - val_loss: 0.2698 - val_accuracy: 0.9088\n",
            "Epoch 2/100\n",
            "1500/1500 [==============================] - 8s 6ms/step - loss: 0.1397 - accuracy: 0.9488 - val_loss: 0.2755 - val_accuracy: 0.9128\n",
            "Epoch 3/100\n",
            "1500/1500 [==============================] - 8s 6ms/step - loss: 0.1300 - accuracy: 0.9519 - val_loss: 0.2558 - val_accuracy: 0.9165\n",
            "Epoch 4/100\n",
            "1500/1500 [==============================] - 9s 6ms/step - loss: 0.1193 - accuracy: 0.9552 - val_loss: 0.2840 - val_accuracy: 0.9166\n",
            "Epoch 5/100\n",
            "1500/1500 [==============================] - 9s 6ms/step - loss: 0.1111 - accuracy: 0.9585 - val_loss: 0.2919 - val_accuracy: 0.9174\n",
            "Epoch 6/100\n",
            "1500/1500 [==============================] - 9s 6ms/step - loss: 0.1063 - accuracy: 0.9594 - val_loss: 0.3064 - val_accuracy: 0.9171\n",
            "Epoch 7/100\n",
            "1500/1500 [==============================] - 8s 6ms/step - loss: 0.0977 - accuracy: 0.9633 - val_loss: 0.3252 - val_accuracy: 0.9180\n",
            "Epoch 8/100\n",
            "1500/1500 [==============================] - 9s 6ms/step - loss: 0.0942 - accuracy: 0.9654 - val_loss: 0.3057 - val_accuracy: 0.9188\n",
            "Epoch 9/100\n",
            "1500/1500 [==============================] - 8s 6ms/step - loss: 0.0882 - accuracy: 0.9672 - val_loss: 0.3569 - val_accuracy: 0.9163\n",
            "Epoch 10/100\n",
            "1500/1500 [==============================] - 8s 6ms/step - loss: 0.0825 - accuracy: 0.9690 - val_loss: 0.3491 - val_accuracy: 0.9114\n",
            "Epoch 11/100\n",
            "1500/1500 [==============================] - 9s 6ms/step - loss: 0.0807 - accuracy: 0.9703 - val_loss: 0.3263 - val_accuracy: 0.9178\n",
            "Epoch 12/100\n",
            "1500/1500 [==============================] - 9s 6ms/step - loss: 0.0758 - accuracy: 0.9723 - val_loss: 0.3663 - val_accuracy: 0.9150\n",
            "Epoch 13/100\n",
            "1500/1500 [==============================] - 9s 6ms/step - loss: 0.0723 - accuracy: 0.9739 - val_loss: 0.3474 - val_accuracy: 0.9189\n",
            "Best epoch 2\n"
          ]
        },
        {
          "output_type": "display_data",
          "data": {
            "text/plain": [
              "<Figure size 432x288 with 1 Axes>"
            ],
            "image/png": "[encoded data removed]"
          },
          "metadata": {
            "needs_background": "light"
          }
        },
        {
          "output_type": "display_data",
          "data": {
            "text/plain": [
              "<Figure size 432x288 with 1 Axes>"
            ],
            "image/png": "[encoded data removed]"
          },
          "metadata": {
            "needs_background": "light"
          }
        }
      ]
    },
    {
      "cell_type": "code",
      "source": [
        "#Evaluate the model\n",
        "results=best_model.evaluate(X_test,y_test)\n",
        "print(\"Model evaluation \\n\",results)\n",
        "\n",
        "y_pred=best_model.predict(X_test)\n",
        "\n",
        "print(classification_report(y_test,np.argmax(y_pred,axis=1)))\n",
        "\n",
        "sns.heatmap(confusion_matrix(y_test,np.argmax(y_pred,axis=1)),cmap='Blues',annot=True,fmt='g')\n",
        "plt.xlabel(\"Predicted\")\n",
        "plt.ylabel(\"Actual values\")\n",
        "plt.show()"
      ],
      "metadata": {
        "colab": {
          "base_uri": "https://localhost:8080/",
          "height": 632
        },
        "id": "v1B36ufIyk0c",
        "outputId": "9aad1fce-3ef6-408f-a8c7-4ea7e12dc5f5"
      },
      "execution_count": 13,
      "outputs": [
        {
          "output_type": "stream",
          "name": "stdout",
          "text": [
            "313/313 [==============================] - 2s 6ms/step - loss: 0.3898 - accuracy: 0.9149\n",
            "Model evaluation \n",
            " [0.38978031277656555, 0.914900004863739]\n",
            "              precision    recall  f1-score   support\n",
            "\n",
            "           0       0.85      0.86      0.86      1000\n",
            "           1       1.00      0.98      0.99      1000\n",
            "           2       0.85      0.89      0.87      1000\n",
            "           3       0.91      0.94      0.92      1000\n",
            "           4       0.88      0.87      0.87      1000\n",
            "           5       0.99      0.98      0.98      1000\n",
            "           6       0.77      0.71      0.74      1000\n",
            "           7       0.95      0.98      0.96      1000\n",
            "           8       0.98      0.98      0.98      1000\n",
            "           9       0.98      0.96      0.97      1000\n",
            "\n",
            "    accuracy                           0.91     10000\n",
            "   macro avg       0.91      0.91      0.91     10000\n",
            "weighted avg       0.91      0.91      0.91     10000\n",
            "\n"
          ]
        },
        {
          "output_type": "display_data",
          "data": {
            "text/plain": [
              "<Figure size 432x288 with 2 Axes>"
            ],
            "image/png": "[encoded data removed]"
          },
          "metadata": {
            "needs_background": "light"
          }
        }
      ]
    },
    {
      "cell_type": "code",
      "source": [
        "train_images=X_train[:,:,:,np.newaxis]\n",
        "train_images.shape"
      ],
      "metadata": {
        "colab": {
          "base_uri": "https://localhost:8080/"
        },
        "id": "8_hPHvlrcSUi",
        "outputId": "6c53ec22-cdaf-4eb4-c611-e451cac59776"
      },
      "execution_count": 18,
      "outputs": [
        {
          "output_type": "execute_result",
          "data": {
            "text/plain": [
              "(60000, 28, 28, 1)"
            ]
          },
          "metadata": {},
          "execution_count": 18
        }
      ]
    },
    {
      "cell_type": "code",
      "source": [
        "train_labels = tf.keras.utils.to_categorical(y_train, num_classes=NUM_CLASSES)\n",
        "train_labels"
      ],
      "metadata": {
        "colab": {
          "base_uri": "https://localhost:8080/"
        },
        "id": "k03KnwkZdBH8",
        "outputId": "436e3574-8a06-47db-8794-1e4de26044c2"
      },
      "execution_count": 19,
      "outputs": [
        {
          "output_type": "execute_result",
          "data": {
            "text/plain": [
              "array([[0., 0., 0., ..., 0., 0., 1.],\n",
              "       [1., 0., 0., ..., 0., 0., 0.],\n",
              "       [1., 0., 0., ..., 0., 0., 0.],\n",
              "       ...,\n",
              "       [0., 0., 0., ..., 0., 0., 0.],\n",
              "       [1., 0., 0., ..., 0., 0., 0.],\n",
              "       [0., 0., 0., ..., 0., 0., 0.]], dtype=float32)"
            ]
          },
          "metadata": {},
          "execution_count": 19
        }
      ]
    },
    {
      "cell_type": "code",
      "source": [
        "#Compare to a pretrained model HyperResNet\n",
        "#NOTE data preprocessing is required to match input shape and label types\n",
        "tuner=keras_tuner.RandomSearch(keras_tuner.applications.HyperResNet(input_shape=(28, 28, 1), classes=NUM_CLASSES),objective='val_accuracy',max_trials=3, overwrite=True) #reduce the number of trials for demonstration purposes\n",
        "\n",
        "#Search for the best model\n",
        "tuner.search(train_images,train_labels,validation_split=VAL_SPLIT,epochs=2,callbacks=[tb_cb]) #reduce the number of epochs to save time for demonstration purposes"
      ],
      "metadata": {
        "id": "1Ho6pJUZvJ0M",
        "colab": {
          "base_uri": "https://localhost:8080/"
        },
        "outputId": "451667d2-6a23-4345-b7df-5ac9de59999c"
      },
      "execution_count": 21,
      "outputs": [
        {
          "output_type": "stream",
          "name": "stdout",
          "text": [
            "Trial 3 Complete [00h 07m 59s]\n",
            "val_accuracy: 0.7974166870117188\n",
            "\n",
            "Best val_accuracy So Far: 0.8629166483879089\n",
            "Total elapsed time: 00h 16m 11s\n"
          ]
        }
      ]
    },
    {
      "cell_type": "code",
      "source": [
        "best_model=tuner.get_best_models(1)[0] #get the best model\n",
        "best_params=tuner.get_best_hyperparameters(1)[0] #get best model parameters\n",
        "\n",
        "print(\"Best parameters \\n\")\n",
        "print(best_params.values)\n",
        "\n",
        "#Train the best parameters \n",
        "#hypermodel=tuner.hypermodel.build(best_params)\n",
        "history=best_model.fit(train_images,train_labels,epochs=20,validation_split=VAL_SPLIT,callbacks=[es])\n",
        "\n",
        "epochs=history.epoch\n",
        "history=history.history\n",
        "\n",
        "print(\"Best epoch\",np.argmin(history['val_loss']))\n",
        "\n",
        "plt.plot(epochs,history['loss'],'-b',label='Train loss')\n",
        "plt.plot(epochs,history['val_loss'],'-r',label='Val loss')\n",
        "plt.legend()\n",
        "plt.title('Model loss')\n",
        "plt.show()\n",
        "plt.plot(epochs,history['accuracy'],'-b',label='Train accuracy')\n",
        "plt.plot(epochs,history['val_accuracy'],'-r',label='Val accuracy')\n",
        "plt.legend()\n",
        "plt.title('Model accuracy')\n",
        "plt.show()"
      ],
      "metadata": {
        "colab": {
          "base_uri": "https://localhost:8080/",
          "height": 1000
        },
        "id": "jHgSHv0r4AHK",
        "outputId": "25471164-0be5-4643-9a05-c07db606a3fb"
      },
      "execution_count": 24,
      "outputs": [
        {
          "output_type": "stream",
          "name": "stderr",
          "text": [
            "WARNING:tensorflow:Detecting that an object or model or tf.train.Checkpoint is being deleted with unrestored values. See the following logs for the specific values in question. To silence these warnings, use `status.expect_partial()`. See https://www.tensorflow.org/api_docs/python/tf/train/Checkpoint#restorefor details about the status object returned by the restore function.\n",
            "WARNING:tensorflow:Value in checkpoint could not be found in the restored object: (root).optimizer.iter\n",
            "WARNING:tensorflow:Value in checkpoint could not be found in the restored object: (root).optimizer.decay\n",
            "WARNING:tensorflow:Value in checkpoint could not be found in the restored object: (root).optimizer.learning_rate\n",
            "WARNING:tensorflow:Value in checkpoint could not be found in the restored object: (root).optimizer.momentum\n"
          ]
        },
        {
          "output_type": "stream",
          "name": "stdout",
          "text": [
            "Best parameters \n",
            "\n",
            "{'version': 'v1', 'conv3_depth': 4, 'conv4_depth': 6, 'pooling': 'avg', 'optimizer': 'sgd', 'learning_rate': 0.01}\n",
            "Epoch 1/20\n",
            "1500/1500 [==============================] - 64s 40ms/step - loss: 0.3444 - accuracy: 0.8699 - val_loss: 0.3420 - val_accuracy: 0.8755\n",
            "Epoch 2/20\n",
            "1500/1500 [==============================] - 59s 40ms/step - loss: 0.3062 - accuracy: 0.8864 - val_loss: 0.3419 - val_accuracy: 0.8672\n",
            "Epoch 3/20\n",
            "1500/1500 [==============================] - 59s 39ms/step - loss: 0.2763 - accuracy: 0.8957 - val_loss: 0.3765 - val_accuracy: 0.8581\n",
            "Epoch 4/20\n",
            "1500/1500 [==============================] - 59s 39ms/step - loss: 0.2576 - accuracy: 0.9026 - val_loss: 0.3230 - val_accuracy: 0.8813\n",
            "Epoch 5/20\n",
            "1500/1500 [==============================] - 59s 40ms/step - loss: 0.2349 - accuracy: 0.9116 - val_loss: 0.3344 - val_accuracy: 0.8790\n",
            "Epoch 6/20\n",
            "1500/1500 [==============================] - 59s 40ms/step - loss: 0.2238 - accuracy: 0.9154 - val_loss: 0.2999 - val_accuracy: 0.8939\n",
            "Epoch 7/20\n",
            "1500/1500 [==============================] - 59s 39ms/step - loss: 0.2054 - accuracy: 0.9215 - val_loss: 0.2862 - val_accuracy: 0.8987\n",
            "Epoch 8/20\n",
            "1500/1500 [==============================] - 59s 40ms/step - loss: 0.1933 - accuracy: 0.9277 - val_loss: 0.2990 - val_accuracy: 0.8929\n",
            "Epoch 9/20\n",
            "1500/1500 [==============================] - 60s 40ms/step - loss: 0.1769 - accuracy: 0.9322 - val_loss: 0.3182 - val_accuracy: 0.8921\n",
            "Epoch 10/20\n",
            "1500/1500 [==============================] - 60s 40ms/step - loss: 0.1643 - accuracy: 0.9367 - val_loss: 0.3086 - val_accuracy: 0.8927\n",
            "Epoch 11/20\n",
            "1500/1500 [==============================] - 59s 39ms/step - loss: 0.1618 - accuracy: 0.9384 - val_loss: 0.3128 - val_accuracy: 0.8974\n",
            "Epoch 12/20\n",
            "1500/1500 [==============================] - 59s 39ms/step - loss: 0.1474 - accuracy: 0.9429 - val_loss: 0.3294 - val_accuracy: 0.8963\n",
            "Epoch 13/20\n",
            "1500/1500 [==============================] - 59s 40ms/step - loss: 0.1409 - accuracy: 0.9461 - val_loss: 0.2916 - val_accuracy: 0.9030\n",
            "Epoch 14/20\n",
            "1500/1500 [==============================] - 59s 39ms/step - loss: 0.1283 - accuracy: 0.9519 - val_loss: 0.3234 - val_accuracy: 0.8968\n",
            "Epoch 15/20\n",
            "1500/1500 [==============================] - 59s 39ms/step - loss: 0.1204 - accuracy: 0.9535 - val_loss: 0.3355 - val_accuracy: 0.8933\n",
            "Epoch 16/20\n",
            "1500/1500 [==============================] - 59s 39ms/step - loss: 0.1243 - accuracy: 0.9535 - val_loss: 0.3392 - val_accuracy: 0.8944\n",
            "Epoch 17/20\n",
            "1500/1500 [==============================] - 60s 40ms/step - loss: 0.1125 - accuracy: 0.9578 - val_loss: 0.3216 - val_accuracy: 0.9037\n",
            "Best epoch 6\n"
          ]
        },
        {
          "output_type": "display_data",
          "data": {
            "text/plain": [
              "<Figure size 432x288 with 1 Axes>"
            ],
            "image/png": "[encoded data removed]"
          },
          "metadata": {
            "needs_background": "light"
          }
        },
        {
          "output_type": "display_data",
          "data": {
            "text/plain": [
              "<Figure size 432x288 with 1 Axes>"
            ],
            "image/png": "[encoded data removed]"
          },
          "metadata": {
            "needs_background": "light"
          }
        }
      ]
    },
    {
      "cell_type": "code",
      "source": [
        "#Evaluate the model\n",
        "\n",
        "test_images=X_test[:,:,:,np.newaxis]\n",
        "test_labels = tf.keras.utils.to_categorical(y_test, num_classes=NUM_CLASSES)\n",
        "\n",
        "\n",
        "results=best_model.evaluate(test_images,test_labels)\n",
        "print(\"Model evaluation \\n\",results)\n",
        "\n",
        "y_pred=best_model.predict(test_images)\n",
        "\n",
        "print(classification_report(np.argmax(test_labels,axis=1),np.argmax(y_pred,axis=1)))\n",
        "\n",
        "sns.heatmap(confusion_matrix(np.argmax(test_labels,axis=1),np.argmax(y_pred,axis=1)),cmap='Blues',annot=True,fmt='g')\n",
        "plt.xlabel(\"Predicted\")\n",
        "plt.ylabel(\"Actual values\")\n",
        "plt.show()"
      ],
      "metadata": {
        "colab": {
          "base_uri": "https://localhost:8080/",
          "height": 632
        },
        "id": "sCYpcF59tERw",
        "outputId": "f343faf4-d03d-41a7-ac4a-2e8cfe369032"
      },
      "execution_count": 34,
      "outputs": [
        {
          "output_type": "stream",
          "name": "stdout",
          "text": [
            "313/313 [==============================] - 6s 18ms/step - loss: 0.3624 - accuracy: 0.8956\n",
            "Model evaluation \n",
            " [0.36237284541130066, 0.8956000208854675]\n",
            "              precision    recall  f1-score   support\n",
            "\n",
            "           0       0.85      0.84      0.84      1000\n",
            "           1       0.99      0.96      0.98      1000\n",
            "           2       0.83      0.85      0.84      1000\n",
            "           3       0.89      0.92      0.90      1000\n",
            "           4       0.82      0.83      0.82      1000\n",
            "           5       0.98      0.97      0.98      1000\n",
            "           6       0.74      0.69      0.71      1000\n",
            "           7       0.97      0.93      0.95      1000\n",
            "           8       0.96      0.98      0.97      1000\n",
            "           9       0.93      0.98      0.95      1000\n",
            "\n",
            "    accuracy                           0.90     10000\n",
            "   macro avg       0.90      0.90      0.90     10000\n",
            "weighted avg       0.90      0.90      0.90     10000\n",
            "\n"
          ]
        },
        {
          "output_type": "display_data",
          "data": {
            "text/plain": [
              "<Figure size 432x288 with 2 Axes>"
            ],
            "image/png": "[encoded data removed]"
          },
          "metadata": {
            "needs_background": "light"
          }
        }
      ]
    },
    {
      "cell_type": "code",
      "source": [
        "#Explore tensorboard outputs\n",
        "%load_ext tensorboard\n",
        "%tensorboard --logdir logs"
      ],
      "metadata": {
        "id": "UAJdtiqETpBS"
      },
      "execution_count": null,
      "outputs": []
    }
  ]
}