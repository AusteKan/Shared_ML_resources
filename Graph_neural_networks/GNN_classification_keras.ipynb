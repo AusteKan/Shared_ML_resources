{
  "nbformat": 4,
  "nbformat_minor": 0,
  "metadata": {
    "colab": {
      "provenance": []
    },
    "kernelspec": {
      "name": "python3",
      "display_name": "Python 3"
    },
    "language_info": {
      "name": "python"
    },
    "accelerator": "GPU",
    "gpuClass": "standard"
  },
  "cells": [
    {
      "cell_type": "markdown",
      "source": [
        "This example focuses on a simple implementation of a Graph Neural Network (GNN). Paper and their citation dataset is used for modelling.\n",
        "The model predicts the subject of a paper given its words and citations network.\n",
        "\n",
        "We first perform an EDA, then we build a couple of baseline models. Finally, we implement a graph convolutional network (GCN) to predict paper subject."
      ],
      "metadata": {
        "id": "S332rmrFQSfL"
      }
    },
    {
      "cell_type": "code",
      "execution_count": 1,
      "metadata": {
        "id": "iv6LCmHpPg4K",
        "colab": {
          "base_uri": "https://localhost:8080/"
        },
        "outputId": "62033410-cacb-4e7a-d42c-99267c226c34"
      },
      "outputs": [
        {
          "output_type": "stream",
          "name": "stdout",
          "text": [
            "\u001b[2K     \u001b[90m━━━━━━━━━━━━━━━━━━━━━━━━━━━━━━━━━━━━━━\u001b[0m \u001b[32m559.2/559.2 KB\u001b[0m \u001b[31m20.6 MB/s\u001b[0m eta \u001b[36m0:00:00\u001b[0m\n",
            "\u001b[2K     \u001b[90m━━━━━━━━━━━━━━━━━━━━━━━━━━━━━━━━━━━━━━\u001b[0m \u001b[32m544.5/544.5 KB\u001b[0m \u001b[31m36.5 MB/s\u001b[0m eta \u001b[36m0:00:00\u001b[0m\n",
            "\u001b[2K     \u001b[90m━━━━━━━━━━━━━━━━━━━━━━━━━━━━━━━━━━━━━━━━\u001b[0m \u001b[32m14.6/14.6 MB\u001b[0m \u001b[31m65.2 MB/s\u001b[0m eta \u001b[36m0:00:00\u001b[0m\n",
            "\u001b[2K     \u001b[90m━━━━━━━━━━━━━━━━━━━━━━━━━━━━━━━━━━━━━━━━\u001b[0m \u001b[32m77.9/77.9 KB\u001b[0m \u001b[31m9.2 MB/s\u001b[0m eta \u001b[36m0:00:00\u001b[0m\n",
            "\u001b[?25h  Preparing metadata (setup.py) ... \u001b[?25l\u001b[?25hdone\n",
            "\u001b[2K     \u001b[90m━━━━━━━━━━━━━━━━━━━━━━━━━━━━━━━━━━━━━━━━\u001b[0m \u001b[32m4.6/4.6 MB\u001b[0m \u001b[31m45.4 MB/s\u001b[0m eta \u001b[36m0:00:00\u001b[0m\n",
            "\u001b[2K     \u001b[90m━━━━━━━━━━━━━━━━━━━━━━━━━━━━━━━━━━━━━━━━\u001b[0m \u001b[32m60.6/60.6 KB\u001b[0m \u001b[31m7.2 MB/s\u001b[0m eta \u001b[36m0:00:00\u001b[0m\n",
            "\u001b[2K     \u001b[90m━━━━━━━━━━━━━━━━━━━━━━━━━━━━━━━━━━━━━━━━\u001b[0m \u001b[32m1.5/1.5 MB\u001b[0m \u001b[31m28.3 MB/s\u001b[0m eta \u001b[36m0:00:00\u001b[0m\n",
            "\u001b[2K     \u001b[90m━━━━━━━━━━━━━━━━━━━━━━━━━━━━━━━━━━━━━━━━\u001b[0m \u001b[32m2.4/2.4 MB\u001b[0m \u001b[31m52.2 MB/s\u001b[0m eta \u001b[36m0:00:00\u001b[0m\n",
            "\u001b[2K     \u001b[90m━━━━━━━━━━━━━━━━━━━━━━━━━━━━━━━━━━━━━━━━\u001b[0m \u001b[32m2.7/2.7 MB\u001b[0m \u001b[31m45.7 MB/s\u001b[0m eta \u001b[36m0:00:00\u001b[0m\n",
            "\u001b[2K     \u001b[90m━━━━━━━━━━━━━━━━━━━━━━━━━━━━━━━━━━━━━━\u001b[0m \u001b[32m140.7/140.7 KB\u001b[0m \u001b[31m14.0 MB/s\u001b[0m eta \u001b[36m0:00:00\u001b[0m\n",
            "\u001b[2K     \u001b[90m━━━━━━━━━━━━━━━━━━━━━━━━━━━━━━━━━━━━━━\u001b[0m \u001b[32m526.2/526.2 KB\u001b[0m \u001b[31m23.8 MB/s\u001b[0m eta \u001b[36m0:00:00\u001b[0m\n",
            "\u001b[2K     \u001b[90m━━━━━━━━━━━━━━━━━━━━━━━━━━━━━━━━━━━━━━━━\u001b[0m \u001b[32m2.6/2.6 MB\u001b[0m \u001b[31m31.4 MB/s\u001b[0m eta \u001b[36m0:00:00\u001b[0m\n",
            "\u001b[2K     \u001b[90m━━━━━━━━━━━━━━━━━━━━━━━━━━━━━━━━━━━━━━\u001b[0m \u001b[32m152.0/152.0 KB\u001b[0m \u001b[31m19.2 MB/s\u001b[0m eta \u001b[36m0:00:00\u001b[0m\n",
            "\u001b[?25h  Preparing metadata (setup.py) ... \u001b[?25l\u001b[?25hdone\n",
            "  Preparing metadata (setup.py) ... \u001b[?25l\u001b[?25hdone\n",
            "  Building wheel for ml-collections (setup.py) ... \u001b[?25l\u001b[?25hdone\n",
            "  Building wheel for dill (setup.py) ... \u001b[?25l\u001b[?25hdone\n",
            "  Building wheel for docopt (setup.py) ... \u001b[?25l\u001b[?25hdone\n"
          ]
        }
      ],
      "source": [
        "!pip install -q tensorflow-gnn "
      ]
    },
    {
      "cell_type": "code",
      "source": [
        "!pip install 'scipy>=1.8'"
      ],
      "metadata": {
        "colab": {
          "base_uri": "https://localhost:8080/"
        },
        "id": "x7fVkImrE4Ji",
        "outputId": "1593ac19-d14f-45fd-8fc9-faeb4818d7ea"
      },
      "execution_count": 2,
      "outputs": [
        {
          "output_type": "stream",
          "name": "stdout",
          "text": [
            "Looking in indexes: https://pypi.org/simple, https://us-python.pkg.dev/colab-wheels/public/simple/\n",
            "Collecting scipy>=1.8\n",
            "  Downloading scipy-1.10.1-cp38-cp38-manylinux_2_17_x86_64.manylinux2014_x86_64.whl (34.5 MB)\n",
            "\u001b[2K     \u001b[90m━━━━━━━━━━━━━━━━━━━━━━━━━━━━━━━━━━━━━━━━\u001b[0m \u001b[32m34.5/34.5 MB\u001b[0m \u001b[31m33.8 MB/s\u001b[0m eta \u001b[36m0:00:00\u001b[0m\n",
            "\u001b[?25hRequirement already satisfied: numpy<1.27.0,>=1.19.5 in /usr/local/lib/python3.8/dist-packages (from scipy>=1.8) (1.22.4)\n",
            "Installing collected packages: scipy\n",
            "  Attempting uninstall: scipy\n",
            "    Found existing installation: scipy 1.7.3\n",
            "    Uninstalling scipy-1.7.3:\n",
            "      Successfully uninstalled scipy-1.7.3\n",
            "Successfully installed scipy-1.10.1\n"
          ]
        }
      ]
    },
    {
      "cell_type": "code",
      "source": [
        "!pip install 'networkx<2.7' #NOTE networkx might have dependency issues with scipy; thus reinstall is advised."
      ],
      "metadata": {
        "colab": {
          "base_uri": "https://localhost:8080/"
        },
        "id": "fu-9ZlE_FQr5",
        "outputId": "1fc2ca1a-9bd0-4eb9-f23a-1728a0a67341"
      },
      "execution_count": 3,
      "outputs": [
        {
          "output_type": "stream",
          "name": "stdout",
          "text": [
            "Looking in indexes: https://pypi.org/simple, https://us-python.pkg.dev/colab-wheels/public/simple/\n",
            "Collecting networkx<2.7\n",
            "  Downloading networkx-2.6.3-py3-none-any.whl (1.9 MB)\n",
            "\u001b[2K     \u001b[90m━━━━━━━━━━━━━━━━━━━━━━━━━━━━━━━━━━━━━━━━\u001b[0m \u001b[32m1.9/1.9 MB\u001b[0m \u001b[31m6.9 MB/s\u001b[0m eta \u001b[36m0:00:00\u001b[0m\n",
            "\u001b[?25hInstalling collected packages: networkx\n",
            "  Attempting uninstall: networkx\n",
            "    Found existing installation: networkx 3.0\n",
            "    Uninstalling networkx-3.0:\n",
            "      Successfully uninstalled networkx-3.0\n",
            "Successfully installed networkx-2.6.3\n"
          ]
        }
      ]
    },
    {
      "cell_type": "code",
      "source": [
        "#Import libraries\n",
        "import os\n",
        "\n",
        "import numpy as np\n",
        "import pandas as pd\n",
        "import seaborn as sns\n",
        "import matplotlib.pyplot as plt\n",
        "\n",
        "import networkx as nx\n",
        "\n",
        "import tensorflow as tf\n",
        "import tensorflow_gnn as tfgnn\n",
        "\n",
        "from sklearn.metrics import classification_report,confusion_matrix"
      ],
      "metadata": {
        "id": "ZWOgg1nzPrju"
      },
      "execution_count": 4,
      "outputs": []
    },
    {
      "cell_type": "code",
      "source": [
        "#Define a helper function\n",
        "\n",
        "def classification_summary(y_test,y_pred,labels=None):\n",
        "  \"\"\"\n",
        "  Function takes test labels and predicted labels to return a classification report and a confusion matrix heatmap\n",
        "\n",
        "  #Args:\n",
        "    y_test, array(int/float)-test labels\n",
        "    y_pred, array(int/float)-predicted labels\n",
        "    labels, array/list(str)- names for different predicted classes\n",
        "  #Returns:\n",
        "    classification report and a confusion matrix heatmap\n",
        "  \"\"\"\n",
        "\n",
        "  print(classification_report(y_test,y_pred))\n",
        "\n",
        "  sns.heatmap(confusion_matrix(y_test,y_pred),annot=True, cmap='Blues',fmt='g',xticklabels=labels,yticklabels=labels)\n",
        "  plt.xlabel('Predicted values')\n",
        "  plt.ylabel('True values')\n",
        "  plt.show()\n",
        "\n",
        "  return"
      ],
      "metadata": {
        "id": "D7K9-i5KnK8V"
      },
      "execution_count": 5,
      "outputs": []
    },
    {
      "cell_type": "code",
      "source": [
        "#Import data\n",
        "\n",
        "file=tf.keras.utils.get_file(fname=\"cora.tgz\",\n",
        "    origin=\"https://linqs-data.soe.ucsc.edu/public/lbc/cora.tgz\",\n",
        "    extract=True)\n",
        "\n",
        "path=os.path.join(os.path.dirname(file),'cora')\n",
        "\n",
        "#Check data\n",
        "! ls -al {path}"
      ],
      "metadata": {
        "colab": {
          "base_uri": "https://localhost:8080/"
        },
        "id": "jAzzq3l2QpWb",
        "outputId": "990b38e0-2a0d-4ce0-e9ef-eac8aeeb3d95"
      },
      "execution_count": 6,
      "outputs": [
        {
          "output_type": "stream",
          "name": "stdout",
          "text": [
            "Downloading data from https://linqs-data.soe.ucsc.edu/public/lbc/cora.tgz\n",
            "168052/168052 [==============================] - 0s 3us/step\n",
            "total 7728\n",
            "drwxr-sr-x 2 6155 1108    4096 Feb 18  2007 .\n",
            "drwxr-xr-x 3 root root    4096 Mar  1 15:52 ..\n",
            "-rwxr-xr-x 1 6155 1108   69928 Feb 18  2007 cora.cites\n",
            "-rwxr-xr-x 1 6155 1108 7823427 Feb 18  2007 cora.content\n",
            "-rwxr-xr-x 1 6155 1108    1560 Feb 18  2007 README\n"
          ]
        }
      ]
    },
    {
      "cell_type": "code",
      "source": [
        "#Process data\n",
        "citations=pd.read_csv(os.path.join(path, \"cora.cites\"),\n",
        "    sep=\"\\t\",\n",
        "    header=None,\n",
        "    names=[\"target\", \"source\"])\n",
        "\n",
        "columns=[\"ID\"]+[f\"term_{i}\" for i in range(1433)]+[\"subject\"]\n",
        "papers=pd.read_csv(os.path.join(path, \"cora.content\"),\n",
        "    sep=\"\\t\",\n",
        "    header=None,\n",
        "    names=columns)\n",
        "\n",
        "#Source column describes paper IDS and the target column describes a cited paper ID\n",
        "print(citations.shape)\n",
        "print(citations.head())\n",
        "print(citations.sample(frac=1).head())\n",
        "\n",
        "print(papers.shape)\n",
        "print(papers.head())\n"
      ],
      "metadata": {
        "colab": {
          "base_uri": "https://localhost:8080/"
        },
        "id": "y9ONtbU2QpR_",
        "outputId": "c7b6b1a7-484e-4851-d48c-5ec58d7dd409"
      },
      "execution_count": 7,
      "outputs": [
        {
          "output_type": "stream",
          "name": "stdout",
          "text": [
            "(5429, 2)\n",
            "   target   source\n",
            "0      35     1033\n",
            "1      35   103482\n",
            "2      35   103515\n",
            "3      35  1050679\n",
            "4      35  1103960\n",
            "      target   source\n",
            "2385   22883    22876\n",
            "3847   90470  1129994\n",
            "4565  213246    34263\n",
            "902     3231     8821\n",
            "3986  107569  1107385\n",
            "(2708, 1435)\n",
            "        ID  term_0  term_1  term_2  term_3  term_4  term_5  term_6  term_7  \\\n",
            "0    31336       0       0       0       0       0       0       0       0   \n",
            "1  1061127       0       0       0       0       0       0       0       0   \n",
            "2  1106406       0       0       0       0       0       0       0       0   \n",
            "3    13195       0       0       0       0       0       0       0       0   \n",
            "4    37879       0       0       0       0       0       0       0       0   \n",
            "\n",
            "   term_8  ...  term_1424  term_1425  term_1426  term_1427  term_1428  \\\n",
            "0       0  ...          0          0          1          0          0   \n",
            "1       0  ...          0          1          0          0          0   \n",
            "2       0  ...          0          0          0          0          0   \n",
            "3       0  ...          0          0          0          0          0   \n",
            "4       0  ...          0          0          0          0          0   \n",
            "\n",
            "   term_1429  term_1430  term_1431  term_1432                 subject  \n",
            "0          0          0          0          0         Neural_Networks  \n",
            "1          0          0          0          0           Rule_Learning  \n",
            "2          0          0          0          0  Reinforcement_Learning  \n",
            "3          0          0          0          0  Reinforcement_Learning  \n",
            "4          0          0          0          0   Probabilistic_Methods  \n",
            "\n",
            "[5 rows x 1435 columns]\n"
          ]
        }
      ]
    },
    {
      "cell_type": "code",
      "source": [
        "#Explore data\n",
        "\n",
        "print(papers.subject.value_counts())\n",
        "\n",
        "sns.countplot(x=papers.subject)\n",
        "plt.xticks(rotation=90)\n",
        "plt.show()"
      ],
      "metadata": {
        "id": "t6vvKg8wRaRd",
        "colab": {
          "base_uri": "https://localhost:8080/",
          "height": 538
        },
        "outputId": "bba536c8-8501-4a58-b1a0-69dee068588b"
      },
      "execution_count": 8,
      "outputs": [
        {
          "output_type": "stream",
          "name": "stdout",
          "text": [
            "Neural_Networks           818\n",
            "Probabilistic_Methods     426\n",
            "Genetic_Algorithms        418\n",
            "Theory                    351\n",
            "Case_Based                298\n",
            "Reinforcement_Learning    217\n",
            "Rule_Learning             180\n",
            "Name: subject, dtype: int64\n"
          ]
        },
        {
          "output_type": "display_data",
          "data": {
            "text/plain": [
              "<Figure size 432x288 with 1 Axes>"
            ],
            "image/png": "[encoded data removed]"
          },
          "metadata": {
            "needs_background": "light"
          }
        }
      ]
    },
    {
      "cell_type": "code",
      "source": [
        "#Convert IDs to indexes\n",
        "\n",
        "class_idxs={name:id for id,name in enumerate(sorted(papers['subject'].unique()))}\n",
        "paper_idxs={name:id for id,name in enumerate(sorted(papers['ID'].unique()))}\n",
        "\n",
        "\n",
        "citations['target']=citations['target'].apply(lambda name: paper_idxs[name])\n",
        "citations['source']=citations['source'].apply(lambda name: paper_idxs[name])\n",
        "\n",
        "papers['ID']=papers['ID'].apply(lambda name: paper_idxs[name])\n",
        "papers['subject']=papers['subject'].apply(lambda name: class_idxs[name])"
      ],
      "metadata": {
        "id": "xgfmgpMCRaOj"
      },
      "execution_count": 9,
      "outputs": []
    },
    {
      "cell_type": "code",
      "source": [
        "#Explore graph\n",
        "#NOTE we are sampling a set of nodes to make the mapping more efficient\n",
        "\n",
        "graph_sample=nx.from_pandas_edgelist(citations.sample(n=200))\n",
        "graph_vals=list(papers[papers[\"ID\"].isin(list(graph_sample.nodes))]['subject'])\n",
        "nx.draw_spring(graph_sample,node_color=graph_vals,node_size=10)\n"
      ],
      "metadata": {
        "id": "eTwK6i2pQpPT",
        "colab": {
          "base_uri": "https://localhost:8080/",
          "height": 319
        },
        "outputId": "2fb20246-7344-4a0c-b0fc-7515f93ef518"
      },
      "execution_count": 10,
      "outputs": [
        {
          "output_type": "display_data",
          "data": {
            "text/plain": [
              "<Figure size 432x288 with 1 Axes>"
            ],
            "image/png": "[encoded data removed]"
          },
          "metadata": {}
        }
      ]
    },
    {
      "cell_type": "code",
      "source": [
        "papers.head()"
      ],
      "metadata": {
        "colab": {
          "base_uri": "https://localhost:8080/",
          "height": 300
        },
        "id": "U7dFiVeylSck",
        "outputId": "a98a43c1-755a-4e9c-8d7f-32211ce79bd7"
      },
      "execution_count": 11,
      "outputs": [
        {
          "output_type": "execute_result",
          "data": {
            "text/plain": [
              "     ID  term_0  term_1  term_2  term_3  term_4  term_5  term_6  term_7  \\\n",
              "0   462       0       0       0       0       0       0       0       0   \n",
              "1  1911       0       0       0       0       0       0       0       0   \n",
              "2  2002       0       0       0       0       0       0       0       0   \n",
              "3   248       0       0       0       0       0       0       0       0   \n",
              "4   519       0       0       0       0       0       0       0       0   \n",
              "\n",
              "   term_8  ...  term_1424  term_1425  term_1426  term_1427  term_1428  \\\n",
              "0       0  ...          0          0          1          0          0   \n",
              "1       0  ...          0          1          0          0          0   \n",
              "2       0  ...          0          0          0          0          0   \n",
              "3       0  ...          0          0          0          0          0   \n",
              "4       0  ...          0          0          0          0          0   \n",
              "\n",
              "   term_1429  term_1430  term_1431  term_1432  subject  \n",
              "0          0          0          0          0        2  \n",
              "1          0          0          0          0        5  \n",
              "2          0          0          0          0        4  \n",
              "3          0          0          0          0        4  \n",
              "4          0          0          0          0        3  \n",
              "\n",
              "[5 rows x 1435 columns]"
            ],
            "text/html": [
              "\n",
              "  <div id=\"df-4b4ccba5-dc89-47c1-b61b-eeee0bd11f10\">\n",
              "    <div class=\"colab-df-container\">\n",
              "      <div>\n",
              "<style scoped>\n",
              "    .dataframe tbody tr th:only-of-type {\n",
              "        vertical-align: middle;\n",
              "    }\n",
              "\n",
              "    .dataframe tbody tr th {\n",
              "        vertical-align: top;\n",
              "    }\n",
              "\n",
              "    .dataframe thead th {\n",
              "        text-align: right;\n",
              "    }\n",
              "</style>\n",
              "<table border=\"1\" class=\"dataframe\">\n",
              "  <thead>\n",
              "    <tr style=\"text-align: right;\">\n",
              "      <th></th>\n",
              "      <th>ID</th>\n",
              "      <th>term_0</th>\n",
              "      <th>term_1</th>\n",
              "      <th>term_2</th>\n",
              "      <th>term_3</th>\n",
              "      <th>term_4</th>\n",
              "      <th>term_5</th>\n",
              "      <th>term_6</th>\n",
              "      <th>term_7</th>\n",
              "      <th>term_8</th>\n",
              "      <th>...</th>\n",
              "      <th>term_1424</th>\n",
              "      <th>term_1425</th>\n",
              "      <th>term_1426</th>\n",
              "      <th>term_1427</th>\n",
              "      <th>term_1428</th>\n",
              "      <th>term_1429</th>\n",
              "      <th>term_1430</th>\n",
              "      <th>term_1431</th>\n",
              "      <th>term_1432</th>\n",
              "      <th>subject</th>\n",
              "    </tr>\n",
              "  </thead>\n",
              "  <tbody>\n",
              "    <tr>\n",
              "      <th>0</th>\n",
              "      <td>462</td>\n",
              "      <td>0</td>\n",
              "      <td>0</td>\n",
              "      <td>0</td>\n",
              "      <td>0</td>\n",
              "      <td>0</td>\n",
              "      <td>0</td>\n",
              "      <td>0</td>\n",
              "      <td>0</td>\n",
              "      <td>0</td>\n",
              "      <td>...</td>\n",
              "      <td>0</td>\n",
              "      <td>0</td>\n",
              "      <td>1</td>\n",
              "      <td>0</td>\n",
              "      <td>0</td>\n",
              "      <td>0</td>\n",
              "      <td>0</td>\n",
              "      <td>0</td>\n",
              "      <td>0</td>\n",
              "      <td>2</td>\n",
              "    </tr>\n",
              "    <tr>\n",
              "      <th>1</th>\n",
              "      <td>1911</td>\n",
              "      <td>0</td>\n",
              "      <td>0</td>\n",
              "      <td>0</td>\n",
              "      <td>0</td>\n",
              "      <td>0</td>\n",
              "      <td>0</td>\n",
              "      <td>0</td>\n",
              "      <td>0</td>\n",
              "      <td>0</td>\n",
              "      <td>...</td>\n",
              "      <td>0</td>\n",
              "      <td>1</td>\n",
              "      <td>0</td>\n",
              "      <td>0</td>\n",
              "      <td>0</td>\n",
              "      <td>0</td>\n",
              "      <td>0</td>\n",
              "      <td>0</td>\n",
              "      <td>0</td>\n",
              "      <td>5</td>\n",
              "    </tr>\n",
              "    <tr>\n",
              "      <th>2</th>\n",
              "      <td>2002</td>\n",
              "      <td>0</td>\n",
              "      <td>0</td>\n",
              "      <td>0</td>\n",
              "      <td>0</td>\n",
              "      <td>0</td>\n",
              "      <td>0</td>\n",
              "      <td>0</td>\n",
              "      <td>0</td>\n",
              "      <td>0</td>\n",
              "      <td>...</td>\n",
              "      <td>0</td>\n",
              "      <td>0</td>\n",
              "      <td>0</td>\n",
              "      <td>0</td>\n",
              "      <td>0</td>\n",
              "      <td>0</td>\n",
              "      <td>0</td>\n",
              "      <td>0</td>\n",
              "      <td>0</td>\n",
              "      <td>4</td>\n",
              "    </tr>\n",
              "    <tr>\n",
              "      <th>3</th>\n",
              "      <td>248</td>\n",
              "      <td>0</td>\n",
              "      <td>0</td>\n",
              "      <td>0</td>\n",
              "      <td>0</td>\n",
              "      <td>0</td>\n",
              "      <td>0</td>\n",
              "      <td>0</td>\n",
              "      <td>0</td>\n",
              "      <td>0</td>\n",
              "      <td>...</td>\n",
              "      <td>0</td>\n",
              "      <td>0</td>\n",
              "      <td>0</td>\n",
              "      <td>0</td>\n",
              "      <td>0</td>\n",
              "      <td>0</td>\n",
              "      <td>0</td>\n",
              "      <td>0</td>\n",
              "      <td>0</td>\n",
              "      <td>4</td>\n",
              "    </tr>\n",
              "    <tr>\n",
              "      <th>4</th>\n",
              "      <td>519</td>\n",
              "      <td>0</td>\n",
              "      <td>0</td>\n",
              "      <td>0</td>\n",
              "      <td>0</td>\n",
              "      <td>0</td>\n",
              "      <td>0</td>\n",
              "      <td>0</td>\n",
              "      <td>0</td>\n",
              "      <td>0</td>\n",
              "      <td>...</td>\n",
              "      <td>0</td>\n",
              "      <td>0</td>\n",
              "      <td>0</td>\n",
              "      <td>0</td>\n",
              "      <td>0</td>\n",
              "      <td>0</td>\n",
              "      <td>0</td>\n",
              "      <td>0</td>\n",
              "      <td>0</td>\n",
              "      <td>3</td>\n",
              "    </tr>\n",
              "  </tbody>\n",
              "</table>\n",
              "<p>5 rows × 1435 columns</p>\n",
              "</div>\n",
              "      <button class=\"colab-df-convert\" onclick=\"convertToInteractive('df-4b4ccba5-dc89-47c1-b61b-eeee0bd11f10')\"\n",
              "              title=\"Convert this dataframe to an interactive table.\"\n",
              "              style=\"display:none;\">\n",
              "        \n",
              "  <svg xmlns=\"http://www.w3.org/2000/svg\" height=\"24px\"viewBox=\"0 0 24 24\"\n",
              "       width=\"24px\">\n",
              "    <path d=\"M0 0h24v24H0V0z\" fill=\"none\"/>\n",
              "    <path d=\"M18.56 5.44l.94 2.06.94-2.06 2.06-.94-2.06-.94-.94-2.06-.94 2.06-2.06.94zm-11 1L8.5 8.5l.94-2.06 2.06-.94-2.06-.94L8.5 2.5l-.94 2.06-2.06.94zm10 10l.94 2.06.94-2.06 2.06-.94-2.06-.94-.94-2.06-.94 2.06-2.06.94z\"/><path d=\"M17.41 7.96l-1.37-1.37c-.4-.4-.92-.59-1.43-.59-.52 0-1.04.2-1.43.59L10.3 9.45l-7.72 7.72c-.78.78-.78 2.05 0 2.83L4 21.41c.39.39.9.59 1.41.59.51 0 1.02-.2 1.41-.59l7.78-7.78 2.81-2.81c.8-.78.8-2.07 0-2.86zM5.41 20L4 18.59l7.72-7.72 1.47 1.35L5.41 20z\"/>\n",
              "  </svg>\n",
              "      </button>\n",
              "      \n",
              "  <style>\n",
              "    .colab-df-container {\n",
              "      display:flex;\n",
              "      flex-wrap:wrap;\n",
              "      gap: 12px;\n",
              "    }\n",
              "\n",
              "    .colab-df-convert {\n",
              "      background-color: #E8F0FE;\n",
              "      border: none;\n",
              "      border-radius: 50%;\n",
              "      cursor: pointer;\n",
              "      display: none;\n",
              "      fill: #1967D2;\n",
              "      height: 32px;\n",
              "      padding: 0 0 0 0;\n",
              "      width: 32px;\n",
              "    }\n",
              "\n",
              "    .colab-df-convert:hover {\n",
              "      background-color: #E2EBFA;\n",
              "      box-shadow: 0px 1px 2px rgba(60, 64, 67, 0.3), 0px 1px 3px 1px rgba(60, 64, 67, 0.15);\n",
              "      fill: #174EA6;\n",
              "    }\n",
              "\n",
              "    [theme=dark] .colab-df-convert {\n",
              "      background-color: #3B4455;\n",
              "      fill: #D2E3FC;\n",
              "    }\n",
              "\n",
              "    [theme=dark] .colab-df-convert:hover {\n",
              "      background-color: #434B5C;\n",
              "      box-shadow: 0px 1px 3px 1px rgba(0, 0, 0, 0.15);\n",
              "      filter: drop-shadow(0px 1px 2px rgba(0, 0, 0, 0.3));\n",
              "      fill: #FFFFFF;\n",
              "    }\n",
              "  </style>\n",
              "\n",
              "      <script>\n",
              "        const buttonEl =\n",
              "          document.querySelector('#df-4b4ccba5-dc89-47c1-b61b-eeee0bd11f10 button.colab-df-convert');\n",
              "        buttonEl.style.display =\n",
              "          google.colab.kernel.accessAllowed ? 'block' : 'none';\n",
              "\n",
              "        async function convertToInteractive(key) {\n",
              "          const element = document.querySelector('#df-4b4ccba5-dc89-47c1-b61b-eeee0bd11f10');\n",
              "          const dataTable =\n",
              "            await google.colab.kernel.invokeFunction('convertToInteractive',\n",
              "                                                     [key], {});\n",
              "          if (!dataTable) return;\n",
              "\n",
              "          const docLinkHtml = 'Like what you see? Visit the ' +\n",
              "            '<a target=\"_blank\" href=https://colab.research.google.com/notebooks/data_table.ipynb>data table notebook</a>'\n",
              "            + ' to learn more about interactive tables.';\n",
              "          element.innerHTML = '';\n",
              "          dataTable['output_type'] = 'display_data';\n",
              "          await google.colab.output.renderOutput(dataTable, element);\n",
              "          const docLink = document.createElement('div');\n",
              "          docLink.innerHTML = docLinkHtml;\n",
              "          element.appendChild(docLink);\n",
              "        }\n",
              "      </script>\n",
              "    </div>\n",
              "  </div>\n",
              "  "
            ]
          },
          "metadata": {},
          "execution_count": 11
        }
      ]
    },
    {
      "cell_type": "code",
      "source": [
        "#Split data\n",
        "\n",
        "from sklearn.model_selection import train_test_split\n",
        "\n",
        "#We need to preprocess data to extract classes and features\n",
        "X=papers.iloc[:,:-1]\n",
        "y=papers.iloc[:,-1]\n",
        "\n",
        "feature_names=X.columns\n",
        "\n",
        "X_train,X_test,y_train,y_test=train_test_split(X,y,test_size=0.2,random_state=0)\n",
        "\n",
        "\n",
        "X_train_baseline=X_train.iloc[:,1:].to_numpy()\n",
        "y_train=y_train.to_numpy()\n",
        "X_test_baseline=X_test.iloc[:,1:].to_numpy()\n",
        "y_test=y_test.to_numpy()"
      ],
      "metadata": {
        "id": "nae-AgoTk9ZL"
      },
      "execution_count": 12,
      "outputs": []
    },
    {
      "cell_type": "code",
      "source": [
        "#Define parameters\n",
        "BATCH=128\n",
        "EPOCHS=250\n",
        "INPUT=X_train_baseline.shape[1]\n",
        "CLASS_NUM=len(y.unique())\n",
        "hidden_units=[32,32,16]\n",
        "\n",
        "es=tf.keras.callbacks.EarlyStopping(monitor='val_loss',patience=50,restore_best_weights=True)"
      ],
      "metadata": {
        "id": "gQEeSSPBlz77"
      },
      "execution_count": 13,
      "outputs": []
    },
    {
      "cell_type": "code",
      "source": [
        "#Create a basline model\n",
        "baseline_model=tf.keras.Sequential()\n",
        "\n",
        "baseline_model.add(tf.keras.layers.Input(shape=(INPUT,)))\n",
        "baseline_model.add(tf.keras.layers.BatchNormalization())\n",
        "baseline_model.add(tf.keras.layers.Dense(128,activation='gelu'))\n",
        "baseline_model.add(tf.keras.layers.Dropout(0.2))\n",
        "baseline_model.add(tf.keras.layers.BatchNormalization())\n",
        "baseline_model.add(tf.keras.layers.Dense(64,activation='gelu'))\n",
        "baseline_model.add(tf.keras.layers.Dropout(0.2))\n",
        "baseline_model.add(tf.keras.layers.BatchNormalization())\n",
        "baseline_model.add(tf.keras.layers.Dense(32,activation='gelu'))\n",
        "baseline_model.add(tf.keras.layers.Dropout(0.2))\n",
        "baseline_model.add(tf.keras.layers.BatchNormalization())\n",
        "baseline_model.add(tf.keras.layers.Dense(16,activation='gelu'))\n",
        "baseline_model.add(tf.keras.layers.Dropout(0.2))\n",
        "\n",
        "baseline_model.add(tf.keras.layers.Dense(CLASS_NUM,activation='softmax'))\n",
        "\n",
        "baseline_model.summary()\n",
        "\n",
        "baseline_model.compile(optimizer=tf.keras.optimizers.Adam(0.001),loss=tf.keras.losses.SparseCategoricalCrossentropy(),metrics=['accuracy'])"
      ],
      "metadata": {
        "colab": {
          "base_uri": "https://localhost:8080/"
        },
        "id": "D7D-fE0wgrgo",
        "outputId": "9d200c8d-9006-47e7-9967-d6da70917ba3"
      },
      "execution_count": 14,
      "outputs": [
        {
          "output_type": "stream",
          "name": "stdout",
          "text": [
            "Model: \"sequential\"\n",
            "_________________________________________________________________\n",
            " Layer (type)                Output Shape              Param #   \n",
            "=================================================================\n",
            " batch_normalization (BatchN  (None, 1433)             5732      \n",
            " ormalization)                                                   \n",
            "                                                                 \n",
            " dense (Dense)               (None, 128)               183552    \n",
            "                                                                 \n",
            " dropout (Dropout)           (None, 128)               0         \n",
            "                                                                 \n",
            " batch_normalization_1 (Batc  (None, 128)              512       \n",
            " hNormalization)                                                 \n",
            "                                                                 \n",
            " dense_1 (Dense)             (None, 64)                8256      \n",
            "                                                                 \n",
            " dropout_1 (Dropout)         (None, 64)                0         \n",
            "                                                                 \n",
            " batch_normalization_2 (Batc  (None, 64)               256       \n",
            " hNormalization)                                                 \n",
            "                                                                 \n",
            " dense_2 (Dense)             (None, 32)                2080      \n",
            "                                                                 \n",
            " dropout_2 (Dropout)         (None, 32)                0         \n",
            "                                                                 \n",
            " batch_normalization_3 (Batc  (None, 32)               128       \n",
            " hNormalization)                                                 \n",
            "                                                                 \n",
            " dense_3 (Dense)             (None, 16)                528       \n",
            "                                                                 \n",
            " dropout_3 (Dropout)         (None, 16)                0         \n",
            "                                                                 \n",
            " dense_4 (Dense)             (None, 7)                 119       \n",
            "                                                                 \n",
            "=================================================================\n",
            "Total params: 201,163\n",
            "Trainable params: 197,849\n",
            "Non-trainable params: 3,314\n",
            "_________________________________________________________________\n"
          ]
        }
      ]
    },
    {
      "cell_type": "code",
      "source": [
        "baseline_history=baseline_model.fit(X_train_baseline,y_train,epochs=EPOCHS, batch_size=BATCH,validation_split=0.1,callbacks=[es])"
      ],
      "metadata": {
        "colab": {
          "base_uri": "https://localhost:8080/"
        },
        "id": "yfgb32GTgXeK",
        "outputId": "6873dea5-2858-44d3-fb0f-59f075dba6d9"
      },
      "execution_count": 15,
      "outputs": [
        {
          "output_type": "stream",
          "name": "stdout",
          "text": [
            "Epoch 1/250\n",
            "16/16 [==============================] - 15s 78ms/step - loss: 2.1762 - accuracy: 0.1842 - val_loss: 1.9084 - val_accuracy: 0.3134\n",
            "Epoch 2/250\n",
            "16/16 [==============================] - 0s 22ms/step - loss: 1.8169 - accuracy: 0.2832 - val_loss: 1.8718 - val_accuracy: 0.3272\n",
            "Epoch 3/250\n",
            "16/16 [==============================] - 0s 21ms/step - loss: 1.6232 - accuracy: 0.3822 - val_loss: 1.8212 - val_accuracy: 0.3226\n",
            "Epoch 4/250\n",
            "16/16 [==============================] - 0s 18ms/step - loss: 1.4561 - accuracy: 0.4592 - val_loss: 1.7523 - val_accuracy: 0.3364\n",
            "Epoch 5/250\n",
            "16/16 [==============================] - 0s 23ms/step - loss: 1.2985 - accuracy: 0.5305 - val_loss: 1.6685 - val_accuracy: 0.3548\n",
            "Epoch 6/250\n",
            "16/16 [==============================] - 0s 21ms/step - loss: 1.1522 - accuracy: 0.6003 - val_loss: 1.5732 - val_accuracy: 0.4009\n",
            "Epoch 7/250\n",
            "16/16 [==============================] - 0s 27ms/step - loss: 1.0255 - accuracy: 0.6583 - val_loss: 1.4674 - val_accuracy: 0.4332\n",
            "Epoch 8/250\n",
            "16/16 [==============================] - 0s 18ms/step - loss: 0.8954 - accuracy: 0.7024 - val_loss: 1.3634 - val_accuracy: 0.4839\n",
            "Epoch 9/250\n",
            "16/16 [==============================] - 0s 18ms/step - loss: 0.8347 - accuracy: 0.7245 - val_loss: 1.2611 - val_accuracy: 0.5438\n",
            "Epoch 10/250\n",
            "16/16 [==============================] - 0s 28ms/step - loss: 0.7159 - accuracy: 0.7830 - val_loss: 1.1691 - val_accuracy: 0.5945\n",
            "Epoch 11/250\n",
            "16/16 [==============================] - 0s 15ms/step - loss: 0.6454 - accuracy: 0.8066 - val_loss: 1.1094 - val_accuracy: 0.6175\n",
            "Epoch 12/250\n",
            "16/16 [==============================] - 0s 20ms/step - loss: 0.5730 - accuracy: 0.8194 - val_loss: 1.0837 - val_accuracy: 0.6175\n",
            "Epoch 13/250\n",
            "16/16 [==============================] - 0s 16ms/step - loss: 0.5170 - accuracy: 0.8425 - val_loss: 1.0778 - val_accuracy: 0.6267\n",
            "Epoch 14/250\n",
            "16/16 [==============================] - 0s 23ms/step - loss: 0.4379 - accuracy: 0.8666 - val_loss: 1.0499 - val_accuracy: 0.6544\n",
            "Epoch 15/250\n",
            "16/16 [==============================] - 0s 17ms/step - loss: 0.4046 - accuracy: 0.8810 - val_loss: 1.0284 - val_accuracy: 0.6498\n",
            "Epoch 16/250\n",
            "16/16 [==============================] - 0s 14ms/step - loss: 0.3618 - accuracy: 0.8964 - val_loss: 1.0338 - val_accuracy: 0.6590\n",
            "Epoch 17/250\n",
            "16/16 [==============================] - 0s 20ms/step - loss: 0.3287 - accuracy: 0.8964 - val_loss: 1.0354 - val_accuracy: 0.6544\n",
            "Epoch 18/250\n",
            "16/16 [==============================] - 0s 17ms/step - loss: 0.2866 - accuracy: 0.9200 - val_loss: 1.1275 - val_accuracy: 0.6682\n",
            "Epoch 19/250\n",
            "16/16 [==============================] - 0s 15ms/step - loss: 0.2724 - accuracy: 0.9246 - val_loss: 1.0681 - val_accuracy: 0.6912\n",
            "Epoch 20/250\n",
            "16/16 [==============================] - 0s 18ms/step - loss: 0.2528 - accuracy: 0.9307 - val_loss: 1.1071 - val_accuracy: 0.6959\n",
            "Epoch 21/250\n",
            "16/16 [==============================] - 0s 22ms/step - loss: 0.2208 - accuracy: 0.9405 - val_loss: 1.1543 - val_accuracy: 0.7051\n",
            "Epoch 22/250\n",
            "16/16 [==============================] - 0s 22ms/step - loss: 0.2047 - accuracy: 0.9405 - val_loss: 1.2235 - val_accuracy: 0.6959\n",
            "Epoch 23/250\n",
            "16/16 [==============================] - 0s 20ms/step - loss: 0.2014 - accuracy: 0.9415 - val_loss: 1.1502 - val_accuracy: 0.7005\n",
            "Epoch 24/250\n",
            "16/16 [==============================] - 0s 15ms/step - loss: 0.1945 - accuracy: 0.9477 - val_loss: 1.2201 - val_accuracy: 0.7097\n",
            "Epoch 25/250\n",
            "16/16 [==============================] - 0s 14ms/step - loss: 0.1676 - accuracy: 0.9518 - val_loss: 1.2539 - val_accuracy: 0.7097\n",
            "Epoch 26/250\n",
            "16/16 [==============================] - 0s 15ms/step - loss: 0.1544 - accuracy: 0.9615 - val_loss: 1.2725 - val_accuracy: 0.7097\n",
            "Epoch 27/250\n",
            "16/16 [==============================] - 0s 20ms/step - loss: 0.1566 - accuracy: 0.9533 - val_loss: 1.2636 - val_accuracy: 0.6912\n",
            "Epoch 28/250\n",
            "16/16 [==============================] - 0s 21ms/step - loss: 0.1460 - accuracy: 0.9610 - val_loss: 1.3198 - val_accuracy: 0.7005\n",
            "Epoch 29/250\n",
            "16/16 [==============================] - 0s 20ms/step - loss: 0.1390 - accuracy: 0.9610 - val_loss: 1.3336 - val_accuracy: 0.6959\n",
            "Epoch 30/250\n",
            "16/16 [==============================] - 0s 29ms/step - loss: 0.1265 - accuracy: 0.9610 - val_loss: 1.3804 - val_accuracy: 0.6866\n",
            "Epoch 31/250\n",
            "16/16 [==============================] - 0s 24ms/step - loss: 0.1207 - accuracy: 0.9677 - val_loss: 1.4170 - val_accuracy: 0.7005\n",
            "Epoch 32/250\n",
            "16/16 [==============================] - 0s 25ms/step - loss: 0.1152 - accuracy: 0.9692 - val_loss: 1.4299 - val_accuracy: 0.7051\n",
            "Epoch 33/250\n",
            "16/16 [==============================] - 0s 29ms/step - loss: 0.1162 - accuracy: 0.9733 - val_loss: 1.4732 - val_accuracy: 0.7051\n",
            "Epoch 34/250\n",
            "16/16 [==============================] - 0s 26ms/step - loss: 0.1198 - accuracy: 0.9631 - val_loss: 1.5133 - val_accuracy: 0.6728\n",
            "Epoch 35/250\n",
            "16/16 [==============================] - 0s 19ms/step - loss: 0.1019 - accuracy: 0.9723 - val_loss: 1.5467 - val_accuracy: 0.6636\n",
            "Epoch 36/250\n",
            "16/16 [==============================] - 0s 23ms/step - loss: 0.1083 - accuracy: 0.9713 - val_loss: 1.5750 - val_accuracy: 0.6728\n",
            "Epoch 37/250\n",
            "16/16 [==============================] - 0s 26ms/step - loss: 0.0878 - accuracy: 0.9759 - val_loss: 1.6347 - val_accuracy: 0.6866\n",
            "Epoch 38/250\n",
            "16/16 [==============================] - 0s 27ms/step - loss: 0.0999 - accuracy: 0.9697 - val_loss: 1.6486 - val_accuracy: 0.6774\n",
            "Epoch 39/250\n",
            "16/16 [==============================] - 0s 23ms/step - loss: 0.1004 - accuracy: 0.9723 - val_loss: 1.7001 - val_accuracy: 0.6774\n",
            "Epoch 40/250\n",
            "16/16 [==============================] - 0s 23ms/step - loss: 0.0780 - accuracy: 0.9779 - val_loss: 1.7237 - val_accuracy: 0.6682\n",
            "Epoch 41/250\n",
            "16/16 [==============================] - 0s 23ms/step - loss: 0.0876 - accuracy: 0.9749 - val_loss: 1.7312 - val_accuracy: 0.6774\n",
            "Epoch 42/250\n",
            "16/16 [==============================] - 0s 24ms/step - loss: 0.0865 - accuracy: 0.9774 - val_loss: 1.7838 - val_accuracy: 0.6728\n",
            "Epoch 43/250\n",
            "16/16 [==============================] - 0s 27ms/step - loss: 0.0679 - accuracy: 0.9826 - val_loss: 1.8662 - val_accuracy: 0.6728\n",
            "Epoch 44/250\n",
            "16/16 [==============================] - 0s 27ms/step - loss: 0.0675 - accuracy: 0.9841 - val_loss: 1.8729 - val_accuracy: 0.6682\n",
            "Epoch 45/250\n",
            "16/16 [==============================] - 0s 15ms/step - loss: 0.0806 - accuracy: 0.9764 - val_loss: 1.8591 - val_accuracy: 0.6866\n",
            "Epoch 46/250\n",
            "16/16 [==============================] - 0s 16ms/step - loss: 0.0878 - accuracy: 0.9749 - val_loss: 1.8543 - val_accuracy: 0.6866\n",
            "Epoch 47/250\n",
            "16/16 [==============================] - 0s 17ms/step - loss: 0.0923 - accuracy: 0.9728 - val_loss: 1.9506 - val_accuracy: 0.6866\n",
            "Epoch 48/250\n",
            "16/16 [==============================] - 0s 17ms/step - loss: 0.0778 - accuracy: 0.9810 - val_loss: 1.9460 - val_accuracy: 0.7051\n",
            "Epoch 49/250\n",
            "16/16 [==============================] - 0s 14ms/step - loss: 0.0789 - accuracy: 0.9790 - val_loss: 1.9765 - val_accuracy: 0.7051\n",
            "Epoch 50/250\n",
            "16/16 [==============================] - 0s 18ms/step - loss: 0.0657 - accuracy: 0.9841 - val_loss: 2.0143 - val_accuracy: 0.7051\n",
            "Epoch 51/250\n",
            "16/16 [==============================] - 0s 19ms/step - loss: 0.0699 - accuracy: 0.9831 - val_loss: 2.0476 - val_accuracy: 0.6912\n",
            "Epoch 52/250\n",
            "16/16 [==============================] - 0s 15ms/step - loss: 0.0690 - accuracy: 0.9795 - val_loss: 2.0763 - val_accuracy: 0.6959\n",
            "Epoch 53/250\n",
            "16/16 [==============================] - 0s 16ms/step - loss: 0.0600 - accuracy: 0.9841 - val_loss: 2.0846 - val_accuracy: 0.6866\n",
            "Epoch 54/250\n",
            "16/16 [==============================] - 0s 18ms/step - loss: 0.0652 - accuracy: 0.9856 - val_loss: 2.0923 - val_accuracy: 0.6820\n",
            "Epoch 55/250\n",
            "16/16 [==============================] - 0s 16ms/step - loss: 0.0554 - accuracy: 0.9841 - val_loss: 2.0730 - val_accuracy: 0.6820\n",
            "Epoch 56/250\n",
            "16/16 [==============================] - 0s 19ms/step - loss: 0.0661 - accuracy: 0.9810 - val_loss: 2.1025 - val_accuracy: 0.6866\n",
            "Epoch 57/250\n",
            "16/16 [==============================] - 0s 17ms/step - loss: 0.0623 - accuracy: 0.9851 - val_loss: 2.1684 - val_accuracy: 0.6820\n",
            "Epoch 58/250\n",
            "16/16 [==============================] - 0s 18ms/step - loss: 0.0522 - accuracy: 0.9851 - val_loss: 2.1681 - val_accuracy: 0.6866\n",
            "Epoch 59/250\n",
            "16/16 [==============================] - 0s 19ms/step - loss: 0.0565 - accuracy: 0.9831 - val_loss: 2.1741 - val_accuracy: 0.6912\n",
            "Epoch 60/250\n",
            "16/16 [==============================] - 0s 19ms/step - loss: 0.0686 - accuracy: 0.9805 - val_loss: 2.1388 - val_accuracy: 0.6959\n",
            "Epoch 61/250\n",
            "16/16 [==============================] - 0s 26ms/step - loss: 0.0539 - accuracy: 0.9846 - val_loss: 2.2190 - val_accuracy: 0.6636\n",
            "Epoch 62/250\n",
            "16/16 [==============================] - 0s 18ms/step - loss: 0.0802 - accuracy: 0.9759 - val_loss: 2.2028 - val_accuracy: 0.6820\n",
            "Epoch 63/250\n",
            "16/16 [==============================] - 0s 18ms/step - loss: 0.0570 - accuracy: 0.9846 - val_loss: 2.1847 - val_accuracy: 0.6820\n",
            "Epoch 64/250\n",
            "16/16 [==============================] - 0s 27ms/step - loss: 0.0571 - accuracy: 0.9856 - val_loss: 2.2194 - val_accuracy: 0.6820\n",
            "Epoch 65/250\n",
            "16/16 [==============================] - 0s 22ms/step - loss: 0.0532 - accuracy: 0.9831 - val_loss: 2.2588 - val_accuracy: 0.6774\n"
          ]
        }
      ]
    },
    {
      "cell_type": "code",
      "source": [
        "baseline_results=baseline_history.history\n",
        "epoch=len(baseline_history.epoch)\n",
        "baseline_results.keys()"
      ],
      "metadata": {
        "id": "cQLoiV_ad9ZD",
        "colab": {
          "base_uri": "https://localhost:8080/"
        },
        "outputId": "2c44aa23-dcb9-4c97-f2d1-1915b1c122a5"
      },
      "execution_count": 16,
      "outputs": [
        {
          "output_type": "execute_result",
          "data": {
            "text/plain": [
              "dict_keys(['loss', 'accuracy', 'val_loss', 'val_accuracy'])"
            ]
          },
          "metadata": {},
          "execution_count": 16
        }
      ]
    },
    {
      "cell_type": "code",
      "source": [
        "fig,ax=plt.subplots(1,2, figsize=(10,5))\n",
        "ax.flatten()\n",
        "ax[0].plot(np.arange(1,epoch+1),baseline_results['loss'],'b-',label='Training loss')\n",
        "ax[0].plot(np.arange(1,epoch+1),baseline_results['val_loss'],'r-',label='Val loss')\n",
        "ax[0].legend()\n",
        "ax[1].plot(np.arange(1,epoch+1),baseline_results['accuracy'],'b-',label='Training accuracy')\n",
        "ax[1].plot(np.arange(1,epoch+1),baseline_results['val_accuracy'],'r-',label='Val accuracy')\n",
        "ax[1].legend()\n",
        "plt.show()"
      ],
      "metadata": {
        "id": "2LnfTTTTd9P4",
        "colab": {
          "base_uri": "https://localhost:8080/",
          "height": 320
        },
        "outputId": "8f6c3e13-1e61-4ec7-be5f-97855c116b37"
      },
      "execution_count": 17,
      "outputs": [
        {
          "output_type": "display_data",
          "data": {
            "text/plain": [
              "<Figure size 720x360 with 2 Axes>"
            ],
            "image/png": "[encoded data removed]"
          },
          "metadata": {
            "needs_background": "light"
          }
        }
      ]
    },
    {
      "cell_type": "code",
      "source": [
        "#Evaluate baseline model\n",
        "\n",
        "baseline_test_loss,baseline_test_acc=baseline_model.evaluate(X_test_baseline,y_test)\n",
        "print(f\"Baseline model test accuracy {baseline_test_acc} and loss {baseline_test_loss}\")"
      ],
      "metadata": {
        "id": "S3Nd0R2zd9MX",
        "colab": {
          "base_uri": "https://localhost:8080/"
        },
        "outputId": "fb8c36dc-407f-470e-a19e-e10afb98ce67"
      },
      "execution_count": 18,
      "outputs": [
        {
          "output_type": "stream",
          "name": "stdout",
          "text": [
            "17/17 [==============================] - 0s 3ms/step - loss: 1.0288 - accuracy: 0.6863\n",
            "Baseline model test accuracy 0.6863468885421753 and loss 1.0287590026855469\n"
          ]
        }
      ]
    },
    {
      "cell_type": "code",
      "source": [
        "#Predict values\n",
        "y_pred=baseline_model.predict(X_test_baseline)\n",
        "y_pred_vals=np.argmax(y_pred,axis=1)\n",
        "classification_summary(y_test,y_pred_vals,labels=class_idxs.keys())"
      ],
      "metadata": {
        "colab": {
          "base_uri": "https://localhost:8080/",
          "height": 667
        },
        "id": "F49LnbwRpP-Z",
        "outputId": "ec9f075d-c189-4350-944c-640b711ea4a4"
      },
      "execution_count": 19,
      "outputs": [
        {
          "output_type": "stream",
          "name": "stdout",
          "text": [
            "17/17 [==============================] - 0s 2ms/step\n",
            "              precision    recall  f1-score   support\n",
            "\n",
            "           0       0.82      0.52      0.64        63\n",
            "           1       0.78      0.90      0.84        80\n",
            "           2       0.59      0.91      0.72       152\n",
            "           3       0.80      0.69      0.74        88\n",
            "           4       0.85      0.52      0.64        54\n",
            "           5       0.78      0.19      0.30        37\n",
            "           6       0.56      0.47      0.51        68\n",
            "\n",
            "    accuracy                           0.69       542\n",
            "   macro avg       0.74      0.60      0.63       542\n",
            "weighted avg       0.72      0.69      0.67       542\n",
            "\n"
          ]
        },
        {
          "output_type": "display_data",
          "data": {
            "text/plain": [
              "<Figure size 432x288 with 2 Axes>"
            ],
            "image/png": "[encoded data removed]"
          },
          "metadata": {
            "needs_background": "light"
          }
        }
      ]
    },
    {
      "cell_type": "code",
      "source": [
        "#Create a baseline model to be more similar to GNN\n",
        "\n",
        "#Include skipped nodes\n",
        "\n",
        "def create_ffn(hidden_units, dropout_rate, name=None):\n",
        "    #Implement Feedforward Network module\n",
        "    fnn_layers = []\n",
        "\n",
        "    for units in hidden_units:\n",
        "        fnn_layers.append(tf.keras.layers.BatchNormalization())\n",
        "        fnn_layers.append(tf.keras.layers.Dense(units, activation=tf.nn.gelu))\n",
        "        fnn_layers.append(tf.keras.layers.Dropout(dropout_rate))\n",
        "        \n",
        "    return tf.keras.Sequential(fnn_layers, name=name)\n",
        "\n",
        "    \n",
        "\n",
        "def create_baseline_model(hidden_units, num_classes, dropout_rate=0.2):\n",
        "\n",
        "    inputs = tf.keras.layers.Input(shape=(INPUT,), name=\"input_features\")\n",
        "    x = create_ffn(hidden_units, dropout_rate, name=f\"ffn_block1\")(inputs)\n",
        "\n",
        "    for block_idx in range(1,5):\n",
        "        # Create an FFN block\n",
        "        x1 = create_ffn(hidden_units, dropout_rate, name=f\"ffn_block{block_idx + 1}\")(x)\n",
        "        # Add skip connection\n",
        "        x = tf.keras.layers.Add(name=f\"skip_connection{block_idx + 1}\")([x, x1])\n",
        "\n",
        "    # Get model probabilities\n",
        "    output = tf.keras.layers.Dense(num_classes, activation='softmax',name=\"prob\")(x)\n",
        "    # Create the model\n",
        "    return tf.keras.Model(inputs=inputs, outputs=output, name=\"baseline\")"
      ],
      "metadata": {
        "id": "bvQ4DWKOhEBb"
      },
      "execution_count": 20,
      "outputs": []
    },
    {
      "cell_type": "code",
      "source": [
        "baseline_model2=create_baseline_model(hidden_units, CLASS_NUM, dropout_rate=0.25)\n",
        "baseline_model2.summary()\n",
        "baseline_model2.compile(optimizer=tf.keras.optimizers.Adam(0.001),loss=tf.keras.losses.SparseCategoricalCrossentropy(),metrics=['accuracy'])"
      ],
      "metadata": {
        "colab": {
          "base_uri": "https://localhost:8080/"
        },
        "id": "bpn51Gf2hPzu",
        "outputId": "014638db-d5a7-47e3-aa1c-616b0b3a09e0"
      },
      "execution_count": 21,
      "outputs": [
        {
          "output_type": "stream",
          "name": "stdout",
          "text": [
            "Model: \"baseline\"\n",
            "__________________________________________________________________________________________________\n",
            " Layer (type)                   Output Shape         Param #     Connected to                     \n",
            "==================================================================================================\n",
            " input_features (InputLayer)    [(None, 1433)]       0           []                               \n",
            "                                                                                                  \n",
            " ffn_block1 (Sequential)        (None, 16)           53460       ['input_features[0][0]']         \n",
            "                                                                                                  \n",
            " ffn_block2 (Sequential)        (None, 16)           2448        ['ffn_block1[0][0]']             \n",
            "                                                                                                  \n",
            " skip_connection2 (Add)         (None, 16)           0           ['ffn_block1[0][0]',             \n",
            "                                                                  'ffn_block2[0][0]']             \n",
            "                                                                                                  \n",
            " ffn_block3 (Sequential)        (None, 16)           2448        ['skip_connection2[0][0]']       \n",
            "                                                                                                  \n",
            " skip_connection3 (Add)         (None, 16)           0           ['skip_connection2[0][0]',       \n",
            "                                                                  'ffn_block3[0][0]']             \n",
            "                                                                                                  \n",
            " ffn_block4 (Sequential)        (None, 16)           2448        ['skip_connection3[0][0]']       \n",
            "                                                                                                  \n",
            " skip_connection4 (Add)         (None, 16)           0           ['skip_connection3[0][0]',       \n",
            "                                                                  'ffn_block4[0][0]']             \n",
            "                                                                                                  \n",
            " ffn_block5 (Sequential)        (None, 16)           2448        ['skip_connection4[0][0]']       \n",
            "                                                                                                  \n",
            " skip_connection5 (Add)         (None, 16)           0           ['skip_connection4[0][0]',       \n",
            "                                                                  'ffn_block5[0][0]']             \n",
            "                                                                                                  \n",
            " prob (Dense)                   (None, 7)            119         ['skip_connection5[0][0]']       \n",
            "                                                                                                  \n",
            "==================================================================================================\n",
            "Total params: 63,371\n",
            "Trainable params: 59,737\n",
            "Non-trainable params: 3,634\n",
            "__________________________________________________________________________________________________\n"
          ]
        }
      ]
    },
    {
      "cell_type": "code",
      "source": [
        "baseline_history2=baseline_model2.fit(X_train_baseline,y_train,epochs=EPOCHS, batch_size=BATCH,validation_split=0.1,callbacks=[es])"
      ],
      "metadata": {
        "colab": {
          "base_uri": "https://localhost:8080/"
        },
        "id": "oZ6OREgHhXaw",
        "outputId": "594a7e6b-2bcc-454e-bc08-abb0a42e7bbf"
      },
      "execution_count": 22,
      "outputs": [
        {
          "output_type": "stream",
          "name": "stdout",
          "text": [
            "Epoch 1/250\n",
            "16/16 [==============================] - 16s 66ms/step - loss: 4.8516 - accuracy: 0.0934 - val_loss: 1.9241 - val_accuracy: 0.2581\n",
            "Epoch 2/250\n",
            "16/16 [==============================] - 0s 23ms/step - loss: 3.7307 - accuracy: 0.1016 - val_loss: 1.9144 - val_accuracy: 0.2765\n",
            "Epoch 3/250\n",
            "16/16 [==============================] - 0s 23ms/step - loss: 3.0238 - accuracy: 0.1278 - val_loss: 1.9103 - val_accuracy: 0.2811\n",
            "Epoch 4/250\n",
            "16/16 [==============================] - 0s 23ms/step - loss: 2.7238 - accuracy: 0.1442 - val_loss: 1.9079 - val_accuracy: 0.2811\n",
            "Epoch 5/250\n",
            "16/16 [==============================] - 0s 24ms/step - loss: 2.4473 - accuracy: 0.1924 - val_loss: 1.9065 - val_accuracy: 0.2811\n",
            "Epoch 6/250\n",
            "16/16 [==============================] - 0s 23ms/step - loss: 2.2651 - accuracy: 0.2237 - val_loss: 1.9054 - val_accuracy: 0.2811\n",
            "Epoch 7/250\n",
            "16/16 [==============================] - 0s 23ms/step - loss: 2.1927 - accuracy: 0.2304 - val_loss: 1.9043 - val_accuracy: 0.2811\n",
            "Epoch 8/250\n",
            "16/16 [==============================] - 0s 22ms/step - loss: 2.1294 - accuracy: 0.2642 - val_loss: 1.9018 - val_accuracy: 0.2811\n",
            "Epoch 9/250\n",
            "16/16 [==============================] - 0s 23ms/step - loss: 2.1152 - accuracy: 0.2709 - val_loss: 1.8975 - val_accuracy: 0.2811\n",
            "Epoch 10/250\n",
            "16/16 [==============================] - 0s 23ms/step - loss: 2.0381 - accuracy: 0.2735 - val_loss: 1.8955 - val_accuracy: 0.2811\n",
            "Epoch 11/250\n",
            "16/16 [==============================] - 0s 23ms/step - loss: 2.0012 - accuracy: 0.2899 - val_loss: 1.8880 - val_accuracy: 0.2811\n",
            "Epoch 12/250\n",
            "16/16 [==============================] - 0s 23ms/step - loss: 1.9532 - accuracy: 0.3084 - val_loss: 1.8733 - val_accuracy: 0.2811\n",
            "Epoch 13/250\n",
            "16/16 [==============================] - 0s 24ms/step - loss: 1.9258 - accuracy: 0.3084 - val_loss: 1.8684 - val_accuracy: 0.2811\n",
            "Epoch 14/250\n",
            "16/16 [==============================] - 0s 25ms/step - loss: 1.8962 - accuracy: 0.3253 - val_loss: 1.8589 - val_accuracy: 0.2811\n",
            "Epoch 15/250\n",
            "16/16 [==============================] - 0s 23ms/step - loss: 1.8674 - accuracy: 0.3212 - val_loss: 1.8484 - val_accuracy: 0.2811\n",
            "Epoch 16/250\n",
            "16/16 [==============================] - 0s 25ms/step - loss: 1.8032 - accuracy: 0.3402 - val_loss: 1.8319 - val_accuracy: 0.2811\n",
            "Epoch 17/250\n",
            "16/16 [==============================] - 0s 23ms/step - loss: 1.8105 - accuracy: 0.3463 - val_loss: 1.8088 - val_accuracy: 0.2995\n",
            "Epoch 18/250\n",
            "16/16 [==============================] - 1s 36ms/step - loss: 1.7133 - accuracy: 0.3725 - val_loss: 1.7867 - val_accuracy: 0.3134\n",
            "Epoch 19/250\n",
            "16/16 [==============================] - 1s 35ms/step - loss: 1.7240 - accuracy: 0.3628 - val_loss: 1.7695 - val_accuracy: 0.3226\n",
            "Epoch 20/250\n",
            "16/16 [==============================] - 0s 29ms/step - loss: 1.6955 - accuracy: 0.3715 - val_loss: 1.7486 - val_accuracy: 0.3364\n",
            "Epoch 21/250\n",
            "16/16 [==============================] - 0s 31ms/step - loss: 1.6546 - accuracy: 0.4007 - val_loss: 1.7207 - val_accuracy: 0.3502\n",
            "Epoch 22/250\n",
            "16/16 [==============================] - 1s 33ms/step - loss: 1.6450 - accuracy: 0.4161 - val_loss: 1.6954 - val_accuracy: 0.3641\n",
            "Epoch 23/250\n",
            "16/16 [==============================] - 1s 36ms/step - loss: 1.5824 - accuracy: 0.4156 - val_loss: 1.6713 - val_accuracy: 0.4009\n",
            "Epoch 24/250\n",
            "16/16 [==============================] - 1s 36ms/step - loss: 1.5444 - accuracy: 0.4274 - val_loss: 1.6476 - val_accuracy: 0.4055\n",
            "Epoch 25/250\n",
            "16/16 [==============================] - 1s 33ms/step - loss: 1.5418 - accuracy: 0.4366 - val_loss: 1.6338 - val_accuracy: 0.4101\n",
            "Epoch 26/250\n",
            "16/16 [==============================] - 1s 35ms/step - loss: 1.4745 - accuracy: 0.4387 - val_loss: 1.6180 - val_accuracy: 0.4101\n",
            "Epoch 27/250\n",
            "16/16 [==============================] - 1s 32ms/step - loss: 1.4476 - accuracy: 0.4613 - val_loss: 1.5978 - val_accuracy: 0.4424\n",
            "Epoch 28/250\n",
            "16/16 [==============================] - 0s 24ms/step - loss: 1.4264 - accuracy: 0.4895 - val_loss: 1.5842 - val_accuracy: 0.4608\n",
            "Epoch 29/250\n",
            "16/16 [==============================] - 0s 23ms/step - loss: 1.3698 - accuracy: 0.5028 - val_loss: 1.5702 - val_accuracy: 0.4654\n",
            "Epoch 30/250\n",
            "16/16 [==============================] - 0s 25ms/step - loss: 1.3439 - accuracy: 0.5187 - val_loss: 1.5556 - val_accuracy: 0.4700\n",
            "Epoch 31/250\n",
            "16/16 [==============================] - 0s 24ms/step - loss: 1.3229 - accuracy: 0.5177 - val_loss: 1.5408 - val_accuracy: 0.4885\n",
            "Epoch 32/250\n",
            "16/16 [==============================] - 0s 24ms/step - loss: 1.2613 - accuracy: 0.5372 - val_loss: 1.5235 - val_accuracy: 0.4793\n",
            "Epoch 33/250\n",
            "16/16 [==============================] - 0s 25ms/step - loss: 1.2508 - accuracy: 0.5382 - val_loss: 1.5158 - val_accuracy: 0.4793\n",
            "Epoch 34/250\n",
            "16/16 [==============================] - 0s 22ms/step - loss: 1.2324 - accuracy: 0.5562 - val_loss: 1.5025 - val_accuracy: 0.5023\n",
            "Epoch 35/250\n",
            "16/16 [==============================] - 0s 23ms/step - loss: 1.1963 - accuracy: 0.5767 - val_loss: 1.4918 - val_accuracy: 0.5023\n",
            "Epoch 36/250\n",
            "16/16 [==============================] - 0s 23ms/step - loss: 1.1289 - accuracy: 0.6085 - val_loss: 1.4753 - val_accuracy: 0.5115\n",
            "Epoch 37/250\n",
            "16/16 [==============================] - 0s 23ms/step - loss: 1.1295 - accuracy: 0.6060 - val_loss: 1.4646 - val_accuracy: 0.5207\n",
            "Epoch 38/250\n",
            "16/16 [==============================] - 0s 24ms/step - loss: 1.0669 - accuracy: 0.6280 - val_loss: 1.4475 - val_accuracy: 0.5392\n",
            "Epoch 39/250\n",
            "16/16 [==============================] - 0s 23ms/step - loss: 1.0755 - accuracy: 0.6157 - val_loss: 1.4395 - val_accuracy: 0.5392\n",
            "Epoch 40/250\n",
            "16/16 [==============================] - 0s 23ms/step - loss: 1.0137 - accuracy: 0.6337 - val_loss: 1.4253 - val_accuracy: 0.5576\n",
            "Epoch 41/250\n",
            "16/16 [==============================] - 0s 24ms/step - loss: 0.9694 - accuracy: 0.6721 - val_loss: 1.4150 - val_accuracy: 0.5622\n",
            "Epoch 42/250\n",
            "16/16 [==============================] - 0s 22ms/step - loss: 0.9433 - accuracy: 0.6768 - val_loss: 1.4056 - val_accuracy: 0.5806\n",
            "Epoch 43/250\n",
            "16/16 [==============================] - 0s 19ms/step - loss: 0.9104 - accuracy: 0.6865 - val_loss: 1.4074 - val_accuracy: 0.5853\n",
            "Epoch 44/250\n",
            "16/16 [==============================] - 0s 20ms/step - loss: 0.8843 - accuracy: 0.7065 - val_loss: 1.4139 - val_accuracy: 0.5806\n",
            "Epoch 45/250\n",
            "16/16 [==============================] - 0s 23ms/step - loss: 0.8733 - accuracy: 0.6901 - val_loss: 1.4034 - val_accuracy: 0.5945\n",
            "Epoch 46/250\n",
            "16/16 [==============================] - 0s 22ms/step - loss: 0.8143 - accuracy: 0.7250 - val_loss: 1.4008 - val_accuracy: 0.5945\n",
            "Epoch 47/250\n",
            "16/16 [==============================] - 0s 21ms/step - loss: 0.8008 - accuracy: 0.7337 - val_loss: 1.4088 - val_accuracy: 0.5853\n",
            "Epoch 48/250\n",
            "16/16 [==============================] - 0s 21ms/step - loss: 0.7730 - accuracy: 0.7352 - val_loss: 1.4127 - val_accuracy: 0.5899\n",
            "Epoch 49/250\n",
            "16/16 [==============================] - 0s 21ms/step - loss: 0.7517 - accuracy: 0.7589 - val_loss: 1.4158 - val_accuracy: 0.6083\n",
            "Epoch 50/250\n",
            "16/16 [==============================] - 0s 21ms/step - loss: 0.7055 - accuracy: 0.7640 - val_loss: 1.4143 - val_accuracy: 0.6221\n",
            "Epoch 51/250\n",
            "16/16 [==============================] - 0s 22ms/step - loss: 0.6804 - accuracy: 0.7737 - val_loss: 1.4094 - val_accuracy: 0.6313\n",
            "Epoch 52/250\n",
            "16/16 [==============================] - 0s 20ms/step - loss: 0.6651 - accuracy: 0.7794 - val_loss: 1.4175 - val_accuracy: 0.6313\n",
            "Epoch 53/250\n",
            "16/16 [==============================] - 0s 22ms/step - loss: 0.6663 - accuracy: 0.7794 - val_loss: 1.4143 - val_accuracy: 0.6498\n",
            "Epoch 54/250\n",
            "16/16 [==============================] - 0s 20ms/step - loss: 0.6261 - accuracy: 0.7963 - val_loss: 1.4156 - val_accuracy: 0.6544\n",
            "Epoch 55/250\n",
            "16/16 [==============================] - 0s 26ms/step - loss: 0.5966 - accuracy: 0.8030 - val_loss: 1.4220 - val_accuracy: 0.6359\n",
            "Epoch 56/250\n",
            "16/16 [==============================] - 0s 29ms/step - loss: 0.5744 - accuracy: 0.8179 - val_loss: 1.4132 - val_accuracy: 0.6359\n",
            "Epoch 57/250\n",
            "16/16 [==============================] - 0s 28ms/step - loss: 0.5599 - accuracy: 0.8184 - val_loss: 1.4202 - val_accuracy: 0.6406\n",
            "Epoch 58/250\n",
            "16/16 [==============================] - 0s 28ms/step - loss: 0.5406 - accuracy: 0.8261 - val_loss: 1.4367 - val_accuracy: 0.6406\n",
            "Epoch 59/250\n",
            "16/16 [==============================] - 0s 29ms/step - loss: 0.5264 - accuracy: 0.8250 - val_loss: 1.4518 - val_accuracy: 0.6452\n",
            "Epoch 60/250\n",
            "16/16 [==============================] - 0s 31ms/step - loss: 0.5198 - accuracy: 0.8348 - val_loss: 1.4614 - val_accuracy: 0.6498\n",
            "Epoch 61/250\n",
            "16/16 [==============================] - 1s 33ms/step - loss: 0.5111 - accuracy: 0.8379 - val_loss: 1.4720 - val_accuracy: 0.6313\n",
            "Epoch 62/250\n",
            "16/16 [==============================] - 0s 31ms/step - loss: 0.4767 - accuracy: 0.8517 - val_loss: 1.5112 - val_accuracy: 0.6359\n",
            "Epoch 63/250\n",
            "16/16 [==============================] - 1s 33ms/step - loss: 0.4540 - accuracy: 0.8568 - val_loss: 1.5232 - val_accuracy: 0.6452\n",
            "Epoch 64/250\n",
            "16/16 [==============================] - 1s 33ms/step - loss: 0.4605 - accuracy: 0.8492 - val_loss: 1.5168 - val_accuracy: 0.6498\n",
            "Epoch 65/250\n",
            "16/16 [==============================] - 1s 32ms/step - loss: 0.4437 - accuracy: 0.8584 - val_loss: 1.5131 - val_accuracy: 0.6498\n",
            "Epoch 66/250\n",
            "16/16 [==============================] - 0s 25ms/step - loss: 0.4323 - accuracy: 0.8671 - val_loss: 1.5068 - val_accuracy: 0.6452\n",
            "Epoch 67/250\n",
            "16/16 [==============================] - 0s 22ms/step - loss: 0.4147 - accuracy: 0.8604 - val_loss: 1.5068 - val_accuracy: 0.6359\n",
            "Epoch 68/250\n",
            "16/16 [==============================] - 0s 21ms/step - loss: 0.4015 - accuracy: 0.8651 - val_loss: 1.5076 - val_accuracy: 0.6452\n",
            "Epoch 69/250\n",
            "16/16 [==============================] - 0s 22ms/step - loss: 0.3796 - accuracy: 0.8784 - val_loss: 1.5300 - val_accuracy: 0.6498\n",
            "Epoch 70/250\n",
            "16/16 [==============================] - 0s 22ms/step - loss: 0.3817 - accuracy: 0.8810 - val_loss: 1.5408 - val_accuracy: 0.6636\n",
            "Epoch 71/250\n",
            "16/16 [==============================] - 0s 22ms/step - loss: 0.3529 - accuracy: 0.8938 - val_loss: 1.5560 - val_accuracy: 0.6682\n",
            "Epoch 72/250\n",
            "16/16 [==============================] - 0s 23ms/step - loss: 0.3533 - accuracy: 0.8948 - val_loss: 1.5573 - val_accuracy: 0.6636\n",
            "Epoch 73/250\n",
            "16/16 [==============================] - 0s 21ms/step - loss: 0.3361 - accuracy: 0.9041 - val_loss: 1.5930 - val_accuracy: 0.6452\n",
            "Epoch 74/250\n",
            "16/16 [==============================] - 0s 22ms/step - loss: 0.3283 - accuracy: 0.8953 - val_loss: 1.6240 - val_accuracy: 0.6544\n",
            "Epoch 75/250\n",
            "16/16 [==============================] - 0s 24ms/step - loss: 0.3113 - accuracy: 0.9025 - val_loss: 1.6411 - val_accuracy: 0.6544\n",
            "Epoch 76/250\n",
            "16/16 [==============================] - 0s 22ms/step - loss: 0.3304 - accuracy: 0.9005 - val_loss: 1.6463 - val_accuracy: 0.6498\n",
            "Epoch 77/250\n",
            "16/16 [==============================] - 0s 22ms/step - loss: 0.3123 - accuracy: 0.9071 - val_loss: 1.6459 - val_accuracy: 0.6498\n",
            "Epoch 78/250\n",
            "16/16 [==============================] - 0s 22ms/step - loss: 0.3177 - accuracy: 0.8984 - val_loss: 1.6693 - val_accuracy: 0.6636\n",
            "Epoch 79/250\n",
            "16/16 [==============================] - 0s 21ms/step - loss: 0.3003 - accuracy: 0.9066 - val_loss: 1.7087 - val_accuracy: 0.6544\n",
            "Epoch 80/250\n",
            "16/16 [==============================] - 0s 21ms/step - loss: 0.2858 - accuracy: 0.9087 - val_loss: 1.7013 - val_accuracy: 0.6682\n",
            "Epoch 81/250\n",
            "16/16 [==============================] - 0s 22ms/step - loss: 0.2902 - accuracy: 0.9128 - val_loss: 1.7047 - val_accuracy: 0.6590\n",
            "Epoch 82/250\n",
            "16/16 [==============================] - 0s 21ms/step - loss: 0.2951 - accuracy: 0.9046 - val_loss: 1.7237 - val_accuracy: 0.6728\n",
            "Epoch 83/250\n",
            "16/16 [==============================] - 0s 21ms/step - loss: 0.2585 - accuracy: 0.9179 - val_loss: 1.6947 - val_accuracy: 0.6774\n",
            "Epoch 84/250\n",
            "16/16 [==============================] - 0s 21ms/step - loss: 0.2625 - accuracy: 0.9194 - val_loss: 1.7037 - val_accuracy: 0.6820\n",
            "Epoch 85/250\n",
            "16/16 [==============================] - 0s 22ms/step - loss: 0.2381 - accuracy: 0.9312 - val_loss: 1.7145 - val_accuracy: 0.6636\n",
            "Epoch 86/250\n",
            "16/16 [==============================] - 0s 21ms/step - loss: 0.2449 - accuracy: 0.9241 - val_loss: 1.7334 - val_accuracy: 0.6590\n",
            "Epoch 87/250\n",
            "16/16 [==============================] - 0s 21ms/step - loss: 0.2221 - accuracy: 0.9343 - val_loss: 1.7570 - val_accuracy: 0.6636\n",
            "Epoch 88/250\n",
            "16/16 [==============================] - 0s 20ms/step - loss: 0.2485 - accuracy: 0.9179 - val_loss: 1.7626 - val_accuracy: 0.6544\n",
            "Epoch 89/250\n",
            "16/16 [==============================] - 0s 21ms/step - loss: 0.2287 - accuracy: 0.9277 - val_loss: 1.7477 - val_accuracy: 0.6682\n",
            "Epoch 90/250\n",
            "16/16 [==============================] - 0s 23ms/step - loss: 0.2225 - accuracy: 0.9271 - val_loss: 1.7775 - val_accuracy: 0.6682\n",
            "Epoch 91/250\n",
            "16/16 [==============================] - 0s 21ms/step - loss: 0.2236 - accuracy: 0.9323 - val_loss: 1.7689 - val_accuracy: 0.6820\n",
            "Epoch 92/250\n",
            "16/16 [==============================] - 0s 21ms/step - loss: 0.2043 - accuracy: 0.9379 - val_loss: 1.7701 - val_accuracy: 0.6728\n",
            "Epoch 93/250\n",
            "16/16 [==============================] - 0s 21ms/step - loss: 0.2274 - accuracy: 0.9271 - val_loss: 1.7732 - val_accuracy: 0.6682\n",
            "Epoch 94/250\n",
            "16/16 [==============================] - 0s 28ms/step - loss: 0.2114 - accuracy: 0.9292 - val_loss: 1.7787 - val_accuracy: 0.6728\n",
            "Epoch 95/250\n",
            "16/16 [==============================] - 0s 31ms/step - loss: 0.2198 - accuracy: 0.9328 - val_loss: 1.7951 - val_accuracy: 0.6820\n",
            "Epoch 96/250\n",
            "16/16 [==============================] - 0s 31ms/step - loss: 0.2117 - accuracy: 0.9338 - val_loss: 1.7777 - val_accuracy: 0.6820\n"
          ]
        }
      ]
    },
    {
      "cell_type": "code",
      "source": [
        "baseline_results=baseline_history2.history\n",
        "epoch=len(baseline_history2.epoch)\n",
        "baseline_results.keys()"
      ],
      "metadata": {
        "colab": {
          "base_uri": "https://localhost:8080/"
        },
        "id": "LX-ZbSaKhQw9",
        "outputId": "22565399-4ddc-493c-e0af-212660e5543c"
      },
      "execution_count": 23,
      "outputs": [
        {
          "output_type": "execute_result",
          "data": {
            "text/plain": [
              "dict_keys(['loss', 'accuracy', 'val_loss', 'val_accuracy'])"
            ]
          },
          "metadata": {},
          "execution_count": 23
        }
      ]
    },
    {
      "cell_type": "code",
      "source": [
        "fig,ax=plt.subplots(1,2, figsize=(10,5))\n",
        "ax.flatten()\n",
        "ax[0].plot(np.arange(1,epoch+1),baseline_results['loss'],'b-',label='Training loss')\n",
        "ax[0].plot(np.arange(1,epoch+1),baseline_results['val_loss'],'r-',label='Val loss')\n",
        "ax[0].legend()\n",
        "ax[1].plot(np.arange(1,epoch+1),baseline_results['accuracy'],'b-',label='Training accuracy')\n",
        "ax[1].plot(np.arange(1,epoch+1),baseline_results['val_accuracy'],'r-',label='Val accuracy')\n",
        "ax[1].legend()\n",
        "plt.show()"
      ],
      "metadata": {
        "colab": {
          "base_uri": "https://localhost:8080/",
          "height": 320
        },
        "id": "EsOMpIrqjz3m",
        "outputId": "9fe5042b-1dde-4013-bddb-c739073567d1"
      },
      "execution_count": 24,
      "outputs": [
        {
          "output_type": "display_data",
          "data": {
            "text/plain": [
              "<Figure size 720x360 with 2 Axes>"
            ],
            "image/png": "[encoded data removed]"
          },
          "metadata": {
            "needs_background": "light"
          }
        }
      ]
    },
    {
      "cell_type": "code",
      "source": [
        "#Evaluate baseline model\n",
        "\n",
        "baseline_test_loss,baseline_test_acc=baseline_model2.evaluate(X_test_baseline,y_test)\n",
        "print(f\"Baseline model test accuracy {baseline_test_acc} and loss {baseline_test_loss}\")"
      ],
      "metadata": {
        "colab": {
          "base_uri": "https://localhost:8080/"
        },
        "id": "YD0XFw27hSNo",
        "outputId": "f436dfc8-a936-49f0-8c63-f79a1321d716"
      },
      "execution_count": 25,
      "outputs": [
        {
          "output_type": "stream",
          "name": "stdout",
          "text": [
            "17/17 [==============================] - 0s 5ms/step - loss: 1.2789 - accuracy: 0.6144\n",
            "Baseline model test accuracy 0.6143911480903625 and loss 1.2788691520690918\n"
          ]
        }
      ]
    },
    {
      "cell_type": "code",
      "source": [
        "#Predict values\n",
        "y_pred=baseline_model2.predict(X_test_baseline)\n",
        "y_pred_vals=np.argmax(y_pred,axis=1)\n",
        "classification_summary(y_test,y_pred_vals,labels=class_idxs.keys())"
      ],
      "metadata": {
        "colab": {
          "base_uri": "https://localhost:8080/",
          "height": 671
        },
        "id": "TXkR37tVqvZ7",
        "outputId": "286c7879-27d8-4c27-91f8-dee4c047d6a7"
      },
      "execution_count": 26,
      "outputs": [
        {
          "output_type": "stream",
          "name": "stdout",
          "text": [
            "17/17 [==============================] - 1s 4ms/step\n",
            "              precision    recall  f1-score   support\n",
            "\n",
            "           0       0.83      0.46      0.59        63\n",
            "           1       0.52      0.75      0.62        80\n",
            "           2       0.71      0.79      0.75       152\n",
            "           3       0.57      0.64      0.60        88\n",
            "           4       0.85      0.31      0.46        54\n",
            "           5       0.93      0.35      0.51        37\n",
            "           6       0.41      0.56      0.47        68\n",
            "\n",
            "    accuracy                           0.61       542\n",
            "   macro avg       0.69      0.55      0.57       542\n",
            "weighted avg       0.67      0.61      0.61       542\n",
            "\n"
          ]
        },
        {
          "output_type": "display_data",
          "data": {
            "text/plain": [
              "<Figure size 432x288 with 2 Axes>"
            ],
            "image/png": "[encoded data removed]"
          },
          "metadata": {
            "needs_background": "light"
          }
        }
      ]
    },
    {
      "cell_type": "code",
      "source": [
        "#Build GNN model\n",
        "\n",
        "#This example demonstrates a simple approach to prepare graph data where you have\n",
        "# a single graph that fits entirely in memory.\n",
        "\n",
        "\n",
        "\"\"\"\n",
        "The graph data is represented by the graph_info tuple:\n",
        "\n",
        "    node_features, array[num_nodes, num_features] - an array that includes the node features. \n",
        "    The nodes are the papers, and the node_features are  binary \n",
        "    vectors for each paper.\n",
        "\n",
        "    edges, array[num_edges, num_edges] -  a sparse adjacency matrix of the links between the nodes. \n",
        "    The links are the citations between the papers.\n",
        "\n",
        "    edge_weights (optional), array[num_edges] - an array that includes the edge weights, \n",
        "    which quantify the relationships between nodes in the graph\n",
        "\"\"\"\n",
        "\n",
        "\n",
        "# Create an edges array (sparse adjacency matrix)  [2, num_edges]\n",
        "edges = citations[[\"source\", \"target\"]].to_numpy().T\n",
        "# Create an edge weights array of ones\n",
        "edge_weights = tf.ones(shape=edges.shape[1])\n",
        "# Create a node features array [num_nodes, num_features]\n",
        "node_features = tf.cast(papers.sort_values(\"ID\")[feature_names].to_numpy(), dtype=tf.dtypes.float32)\n",
        "# Create graph info tuple \n",
        "graph_info = (node_features, edges, edge_weights)\n",
        "\n",
        "print(\"Edges shape:\", edges.shape)\n",
        "print(\"Nodes shape:\", node_features.shape)\n"
      ],
      "metadata": {
        "id": "IadTtngPd9Ab",
        "colab": {
          "base_uri": "https://localhost:8080/"
        },
        "outputId": "34e5cbea-2529-4a10-9cef-bf3431b351c9"
      },
      "execution_count": 27,
      "outputs": [
        {
          "output_type": "stream",
          "name": "stdout",
          "text": [
            "Edges shape: (2, 5429)\n",
            "Nodes shape: (2708, 1434)\n"
          ]
        }
      ]
    },
    {
      "cell_type": "markdown",
      "source": [
        "###Implementing a graph convolution layer\n",
        "\n",
        "We are going to use keras layers for our GCN. Key steps involve preparation to produce a message, then we aggregate neigbours features using edge weights and finally we update the node information.\n",
        "\n",
        "### NOTE \n",
        "GRU requires sequence stacking while other aggregation types use concatenation.\n"
      ],
      "metadata": {
        "id": "CMj-ajIys9O_"
      }
    },
    {
      "cell_type": "code",
      "source": [
        "class GraphConvLayer(tf.keras.layers.Layer):\n",
        "    def __init__(self,hidden_units,\n",
        "        dropout_rate=0.2, aggregation_type=\"mean\",\n",
        "        combination_type=\"concat\",normalize=False,\n",
        "        *args,**kwargs):\n",
        "        super().__init__(*args, **kwargs)\n",
        "\n",
        "        self.aggregation_type = aggregation_type\n",
        "        self.combination_type = combination_type\n",
        "        self.normalize = normalize\n",
        "\n",
        "        #Prepare input\n",
        "        self.ffn_prepare = create_ffn(hidden_units, dropout_rate)\n",
        "\n",
        "        #Define update function\n",
        "        if self.combination_type == \"gated\":\n",
        "\n",
        "            self.update_fn = tf.keras.layers.GRU(\n",
        "                units=hidden_units,\n",
        "                activation=\"tanh\",\n",
        "                recurrent_activation=\"sigmoid\",\n",
        "                dropout=dropout_rate,\n",
        "                return_state=True,\n",
        "                recurrent_dropout=dropout_rate,\n",
        "            )\n",
        "        else:\n",
        "            self.update_fn = create_ffn(hidden_units, dropout_rate)\n",
        "\n",
        "    def prepare(self, node_repesentations, weights=None):\n",
        "        # node_repesentations shape is [num_edges, embedding_dim]\n",
        "        messages = self.ffn_prepare(node_repesentations)\n",
        "        if weights is not None:\n",
        "            messages = messages * tf.expand_dims(weights, -1)\n",
        "        return messages\n",
        "\n",
        "    def aggregate(self, node_indices, neighbour_messages, node_repesentations):\n",
        "        # node_indices shape is [num_edges]\n",
        "        # neighbour_messages shape: [num_edges, representation_dim]\n",
        "        # node_repesentations shape is [num_nodes, representation_dim]\n",
        "\n",
        "\n",
        "        num_nodes = node_repesentations.shape[0]\n",
        "\n",
        "        if self.aggregation_type == \"sum\":\n",
        "            aggregated_message = tf.math.unsorted_segment_sum(\n",
        "                neighbour_messages, node_indices, num_segments=num_nodes)\n",
        "        elif self.aggregation_type == \"mean\":\n",
        "            aggregated_message = tf.math.unsorted_segment_mean(\n",
        "                neighbour_messages, node_indices, num_segments=num_nodes)\n",
        "        elif self.aggregation_type == \"max\":\n",
        "            aggregated_message = tf.math.unsorted_segment_max(\n",
        "                neighbour_messages, node_indices, num_segments=num_nodes)\n",
        "        else:\n",
        "            raise ValueError(f\"Invalid aggregation type: {self.aggregation_type}.\")\n",
        "\n",
        "        return aggregated_message\n",
        "\n",
        "    def update(self, node_repesentations, aggregated_messages):\n",
        "\n",
        "        # node_repesentations shape is [num_nodes, representation_dim]\n",
        "        # aggregated_messages shape is [num_nodes, representation_dim]\n",
        "\n",
        "\n",
        "        if self.combination_type == \"gru\":\n",
        "            # Create a sequence of two elements for the GRU layer.\n",
        "            h = tf.stack([node_repesentations, aggregated_messages], axis=1)\n",
        "        elif self.combination_type == \"concat\":\n",
        "            # Concatenate the node_repesentations and aggregated_messages.\n",
        "            h = tf.concat([node_repesentations, aggregated_messages], axis=1)\n",
        "        elif self.combination_type == \"add\":\n",
        "            # Add node_repesentations and aggregated_messages.\n",
        "            h = node_repesentations + aggregated_messages\n",
        "        else:\n",
        "            raise ValueError(f\"Invalid combination type: {self.combination_type}.\")\n",
        "\n",
        "        # Process node embedings\n",
        "        node_embeddings = self.update_fn(h)\n",
        "        if self.combination_type == \"gru\":\n",
        "            node_embeddings = tf.unstack(node_embeddings, axis=1)[-1]\n",
        "\n",
        "        if self.normalize:\n",
        "            node_embeddings = tf.nn.l2_normalize(node_embeddings, axis=-1)\n",
        "        return node_embeddings\n",
        "\n",
        "    def call(self, inputs):\n",
        "        \"\"\"\n",
        "        GCN generates node embedings\n",
        "\n",
        "        Inputs: a tuple of node_repesentations, edges, edge_weights\n",
        "\n",
        "        Returns: node_embeddings of shape [num_nodes, representation_dim]\n",
        "        \"\"\"\n",
        "\n",
        "        node_repesentations, edges, edge_weights = inputs\n",
        "\n",
        "        # Get node_indices (source) and neighbour_indices (target)\n",
        "        node_indices, neighbour_indices = edges[0], edges[1]\n",
        "\n",
        "        # neighbour_repesentations shape is [num_edges, representation_dim]\n",
        "        neighbour_repesentations = tf.gather(node_repesentations, neighbour_indices)\n",
        "\n",
        "        # Prepare the messages of the neighbours\n",
        "        neighbour_messages = self.prepare(neighbour_repesentations, edge_weights)\n",
        "\n",
        "        # Aggregate the neighbour messages\n",
        "        aggregated_messages = self.aggregate(node_indices, neighbour_messages, node_repesentations)\n",
        "\n",
        "        # Update the node embedding with the neighbour messages\n",
        "        return self.update(node_repesentations, aggregated_messages)\n"
      ],
      "metadata": {
        "id": "FwwFNA7MA95i"
      },
      "execution_count": 28,
      "outputs": []
    },
    {
      "cell_type": "markdown",
      "source": [
        "### Implement GCN node classifier\n",
        "\n",
        "The GNN classification model follows the Design Space for Graph Neural Networks approach.\n",
        "\n",
        "###NOTE\n",
        "Each additional convolutional layer captures information from a further level of neighbours. This can lead to oversmoothing if you add too many layers.\n"
      ],
      "metadata": {
        "id": "3gWs1T6nbi9A"
      }
    },
    {
      "cell_type": "code",
      "source": [
        "class GNNNodeClassifier(tf.keras.Model):\n",
        "    def __init__(self,\n",
        "        graph_info,\n",
        "        num_classes,\n",
        "        hidden_units,\n",
        "        aggregation_type=\"sum\",\n",
        "        combination_type=\"concat\",\n",
        "        dropout_rate=0.2,\n",
        "        normalize=True,\n",
        "        *args,\n",
        "        **kwargs):\n",
        "        super().__init__(*args, **kwargs)\n",
        "\n",
        "        node_features, edges, edge_weights = graph_info\n",
        "        self.node_features = node_features\n",
        "        self.edges = edges\n",
        "        self.edge_weights = edge_weights\n",
        "\n",
        "\n",
        "        # Set edge_weights to ones if not provided\n",
        "        if self.edge_weights is None:\n",
        "            self.edge_weights = tf.ones(shape=edges.shape[1])\n",
        "\n",
        "        # Scale edge_weights to sum to 1\n",
        "        self.edge_weights = self.edge_weights / tf.math.reduce_sum(self.edge_weights)\n",
        "\n",
        "        # Create a process layer\n",
        "        self.preprocess = create_ffn(hidden_units, dropout_rate, name=\"preprocess\")\n",
        "\n",
        "        # Create the first GraphConv layer\n",
        "        self.conv1 = GraphConvLayer(\n",
        "            hidden_units,\n",
        "            dropout_rate,\n",
        "            aggregation_type,\n",
        "            combination_type,\n",
        "            normalize,\n",
        "            name=\"GCN1\")\n",
        "        \n",
        "        \n",
        "        # Create the second GraphConv layer\n",
        "        self.conv2 = GraphConvLayer(\n",
        "            hidden_units,\n",
        "            dropout_rate,\n",
        "            aggregation_type,\n",
        "            combination_type,\n",
        "            normalize,\n",
        "            name=\"GCN2\")\n",
        "        \n",
        "        # Create a postprocess layer\n",
        "        self.postprocess = create_ffn(hidden_units, dropout_rate, name=\"postprocess\")\n",
        "        # Create a prob layer\n",
        "        self.compute_prob = tf.keras.layers.Dense(units=num_classes, activation='softmax')\n",
        "\n",
        "    def call(self, input_node_indices):\n",
        "        # Preprocess the node_features to produce node representations\n",
        "        x = self.preprocess(self.node_features)\n",
        "        # Apply the first graph conv layer\n",
        "        x1 = self.conv1((x, self.edges, self.edge_weights))\n",
        "        # Add skip connection\n",
        "        x = x1 + x\n",
        "        # Apply the second graph conv layer\n",
        "        x2 = self.conv2((x, self.edges, self.edge_weights))\n",
        "        # Add skip connection\n",
        "        x = x2 + x\n",
        "        # Postprocess node embedding\n",
        "        x = self.postprocess(x)\n",
        "        # Fetch node embeddings for the input node_indices\n",
        "        node_embeddings = tf.gather(x, input_node_indices)\n",
        "        # Compute probabilities for node embedings\n",
        "\n",
        "        return self.compute_prob(node_embeddings)\n"
      ],
      "metadata": {
        "id": "iTcYGYolEE-J"
      },
      "execution_count": 29,
      "outputs": []
    },
    {
      "cell_type": "code",
      "source": [
        "gnn_model = GNNNodeClassifier(\n",
        "    graph_info=graph_info,\n",
        "    num_classes=CLASS_NUM,\n",
        "    hidden_units=[32,32,16],\n",
        "    dropout_rate=0.2,\n",
        "    name=\"GCN_model\")\n",
        "\n",
        "print(\"GCN output shape:\", gnn_model([1, 10, 100]))\n",
        "\n",
        "gnn_model.summary()\n"
      ],
      "metadata": {
        "id": "w0EoMEu_PrgD",
        "colab": {
          "base_uri": "https://localhost:8080/"
        },
        "outputId": "72c3355a-bffd-4565-effb-f774dab30c62"
      },
      "execution_count": 35,
      "outputs": [
        {
          "output_type": "stream",
          "name": "stdout",
          "text": [
            "GCN output shape: tf.Tensor(\n",
            "[[0.14098431 0.14404644 0.14256401 0.14391491 0.14476548 0.14097025\n",
            "  0.14275466]\n",
            " [0.15067822 0.1493308  0.13832107 0.14541897 0.13805752 0.13712269\n",
            "  0.14107071]\n",
            " [0.20170474 0.16627187 0.12413982 0.13731392 0.12446828 0.11543201\n",
            "  0.13066933]], shape=(3, 7), dtype=float32)\n",
            "Model: \"GCN_model\"\n",
            "_________________________________________________________________\n",
            " Layer (type)                Output Shape              Param #   \n",
            "=================================================================\n",
            " preprocess (Sequential)     (2708, 16)                53496     \n",
            "                                                                 \n",
            " GCN1 (GraphConvLayer)       multiple                  5472      \n",
            "                                                                 \n",
            " GCN2 (GraphConvLayer)       multiple                  5472      \n",
            "                                                                 \n",
            " postprocess (Sequential)    (2708, 16)                2448      \n",
            "                                                                 \n",
            " dense_51 (Dense)            multiple                  119       \n",
            "                                                                 \n",
            "=================================================================\n",
            "Total params: 67,007\n",
            "Trainable params: 63,147\n",
            "Non-trainable params: 3,860\n",
            "_________________________________________________________________\n"
          ]
        }
      ]
    },
    {
      "cell_type": "code",
      "source": [
        "\n",
        "gnn_model.compile(optimizer=tf.keras.optimizers.Adam(0.001),loss=tf.keras.losses.SparseCategoricalCrossentropy(),metrics=['accuracy'])\n",
        "\n",
        "history = gnn_model.fit(X_train.ID.to_numpy(), y_train,epochs=EPOCHS, batch_size=BATCH,validation_split=0.1,callbacks=[es])\n"
      ],
      "metadata": {
        "id": "WWu5CCemPrcu",
        "colab": {
          "base_uri": "https://localhost:8080/"
        },
        "outputId": "fc302523-6b6e-4ae2-ac6b-dc937e9b8a42"
      },
      "execution_count": 36,
      "outputs": [
        {
          "output_type": "stream",
          "name": "stdout",
          "text": [
            "Epoch 1/250\n",
            "16/16 [==============================] - 33s 78ms/step - loss: 2.1756 - accuracy: 0.1329 - val_loss: 1.9505 - val_accuracy: 0.1106\n",
            "Epoch 2/250\n",
            "16/16 [==============================] - 0s 22ms/step - loss: 2.0989 - accuracy: 0.1334 - val_loss: 1.9467 - val_accuracy: 0.1521\n",
            "Epoch 3/250\n",
            "16/16 [==============================] - 0s 22ms/step - loss: 1.9959 - accuracy: 0.1709 - val_loss: 1.9405 - val_accuracy: 0.1659\n",
            "Epoch 4/250\n",
            "16/16 [==============================] - 0s 22ms/step - loss: 1.9456 - accuracy: 0.1919 - val_loss: 1.9305 - val_accuracy: 0.2811\n",
            "Epoch 5/250\n",
            "16/16 [==============================] - 0s 21ms/step - loss: 1.9251 - accuracy: 0.2258 - val_loss: 1.9151 - val_accuracy: 0.2811\n",
            "Epoch 6/250\n",
            "16/16 [==============================] - 0s 21ms/step - loss: 1.8956 - accuracy: 0.2360 - val_loss: 1.8999 - val_accuracy: 0.2811\n",
            "Epoch 7/250\n",
            "16/16 [==============================] - 0s 22ms/step - loss: 1.8523 - accuracy: 0.2673 - val_loss: 1.8828 - val_accuracy: 0.2811\n",
            "Epoch 8/250\n",
            "16/16 [==============================] - 0s 24ms/step - loss: 1.8285 - accuracy: 0.3048 - val_loss: 1.8701 - val_accuracy: 0.2811\n",
            "Epoch 9/250\n",
            "16/16 [==============================] - 0s 23ms/step - loss: 1.7706 - accuracy: 0.3289 - val_loss: 1.8590 - val_accuracy: 0.2811\n",
            "Epoch 10/250\n",
            "16/16 [==============================] - 0s 22ms/step - loss: 1.7264 - accuracy: 0.3504 - val_loss: 1.8476 - val_accuracy: 0.2765\n",
            "Epoch 11/250\n",
            "16/16 [==============================] - 0s 23ms/step - loss: 1.6973 - accuracy: 0.3746 - val_loss: 1.8313 - val_accuracy: 0.2857\n",
            "Epoch 12/250\n",
            "16/16 [==============================] - 0s 22ms/step - loss: 1.6487 - accuracy: 0.4048 - val_loss: 1.8131 - val_accuracy: 0.2995\n",
            "Epoch 13/250\n",
            "16/16 [==============================] - 0s 21ms/step - loss: 1.5863 - accuracy: 0.4402 - val_loss: 1.7952 - val_accuracy: 0.2995\n",
            "Epoch 14/250\n",
            "16/16 [==============================] - 0s 22ms/step - loss: 1.5090 - accuracy: 0.4710 - val_loss: 1.7474 - val_accuracy: 0.3502\n",
            "Epoch 15/250\n",
            "16/16 [==============================] - 0s 21ms/step - loss: 1.4587 - accuracy: 0.4936 - val_loss: 1.6907 - val_accuracy: 0.3963\n",
            "Epoch 16/250\n",
            "16/16 [==============================] - 0s 21ms/step - loss: 1.3951 - accuracy: 0.5218 - val_loss: 1.6462 - val_accuracy: 0.4332\n",
            "Epoch 17/250\n",
            "16/16 [==============================] - 0s 19ms/step - loss: 1.3205 - accuracy: 0.5500 - val_loss: 1.6479 - val_accuracy: 0.4608\n",
            "Epoch 18/250\n",
            "16/16 [==============================] - 0s 22ms/step - loss: 1.2302 - accuracy: 0.5818 - val_loss: 1.6098 - val_accuracy: 0.5069\n",
            "Epoch 19/250\n",
            "16/16 [==============================] - 0s 22ms/step - loss: 1.1536 - accuracy: 0.6101 - val_loss: 1.5297 - val_accuracy: 0.5253\n",
            "Epoch 20/250\n",
            "16/16 [==============================] - 0s 25ms/step - loss: 1.0900 - accuracy: 0.6316 - val_loss: 1.5156 - val_accuracy: 0.5346\n",
            "Epoch 21/250\n",
            "16/16 [==============================] - 0s 22ms/step - loss: 1.0401 - accuracy: 0.6465 - val_loss: 1.4902 - val_accuracy: 0.5300\n",
            "Epoch 22/250\n",
            "16/16 [==============================] - 0s 18ms/step - loss: 0.9926 - accuracy: 0.6578 - val_loss: 1.4986 - val_accuracy: 0.5346\n",
            "Epoch 23/250\n",
            "16/16 [==============================] - 0s 21ms/step - loss: 0.9645 - accuracy: 0.6762 - val_loss: 1.4471 - val_accuracy: 0.5622\n",
            "Epoch 24/250\n",
            "16/16 [==============================] - 0s 27ms/step - loss: 0.8967 - accuracy: 0.6973 - val_loss: 1.4114 - val_accuracy: 0.5622\n",
            "Epoch 25/250\n",
            "16/16 [==============================] - 0s 29ms/step - loss: 0.8585 - accuracy: 0.7029 - val_loss: 1.4104 - val_accuracy: 0.5668\n",
            "Epoch 26/250\n",
            "16/16 [==============================] - 0s 30ms/step - loss: 0.8384 - accuracy: 0.7127 - val_loss: 1.3891 - val_accuracy: 0.5760\n",
            "Epoch 27/250\n",
            "16/16 [==============================] - 0s 30ms/step - loss: 0.7621 - accuracy: 0.7296 - val_loss: 1.3506 - val_accuracy: 0.5991\n",
            "Epoch 28/250\n",
            "16/16 [==============================] - 0s 31ms/step - loss: 0.7426 - accuracy: 0.7517 - val_loss: 1.3160 - val_accuracy: 0.6083\n",
            "Epoch 29/250\n",
            "16/16 [==============================] - 1s 33ms/step - loss: 0.6995 - accuracy: 0.7527 - val_loss: 1.3101 - val_accuracy: 0.6267\n",
            "Epoch 30/250\n",
            "16/16 [==============================] - 1s 32ms/step - loss: 0.6679 - accuracy: 0.7619 - val_loss: 1.3275 - val_accuracy: 0.6313\n",
            "Epoch 31/250\n",
            "16/16 [==============================] - 0s 30ms/step - loss: 0.6827 - accuracy: 0.7583 - val_loss: 1.3600 - val_accuracy: 0.6359\n",
            "Epoch 32/250\n",
            "16/16 [==============================] - 1s 33ms/step - loss: 0.5784 - accuracy: 0.8066 - val_loss: 1.2829 - val_accuracy: 0.6498\n",
            "Epoch 33/250\n",
            "16/16 [==============================] - 0s 31ms/step - loss: 0.5956 - accuracy: 0.7912 - val_loss: 1.2334 - val_accuracy: 0.6682\n",
            "Epoch 34/250\n",
            "16/16 [==============================] - 0s 28ms/step - loss: 0.5724 - accuracy: 0.8184 - val_loss: 1.2672 - val_accuracy: 0.6452\n",
            "Epoch 35/250\n",
            "16/16 [==============================] - 0s 19ms/step - loss: 0.5350 - accuracy: 0.8225 - val_loss: 1.2915 - val_accuracy: 0.6406\n",
            "Epoch 36/250\n",
            "16/16 [==============================] - 0s 19ms/step - loss: 0.4845 - accuracy: 0.8450 - val_loss: 1.3419 - val_accuracy: 0.6313\n",
            "Epoch 37/250\n",
            "16/16 [==============================] - 0s 19ms/step - loss: 0.5040 - accuracy: 0.8374 - val_loss: 1.3275 - val_accuracy: 0.6359\n",
            "Epoch 38/250\n",
            "16/16 [==============================] - 0s 20ms/step - loss: 0.4564 - accuracy: 0.8610 - val_loss: 1.3747 - val_accuracy: 0.6636\n",
            "Epoch 39/250\n",
            "16/16 [==============================] - 0s 19ms/step - loss: 0.4507 - accuracy: 0.8610 - val_loss: 1.3626 - val_accuracy: 0.6636\n",
            "Epoch 40/250\n",
            "16/16 [==============================] - 0s 18ms/step - loss: 0.4234 - accuracy: 0.8599 - val_loss: 1.4165 - val_accuracy: 0.6498\n",
            "Epoch 41/250\n",
            "16/16 [==============================] - 0s 20ms/step - loss: 0.3950 - accuracy: 0.8758 - val_loss: 1.4301 - val_accuracy: 0.6498\n",
            "Epoch 42/250\n",
            "16/16 [==============================] - 0s 19ms/step - loss: 0.3576 - accuracy: 0.8861 - val_loss: 1.4358 - val_accuracy: 0.6544\n",
            "Epoch 43/250\n",
            "16/16 [==============================] - 0s 19ms/step - loss: 0.3565 - accuracy: 0.8856 - val_loss: 1.4129 - val_accuracy: 0.6406\n",
            "Epoch 44/250\n",
            "16/16 [==============================] - 0s 19ms/step - loss: 0.3332 - accuracy: 0.8938 - val_loss: 1.4435 - val_accuracy: 0.6313\n",
            "Epoch 45/250\n",
            "16/16 [==============================] - 0s 19ms/step - loss: 0.3293 - accuracy: 0.8964 - val_loss: 1.4691 - val_accuracy: 0.6406\n",
            "Epoch 46/250\n",
            "16/16 [==============================] - 0s 19ms/step - loss: 0.3286 - accuracy: 0.8953 - val_loss: 1.4776 - val_accuracy: 0.6452\n",
            "Epoch 47/250\n",
            "16/16 [==============================] - 0s 18ms/step - loss: 0.3266 - accuracy: 0.9092 - val_loss: 1.4265 - val_accuracy: 0.6636\n",
            "Epoch 48/250\n",
            "16/16 [==============================] - 0s 19ms/step - loss: 0.2929 - accuracy: 0.9061 - val_loss: 1.3850 - val_accuracy: 0.6636\n",
            "Epoch 49/250\n",
            "16/16 [==============================] - 0s 19ms/step - loss: 0.2933 - accuracy: 0.9184 - val_loss: 1.3922 - val_accuracy: 0.6728\n",
            "Epoch 50/250\n",
            "16/16 [==============================] - 0s 18ms/step - loss: 0.2605 - accuracy: 0.9230 - val_loss: 1.3943 - val_accuracy: 0.6820\n",
            "Epoch 51/250\n",
            "16/16 [==============================] - 0s 19ms/step - loss: 0.2611 - accuracy: 0.9220 - val_loss: 1.4328 - val_accuracy: 0.6820\n",
            "Epoch 52/250\n",
            "16/16 [==============================] - 0s 19ms/step - loss: 0.2833 - accuracy: 0.9153 - val_loss: 1.4222 - val_accuracy: 0.6820\n",
            "Epoch 53/250\n",
            "16/16 [==============================] - 0s 19ms/step - loss: 0.2297 - accuracy: 0.9251 - val_loss: 1.4042 - val_accuracy: 0.6820\n",
            "Epoch 54/250\n",
            "16/16 [==============================] - 0s 19ms/step - loss: 0.2488 - accuracy: 0.9266 - val_loss: 1.4384 - val_accuracy: 0.6682\n",
            "Epoch 55/250\n",
            "16/16 [==============================] - 0s 19ms/step - loss: 0.2198 - accuracy: 0.9359 - val_loss: 1.4979 - val_accuracy: 0.6820\n",
            "Epoch 56/250\n",
            "16/16 [==============================] - 0s 18ms/step - loss: 0.2192 - accuracy: 0.9312 - val_loss: 1.4919 - val_accuracy: 0.6728\n",
            "Epoch 57/250\n",
            "16/16 [==============================] - 0s 18ms/step - loss: 0.1992 - accuracy: 0.9446 - val_loss: 1.5175 - val_accuracy: 0.6728\n",
            "Epoch 58/250\n",
            "16/16 [==============================] - 0s 20ms/step - loss: 0.2054 - accuracy: 0.9395 - val_loss: 1.5585 - val_accuracy: 0.6774\n",
            "Epoch 59/250\n",
            "16/16 [==============================] - 0s 19ms/step - loss: 0.2058 - accuracy: 0.9430 - val_loss: 1.5796 - val_accuracy: 0.6774\n",
            "Epoch 60/250\n",
            "16/16 [==============================] - 0s 20ms/step - loss: 0.2014 - accuracy: 0.9379 - val_loss: 1.5680 - val_accuracy: 0.6866\n",
            "Epoch 61/250\n",
            "16/16 [==============================] - 0s 20ms/step - loss: 0.1897 - accuracy: 0.9456 - val_loss: 1.5985 - val_accuracy: 0.6912\n",
            "Epoch 62/250\n",
            "16/16 [==============================] - 0s 19ms/step - loss: 0.2019 - accuracy: 0.9379 - val_loss: 1.6459 - val_accuracy: 0.6866\n",
            "Epoch 63/250\n",
            "16/16 [==============================] - 0s 18ms/step - loss: 0.2009 - accuracy: 0.9374 - val_loss: 1.5281 - val_accuracy: 0.6959\n",
            "Epoch 64/250\n",
            "16/16 [==============================] - 0s 19ms/step - loss: 0.1795 - accuracy: 0.9461 - val_loss: 1.4855 - val_accuracy: 0.7051\n",
            "Epoch 65/250\n",
            "16/16 [==============================] - 0s 19ms/step - loss: 0.1732 - accuracy: 0.9441 - val_loss: 1.5373 - val_accuracy: 0.7051\n",
            "Epoch 66/250\n",
            "16/16 [==============================] - 0s 20ms/step - loss: 0.1608 - accuracy: 0.9543 - val_loss: 1.5530 - val_accuracy: 0.7005\n",
            "Epoch 67/250\n",
            "16/16 [==============================] - 0s 28ms/step - loss: 0.1401 - accuracy: 0.9631 - val_loss: 1.5886 - val_accuracy: 0.7051\n",
            "Epoch 68/250\n",
            "16/16 [==============================] - 0s 27ms/step - loss: 0.1648 - accuracy: 0.9595 - val_loss: 1.6244 - val_accuracy: 0.7051\n",
            "Epoch 69/250\n",
            "16/16 [==============================] - 0s 26ms/step - loss: 0.1524 - accuracy: 0.9584 - val_loss: 1.6480 - val_accuracy: 0.7051\n",
            "Epoch 70/250\n",
            "16/16 [==============================] - 0s 28ms/step - loss: 0.1688 - accuracy: 0.9538 - val_loss: 1.6407 - val_accuracy: 0.7051\n",
            "Epoch 71/250\n",
            "16/16 [==============================] - 0s 29ms/step - loss: 0.1548 - accuracy: 0.9513 - val_loss: 1.5940 - val_accuracy: 0.6912\n",
            "Epoch 72/250\n",
            "16/16 [==============================] - 0s 29ms/step - loss: 0.1544 - accuracy: 0.9523 - val_loss: 1.5933 - val_accuracy: 0.6959\n",
            "Epoch 73/250\n",
            "16/16 [==============================] - 0s 29ms/step - loss: 0.1596 - accuracy: 0.9497 - val_loss: 1.6681 - val_accuracy: 0.7051\n",
            "Epoch 74/250\n",
            "16/16 [==============================] - 0s 29ms/step - loss: 0.1535 - accuracy: 0.9554 - val_loss: 1.8550 - val_accuracy: 0.6774\n",
            "Epoch 75/250\n",
            "16/16 [==============================] - 0s 31ms/step - loss: 0.1427 - accuracy: 0.9615 - val_loss: 1.7371 - val_accuracy: 0.7051\n",
            "Epoch 76/250\n",
            "16/16 [==============================] - 0s 31ms/step - loss: 0.1193 - accuracy: 0.9687 - val_loss: 1.7142 - val_accuracy: 0.7097\n",
            "Epoch 77/250\n",
            "16/16 [==============================] - 0s 30ms/step - loss: 0.1329 - accuracy: 0.9595 - val_loss: 1.7433 - val_accuracy: 0.6912\n",
            "Epoch 78/250\n",
            "16/16 [==============================] - 0s 25ms/step - loss: 0.1262 - accuracy: 0.9672 - val_loss: 1.7759 - val_accuracy: 0.7005\n",
            "Epoch 79/250\n",
            "16/16 [==============================] - 0s 19ms/step - loss: 0.1230 - accuracy: 0.9656 - val_loss: 1.6806 - val_accuracy: 0.7097\n",
            "Epoch 80/250\n",
            "16/16 [==============================] - 0s 20ms/step - loss: 0.1345 - accuracy: 0.9651 - val_loss: 1.6490 - val_accuracy: 0.6866\n",
            "Epoch 81/250\n",
            "16/16 [==============================] - 0s 20ms/step - loss: 0.1083 - accuracy: 0.9708 - val_loss: 1.6735 - val_accuracy: 0.7097\n",
            "Epoch 82/250\n",
            "16/16 [==============================] - 0s 21ms/step - loss: 0.1253 - accuracy: 0.9615 - val_loss: 1.6700 - val_accuracy: 0.7143\n",
            "Epoch 83/250\n",
            "16/16 [==============================] - 0s 23ms/step - loss: 0.1172 - accuracy: 0.9677 - val_loss: 1.6821 - val_accuracy: 0.7189\n"
          ]
        }
      ]
    },
    {
      "cell_type": "code",
      "source": [
        "results=history.history\n",
        "epoch=len(history.epoch)\n",
        "results.keys()\n",
        "fig,ax=plt.subplots(1,2, figsize=(10,5))\n",
        "ax.flatten()\n",
        "ax[0].plot(np.arange(1,epoch+1),results['loss'],'b-',label='Training loss')\n",
        "ax[0].plot(np.arange(1,epoch+1),results['val_loss'],'r-',label='Val loss')\n",
        "ax[0].legend()\n",
        "ax[1].plot(np.arange(1,epoch+1),results['accuracy'],'b-',label='Training accuracy')\n",
        "ax[1].plot(np.arange(1,epoch+1),results['val_accuracy'],'r-',label='Val accuracy')\n",
        "ax[1].legend()\n",
        "plt.show()"
      ],
      "metadata": {
        "colab": {
          "base_uri": "https://localhost:8080/",
          "height": 320
        },
        "id": "2QW8jvG4ePNl",
        "outputId": "a21043e4-6edf-4f2d-f69a-22f05b2c2725"
      },
      "execution_count": 37,
      "outputs": [
        {
          "output_type": "display_data",
          "data": {
            "text/plain": [
              "<Figure size 720x360 with 2 Axes>"
            ],
            "image/png": "[encoded data removed]"
          },
          "metadata": {
            "needs_background": "light"
          }
        }
      ]
    },
    {
      "cell_type": "code",
      "source": [
        "#Evaluate baseline model\n",
        "\n",
        "test_loss,test_acc=gnn_model.evaluate(X_test.ID.to_numpy(),y_test)\n",
        "print(f\"Baseline model test accuracy {test_acc} and loss {test_loss}\")"
      ],
      "metadata": {
        "colab": {
          "base_uri": "https://localhost:8080/"
        },
        "id": "LDwx-uhCeO7V",
        "outputId": "b165afa6-9a65-4172-b60f-db2b2e849264"
      },
      "execution_count": 38,
      "outputs": [
        {
          "output_type": "stream",
          "name": "stdout",
          "text": [
            "17/17 [==============================] - 0s 5ms/step - loss: 1.1339 - accuracy: 0.6624\n",
            "Baseline model test accuracy 0.6623616218566895 and loss 1.1339373588562012\n"
          ]
        }
      ]
    },
    {
      "cell_type": "code",
      "source": [
        "#Predict values\n",
        "y_pred=gnn_model.predict(X_test.ID.to_numpy())\n",
        "y_pred_vals=np.argmax(y_pred,axis=1)\n",
        "classification_summary(y_test,y_pred_vals,labels=class_idxs.keys())"
      ],
      "metadata": {
        "colab": {
          "base_uri": "https://localhost:8080/",
          "height": 667
        },
        "id": "aBa_ECFzqyyf",
        "outputId": "75690a48-3d03-43d8-8414-8f6244083998"
      },
      "execution_count": 39,
      "outputs": [
        {
          "output_type": "stream",
          "name": "stdout",
          "text": [
            "17/17 [==============================] - 1s 4ms/step\n",
            "              precision    recall  f1-score   support\n",
            "\n",
            "           0       0.73      0.52      0.61        63\n",
            "           1       0.78      0.91      0.84        80\n",
            "           2       0.57      0.89      0.69       152\n",
            "           3       0.82      0.72      0.76        88\n",
            "           4       0.83      0.56      0.67        54\n",
            "           5       0.90      0.24      0.38        37\n",
            "           6       0.37      0.22      0.28        68\n",
            "\n",
            "    accuracy                           0.66       542\n",
            "   macro avg       0.71      0.58      0.61       542\n",
            "weighted avg       0.68      0.66      0.64       542\n",
            "\n"
          ]
        },
        {
          "output_type": "display_data",
          "data": {
            "text/plain": [
              "<Figure size 432x288 with 2 Axes>"
            ],
            "image/png": "[encoded data removed]"
          },
          "metadata": {
            "needs_background": "light"
          }
        }
      ]
    }
  ]
}